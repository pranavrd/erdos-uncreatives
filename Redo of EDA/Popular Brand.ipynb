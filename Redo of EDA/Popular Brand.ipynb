{
 "cells": [
  {
   "cell_type": "markdown",
   "id": "adb01222-c61b-4f7d-a664-83c8f142f636",
   "metadata": {},
   "source": [
    "In this notebook we will conduct exploratory data analysisfor the question \"What effect does mentioning popular brands have on engagement?\" We will look at mentions both in the title and in the description. \n",
    "\n",
    "We have two kinds of engagement metrics: likes/subscriber and comments/subscriber. Both of these are highly correlated with views, since a short must be seen before it can be commented on/liked. \n",
    "\n",
    "We have hand-selected 30 popular beauty brands; 15 of these are skincare brands and 15 of these are makeup brands. This list is subjective and may not be exhaustive but should cover a good number of popular brands. \n",
    "\n",
    "Brands:\n",
    "Makeup:\n",
    "1) Natasha Denona\n",
    "2) Tower 28\n",
    "3) Pat McGrath\n",
    "4) Urban Decay\n",
    "5) ColourPop\n",
    "6) Fenty Beauty\n",
    "7) E.L.F. cosmetics\n",
    "8) Nyx professional makeup\n",
    "9) Essence\n",
    "10) Benefit Cosmetics\n",
    "11) Anastasia Beverly Hills\n",
    "12) Tarte\n",
    "13) Milk Makeup\n",
    "14) Maybelline\n",
    "15) Oden's Eye\n",
    "\n",
    "Skincare:\n",
    "1) The Ordinary\n",
    "2) Beauty of Josean\n",
    "3) Bubble\n",
    "4) Paula's Choice\n",
    "5) Cerave\n",
    "6) Good Molecules\n",
    "7) Cosrx\n",
    "8) Olive Young\n",
    "9) Dennis Grossman\n",
    "10) Skinfix\n",
    "11) Drunk Elephant\n",
    "12) La Roche-Posay\n",
    "13) Supergoop\n",
    "14) Glow Recipe\n",
    "15) Rhode"
   ]
  },
  {
   "cell_type": "code",
   "execution_count": 3,
   "id": "0d154c66-7c47-4fb5-8cd0-2d1758bd22b0",
   "metadata": {},
   "outputs": [],
   "source": [
    "mentions = [\"natasha denona\", \"natashadenona\", \"denona\", \"tower 28\", \"tower28\", \"pat mcgrath\", \"pmg labs\", \"mcgrath\", \"patmcgrath\"]\n",
    "mentions += [\"urban decay\", \"urbandecay\", \"colourpop\", \"colorpop\", \"colour pop\", \"fenty\", \"e.l.f.\", \"elf\", \"nyx\", \"essence\", \"benefit\"]\n",
    "mentions += [\"anastasia\", \"abh\", \"tarte\", \"milk\", \"maybelline\", \"oden's eye\", \"oden'seye\", \"odenseye\", \"the ordinary\", \"theordinary\"]\n",
    "mentions += [\"beauty of josean\", \"josean\", \"bubble\", \"paula's choice\", \"paula'schoice\", \"paulaschoice\", \"cerave\", \"good molecules\"]\n",
    "mentions += [\"cosrx\", \"olive young\", \"oliveyoung\", \"grossman\", \"skinfix\", \"drunk elephant\", \"drunkelephant\", \"roche-posay\", \"roche posay\", \"rocheposay\"]\n",
    "mentions += [\"supergoop\", \"glow recipe\", \"glowrecipe\", \"rhode\"]\n",
    "\n",
    "import pandas as pd\n",
    "import numpy as np\n",
    "import matplotlib.pyplot as plt\n",
    "import seaborn as sns\n",
    "\n",
    "df1 = pd.read_csv(\"clean_data_train.csv\")\n",
    "df2 = pd.read_csv(\"no_early_dates_30_days_train.csv\")\n",
    "\n",
    "text_list = []\n",
    "for item in df1[\"text\"]:\n",
    "    x = item if type(item) == str else '' \n",
    "    text_list.append(x)\n",
    "\n",
    "df1[\"text\"] = np.array(text_list)\n",
    "\n",
    "text_list = []\n",
    "for item in df2[\"text\"]:\n",
    "    x = item if type(item) == str else '' \n",
    "    text_list.append(x)\n",
    "\n",
    "df2[\"text\"] = np.array(text_list)"
   ]
  },
  {
   "cell_type": "code",
   "execution_count": 7,
   "id": "0e9b7894-9c2d-4d8b-8fa0-4a84960d598b",
   "metadata": {},
   "outputs": [],
   "source": [
    "#I am now creating an indicator variable that is True if the brand is mentioned and False otherwise. \n",
    "\n",
    "df1[\"title plus desc\"] = df1[\"title\"] + df1[\"text\"] #Creating a single column of both title and description so that my for loop works in the next step. \n",
    "\n",
    "popb_list = []\n",
    "for item in df1[\"title plus desc\"]:\n",
    "    item = item.lower()\n",
    "\n",
    "    ment_bool = False\n",
    "    for ment in mentions:\n",
    "        if (ment in item):\n",
    "            ment_bool = True\n",
    "\n",
    "    popb_list.append(ment_bool) \n",
    "    \n",
    "df1[\"popular brand ind\"] = np.array(popb_list) \n",
    "\n",
    "#I am now creating an indicator variable that is True if the brand is mentioned and False otherwise for df2\n",
    "\n",
    "df2[\"title plus desc\"] = df2[\"title\"] + df2[\"text\"] #Creating a single column of both title and description so that my for loop works in the next step. \n",
    "\n",
    "popb_list = []\n",
    "for item in df2[\"title plus desc\"]:\n",
    "    item = item.lower()\n",
    "\n",
    "    ment_bool = False\n",
    "    for ment in mentions:\n",
    "        if (ment in item):\n",
    "            ment_bool = True\n",
    "\n",
    "    popb_list.append(ment_bool) \n",
    "    \n",
    "df2[\"popular brand ind\"] = np.array(popb_list) "
   ]
  },
  {
   "cell_type": "code",
   "execution_count": 13,
   "id": "96cdd093-5aed-4e7b-afc7-3f2f5fd260de",
   "metadata": {},
   "outputs": [
    {
     "name": "stdout",
     "output_type": "stream",
     "text": [
      "(870, 28)\n",
      "(5790, 28)\n"
     ]
    }
   ],
   "source": [
    "df1_yes = df1.loc[  df1[\"popular brand ind\"] == True]\n",
    "df1_no = df1.loc[  df1[\"popular brand ind\"] == False]\n",
    "\n",
    "print(df1_yes.shape)\n",
    "print(df1.shape)\n",
    "#This tells me 870 posts mention popular brands. This is a good number."
   ]
  },
  {
   "cell_type": "code",
   "execution_count": 15,
   "id": "86964ecb-d0c5-4782-9a83-0e6641746cc3",
   "metadata": {},
   "outputs": [
    {
     "name": "stdout",
     "output_type": "stream",
     "text": [
      "(1266, 27)\n",
      "(7937, 27)\n"
     ]
    }
   ],
   "source": [
    "df2_yes = df2.loc[  df2[\"popular brand ind\"] == True]\n",
    "df2_no = df2.loc[  df2[\"popular brand ind\"] == False]\n",
    "\n",
    "print(df2_yes.shape)\n",
    "print(df2.shape)\n",
    "#This tells me 1266 posts mention popular brands. This is a good number."
   ]
  },
  {
   "cell_type": "code",
   "execution_count": 29,
   "id": "da689610-a1d3-4a97-8cad-04dfeb53a999",
   "metadata": {},
   "outputs": [
    {
     "name": "stdout",
     "output_type": "stream",
     "text": [
      "1.9040020843261447\n",
      "0.7610972067437469\n",
      "0.9433975185768472\n"
     ]
    }
   ],
   "source": [
    "print(df2_yes[\"views_per_subscriber\"].mean())\n",
    "print(df2_no[\"views_per_subscriber\"].mean())\n",
    "print(df2[\"views_per_subscriber\"].mean())"
   ]
  },
  {
   "cell_type": "code",
   "execution_count": 31,
   "id": "e8a13804-cdb2-43b2-b746-de17b99a3f8b",
   "metadata": {},
   "outputs": [
    {
     "name": "stdout",
     "output_type": "stream",
     "text": [
      "0.05917265855890454\n",
      "0.039319825967545206\n",
      "0.04248647407900557\n"
     ]
    }
   ],
   "source": [
    "print(df2_yes[\"likes_per_subscriber\"].mean())\n",
    "print(df2_no[\"likes_per_subscriber\"].mean())\n",
    "print(df2[\"likes_per_subscriber\"].mean())"
   ]
  },
  {
   "cell_type": "code",
   "execution_count": 33,
   "id": "8afdb16a-ebaa-40cf-9514-3dee7e4ce42b",
   "metadata": {},
   "outputs": [
    {
     "name": "stdout",
     "output_type": "stream",
     "text": [
      "0.0005353636478497805\n",
      "0.00046479661517011717\n",
      "0.00047605248809092534\n"
     ]
    }
   ],
   "source": [
    "print(df2_yes[\"comments_per_subscriber\"].mean())\n",
    "print(df2_no[\"comments_per_subscriber\"].mean())\n",
    "print(df2[\"comments_per_subscriber\"].mean())\n",
    "\n",
    "#We want to use df2 when looking at the above calculations since likes, comments, and views accumulate over time. "
   ]
  },
  {
   "cell_type": "markdown",
   "id": "493b876c-4228-4ebf-adb1-e54c71f700f1",
   "metadata": {},
   "source": [
    "Here are my initial thoughts based on the analysis: Mentioning popular brands seems to significantly improve views. It seems to improves likes/comments, but not necessarily significantly. This is quite strange! One reason for this might be because these posts tend to mention popular brands in hashtags, which improve views, even though people overall are not more likely to comment or like on your post just because you mentioned a popular brand. "
   ]
  },
  {
   "cell_type": "code",
   "execution_count": 36,
   "id": "5add7177-5f4d-4873-9a0a-831cb9c15421",
   "metadata": {},
   "outputs": [
    {
     "name": "stdout",
     "output_type": "stream",
     "text": [
      "0.005443751267405046\n",
      "2.546889441241137\n"
     ]
    }
   ],
   "source": [
    "#We are allowed to run as many t-tests as we like on the training set. \n",
    "import scipy.stats as stats\n",
    "t_stat, p_value = stats.ttest_ind(df2_yes[\"views_per_subscriber\"], df2_no[\"views_per_subscriber\"] ) \n",
    "print(p_value/2) #We are really doing a one-tailed t-test so we divide the p-value by 2. \n",
    "print(t_stat)"
   ]
  },
  {
   "cell_type": "markdown",
   "id": "07a3b118-a05e-4558-8201-b90fe1a164c1",
   "metadata": {},
   "source": [
    "Yes, mentioning a popular brand seems to significantly improve views."
   ]
  }
 ],
 "metadata": {
  "kernelspec": {
   "display_name": "Python 3 (ipykernel)",
   "language": "python",
   "name": "python3"
  },
  "language_info": {
   "codemirror_mode": {
    "name": "ipython",
    "version": 3
   },
   "file_extension": ".py",
   "mimetype": "text/x-python",
   "name": "python",
   "nbconvert_exporter": "python",
   "pygments_lexer": "ipython3",
   "version": "3.12.4"
  }
 },
 "nbformat": 4,
 "nbformat_minor": 5
}
