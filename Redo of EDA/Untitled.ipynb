{
 "cells": [
  {
   "cell_type": "code",
   "execution_count": 1,
   "id": "e6d196eb-85dd-4c99-b1fe-325d847de358",
   "metadata": {},
   "outputs": [],
   "source": [
    "#In this notebook, we make a 50-50 split of our data. \n",
    "\n",
    "import pandas as pd\n",
    "import numpy as np\n",
    "\n",
    "df1 = pd.read_csv(\"../Data_Cleaning_Only/cleaned_data_correct_dates.csv\")\n",
    "df2 = pd.read_csv(\"../Data_Cleaning_Only/no_early_dates_30_days.csv\")"
   ]
  },
  {
   "cell_type": "code",
   "execution_count": 3,
   "id": "d8295055-b314-4830-b81f-0b5d2fe3e107",
   "metadata": {},
   "outputs": [],
   "source": [
    "from sklearn.model_selection import train_test_split\n",
    "\n",
    "df1_train, df1_test = train_test_split( df1, shuffle = True, test_size = .5, random_state = 42)\n",
    "df2_train, df2_test = train_test_split( df2, shuffle = True, test_size = .5, random_state = 43)\n",
    "\n",
    "df2_train.to_csv(\"clean_data_train.csv\")\n",
    "df2_test.to_csv(\"clean_data_test.csv\")\n",
    "\n",
    "df1_train.to_csv(\"no_early_dates_30_days_train.csv\")\n",
    "df1_test.to_csv(\"no_early_dates_30_days_test.csv\")"
   ]
  },
  {
   "cell_type": "code",
   "execution_count": null,
   "id": "2aed298a-e9b4-4448-9eda-cb5b7ecf2857",
   "metadata": {},
   "outputs": [],
   "source": []
  }
 ],
 "metadata": {
  "kernelspec": {
   "display_name": "Python 3 (ipykernel)",
   "language": "python",
   "name": "python3"
  },
  "language_info": {
   "codemirror_mode": {
    "name": "ipython",
    "version": 3
   },
   "file_extension": ".py",
   "mimetype": "text/x-python",
   "name": "python",
   "nbconvert_exporter": "python",
   "pygments_lexer": "ipython3",
   "version": "3.12.4"
  }
 },
 "nbformat": 4,
 "nbformat_minor": 5
}
