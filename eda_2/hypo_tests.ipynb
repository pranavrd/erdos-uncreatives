{
 "cells": [
  {
   "cell_type": "code",
   "execution_count": 16,
   "id": "41aea495",
   "metadata": {},
   "outputs": [],
   "source": [
    "import pandas as pd\n",
    "import numpy as np\n",
    "from scipy.stats import ttest_ind, mannwhitneyu"
   ]
  },
  {
   "cell_type": "code",
   "execution_count": 3,
   "id": "6c0c566e",
   "metadata": {},
   "outputs": [
    {
     "data": {
      "text/plain": [
       "Index(['Unnamed: 0.1', 'Unnamed: 0', 'channelDescription', 'channelJoinedDate',\n",
       "       'channelTotalVideos', 'channelTotalViews', 'channelUsername',\n",
       "       'commentsCount', 'date', 'duration', 'id', 'isChannelVerified', 'likes',\n",
       "       'numberOfSubscribers', 'order', 'text', 'title', 'url', 'viewCount',\n",
       "       'likes_per_subscriber', 'comments_per_subscriber',\n",
       "       'views_per_subscriber', 'duration_in_seconds', 'datetime',\n",
       "       'datetime_date'],\n",
       "      dtype='object')"
      ]
     },
     "execution_count": 3,
     "metadata": {},
     "output_type": "execute_result"
    }
   ],
   "source": [
    "df = pd.read_csv('../data/new/no_early_dates_30_days_test.csv')\n",
    "df.columns"
   ]
  },
  {
   "cell_type": "code",
   "execution_count": 5,
   "id": "4f01c626",
   "metadata": {},
   "outputs": [],
   "source": [
    "df['views_per_subscriber'] = df['viewCount'] / df['numberOfSubscribers']\n",
    "\n",
    "# Handle potential issues (e.g., division by zero, missing values)\n",
    "df = df.replace([np.inf, -np.inf], np.nan)  # Replace infinities\n",
    "df = df.dropna(subset=['views_per_subscriber'])  # Drop rows with NaN"
   ]
  },
  {
   "cell_type": "code",
   "execution_count": 7,
   "id": "4af641a9",
   "metadata": {},
   "outputs": [],
   "source": [
    "if 'hasHashtagTitle' not in df.columns:\n",
    "    df['hasHashtagTitle'] = df['title'].str.contains(r'#\\w+', case=False, na=False).astype(int)\n",
    "if 'hasHashtagDescription' not in df.columns:\n",
    "    df['hasHashtagDescription'] = df['text'].str.contains(r'#\\w+', case=False, na=False).astype(int)\n",
    "\n",
    "# Create a combined feature: 1 if hashtag in either title or description, 0 otherwise\n",
    "df['has_hashtag_any'] = ((df['hasHashtagTitle'] == 1) | (df['hasHashtagDescription'] == 1)).astype(int)\n",
    "\n",
    "# Step 3: Split data into two groups\n",
    "group_with_hashtag = df[df['has_hashtag_any'] == 1]['views_per_subscriber']\n",
    "group_without_hashtag = df[df['has_hashtag_any'] == 0]['views_per_subscriber']"
   ]
  },
  {
   "cell_type": "code",
   "execution_count": 8,
   "id": "fae1e0b1",
   "metadata": {},
   "outputs": [],
   "source": [
    "t_stat, p_value_two_tailed = ttest_ind(group_with_hashtag, group_without_hashtag, equal_var=False)\n",
    "\n",
    "if t_stat > 0:\n",
    "    p_value_one_tailed = p_value_two_tailed / 2\n",
    "else:\n",
    "    p_value_one_tailed = 1 - (p_value_two_tailed / 2)\n",
    "\n",
    "mean_with = group_with_hashtag.mean()\n",
    "mean_without = group_without_hashtag.mean()\n",
    "std_with = group_with_hashtag.std(ddof=1)\n",
    "std_without = group_without_hashtag.std(ddof=1)\n",
    "n_with = len(group_with_hashtag)\n",
    "n_without = len(group_without_hashtag)\n",
    "\n",
    "pooled_std = np.sqrt(((n_with - 1) * std_with**2 + (n_without - 1) * std_without**2) / (n_with + n_without - 2))\n",
    "cohens_d = (mean_with - mean_without) / pooled_std"
   ]
  },
  {
   "cell_type": "code",
   "execution_count": 9,
   "id": "47934824",
   "metadata": {},
   "outputs": [
    {
     "name": "stdout",
     "output_type": "stream",
     "text": [
      "T-test for views_per_subscriber by Hashtag in Title or Description:\n",
      "T-statistic = 4.0818, p-value (one-tailed) = 0.0000\n",
      "Effect Size (Cohen's d) = 0.0816\n",
      "Mean views_per_subscriber (with hashtag) = 0.9418\n",
      "Mean views_per_subscriber (without hashtag) = 0.5027\n",
      "Sample size (with hashtag) = 5108, (without hashtag) = 2829\n",
      "Reject the null hypothesis: Hashtags in title or description significantly increase the mean views_per_subscriber.\n"
     ]
    }
   ],
   "source": [
    "print(f\"T-test for views_per_subscriber by Hashtag in Title or Description:\")\n",
    "print(f\"T-statistic = {t_stat:.4f}, p-value (one-tailed) = {p_value_one_tailed:.4f}\")\n",
    "print(f\"Effect Size (Cohen's d) = {cohens_d:.4f}\")\n",
    "print(f\"Mean views_per_subscriber (with hashtag) = {mean_with:.4f}\")\n",
    "print(f\"Mean views_per_subscriber (without hashtag) = {mean_without:.4f}\")\n",
    "print(f\"Sample size (with hashtag) = {n_with}, (without hashtag) = {n_without}\")\n",
    "\n",
    "alpha = 0.05\n",
    "if p_value_one_tailed < alpha and t_stat > 0:\n",
    "    print(\"Reject the null hypothesis: Hashtags in title or description significantly increase the mean views_per_subscriber.\")\n",
    "else:\n",
    "    print(\"Fail to reject the null hypothesis: No significant evidence that hashtags in title or description increase the mean views_per_subscriber.\")"
   ]
  },
  {
   "cell_type": "code",
   "execution_count": null,
   "id": "25226421",
   "metadata": {},
   "outputs": [
    {
     "name": "stdout",
     "output_type": "stream",
     "text": [
      "Mann-Whitney U test: stat = 8216485.5000, p-value (one-tailed) = 0.0000\n"
     ]
    }
   ],
   "source": [
    "stat, p_value = mannwhitneyu(group_with_hashtag, group_without_hashtag, alternative='greater')\n",
    "print(f\"Mann-Whitney U test: stat = {stat:.4f}, p-value (one-tailed) = {p_value:.4f}\")"
   ]
  },
  {
   "cell_type": "code",
   "execution_count": 12,
   "id": "a168ec3c",
   "metadata": {},
   "outputs": [
    {
     "name": "stderr",
     "output_type": "stream",
     "text": [
      "/var/folders/65/nrqfzh11273310hccvklmxb80000gn/T/ipykernel_15880/4293231958.py:4: UserWarning: This pattern is interpreted as a regular expression, and has match groups. To actually get the groups, use str.extract.\n",
      "  df['has_affiliate_title'] = df['title'].str.contains(affiliate_patterns, case=False, na=False).astype(int)\n",
      "/var/folders/65/nrqfzh11273310hccvklmxb80000gn/T/ipykernel_15880/4293231958.py:5: UserWarning: This pattern is interpreted as a regular expression, and has match groups. To actually get the groups, use str.extract.\n",
      "  df['has_affiliate_description'] = df['title'].str.contains(affiliate_patterns, case=False, na=False).astype(int)\n",
      "/var/folders/65/nrqfzh11273310hccvklmxb80000gn/T/ipykernel_15880/4293231958.py:6: UserWarning: This pattern is interpreted as a regular expression, and has match groups. To actually get the groups, use str.extract.\n",
      "  df['has_affiliate_channel'] = df['channelDescription'].str.contains(affiliate_patterns, case=False, na=False).astype(int)\n"
     ]
    }
   ],
   "source": [
    "if 'has_any_affiliate' not in df.columns:\n",
    "    # Define patterns for affiliate links or discount codes (adjust based on your EDA definition)\n",
    "    affiliate_patterns = r'(affiliate|discount|code|link|promo|shop|deal|partner)'\n",
    "    df['has_affiliate_title'] = df['title'].str.contains(affiliate_patterns, case=False, na=False).astype(int)\n",
    "    df['has_affiliate_description'] = df['title'].str.contains(affiliate_patterns, case=False, na=False).astype(int)\n",
    "    df['has_affiliate_channel'] = df['channelDescription'].str.contains(affiliate_patterns, case=False, na=False).astype(int)\n",
    "    df['has_any_affiliate'] = ((df['has_affiliate_title'] == 1) | \n",
    "                               (df['has_affiliate_description'] == 1) | \n",
    "                               (df['has_affiliate_channel'] == 1)).astype(int)"
   ]
  },
  {
   "cell_type": "code",
   "execution_count": 14,
   "id": "996fd018",
   "metadata": {},
   "outputs": [],
   "source": [
    "group_with_affiliate = df[df['has_any_affiliate'] == 1]['views_per_subscriber']\n",
    "group_without_affiliate = df[df['has_any_affiliate'] == 0]['views_per_subscriber']\n",
    "\n",
    "# Step 4: Perform Welch's T-test (one-tailed, testing if mean with affiliate < mean without affiliate)\n",
    "t_stat, p_value_two_tailed = ttest_ind(group_with_affiliate, group_without_affiliate, equal_var=False)\n",
    "\n",
    "# Since we're testing for a decrease (mean with affiliate < mean without), adjust the p-value\n",
    "# If t_stat < 0, the mean with affiliate is lower, so divide the two-tailed p-value by 2\n",
    "# If t_stat > 0, the mean with affiliate is higher, so the p-value for \"less than\" is 1 - (two-tailed p-value / 2)\n",
    "if t_stat < 0:\n",
    "    p_value_one_tailed = p_value_two_tailed / 2\n",
    "else:\n",
    "    p_value_one_tailed = 1 - (p_value_two_tailed / 2)\n",
    "\n",
    "# Step 5: Compute Cohen's d for effect size\n",
    "mean_with = group_with_affiliate.mean()\n",
    "mean_without = group_without_affiliate.mean()\n",
    "std_with = group_with_affiliate.std(ddof=1)\n",
    "std_without = group_without_affiliate.std(ddof=1)\n",
    "n_with = len(group_with_affiliate)\n",
    "n_without = len(group_without_affiliate)\n",
    "\n",
    "# Pooled standard deviation for Cohen's d\n",
    "pooled_std = np.sqrt(((n_with - 1) * std_with**2 + (n_without - 1) * std_without**2) / (n_with + n_without - 2))\n",
    "cohens_d = (mean_with - mean_without) / pooled_std"
   ]
  },
  {
   "cell_type": "code",
   "execution_count": 15,
   "id": "980a88a6",
   "metadata": {},
   "outputs": [
    {
     "name": "stdout",
     "output_type": "stream",
     "text": [
      "T-test for views_per_subscriber by Affiliate Link:\n",
      "T-statistic = 0.8385, p-value (one-tailed) = 0.7991\n",
      "Effect Size (Cohen's d) = 0.0195\n",
      "Mean views_per_subscriber (with affiliate) = 0.8654\n",
      "Mean views_per_subscriber (without affiliate) = 0.7606\n",
      "Sample size (with affiliate) = 1870, (without affiliate) = 6067\n",
      "Fail to reject the null hypothesis: No significant evidence that affiliate links decrease the mean views_per_subscriber.\n"
     ]
    }
   ],
   "source": [
    "print(f\"T-test for views_per_subscriber by Affiliate Link:\")\n",
    "print(f\"T-statistic = {t_stat:.4f}, p-value (one-tailed) = {p_value_one_tailed:.4f}\")\n",
    "print(f\"Effect Size (Cohen's d) = {cohens_d:.4f}\")\n",
    "print(f\"Mean views_per_subscriber (with affiliate) = {mean_with:.4f}\")\n",
    "print(f\"Mean views_per_subscriber (without affiliate) = {mean_without:.4f}\")\n",
    "print(f\"Sample size (with affiliate) = {n_with}, (without affiliate) = {n_without}\")\n",
    "\n",
    "# Step 7: Interpret the result\n",
    "alpha = 0.05\n",
    "if p_value_one_tailed < alpha and t_stat < 0:\n",
    "    print(\"Reject the null hypothesis: Affiliate links significantly decrease the mean views_per_subscriber.\")\n",
    "else:\n",
    "    print(\"Fail to reject the null hypothesis: No significant evidence that affiliate links decrease the mean views_per_subscriber.\")"
   ]
  },
  {
   "cell_type": "code",
   "execution_count": 17,
   "id": "21c215ef",
   "metadata": {},
   "outputs": [
    {
     "name": "stdout",
     "output_type": "stream",
     "text": [
      "Mann-Whitney U test: stat = 5983580.5000, p-value (one-tailed) = 0.9998\n"
     ]
    }
   ],
   "source": [
    "stat, p_value = mannwhitneyu(group_with_affiliate, group_without_affiliate, alternative='less')\n",
    "print(f\"Mann-Whitney U test: stat = {stat:.4f}, p-value (one-tailed) = {p_value:.4f}\")"
   ]
  },
  {
   "cell_type": "code",
   "execution_count": 18,
   "id": "f1f340c3",
   "metadata": {},
   "outputs": [
    {
     "name": "stderr",
     "output_type": "stream",
     "text": [
      "/var/folders/65/nrqfzh11273310hccvklmxb80000gn/T/ipykernel_15880/2480016715.py:2: UserWarning: This pattern is interpreted as a regular expression, and has match groups. To actually get the groups, use str.extract.\n",
      "  df['has_ad_in_description'] = df['text'].str.contains(ad_pattern, case=False, na=False).astype(int)\n",
      "/var/folders/65/nrqfzh11273310hccvklmxb80000gn/T/ipykernel_15880/2480016715.py:3: UserWarning: This pattern is interpreted as a regular expression, and has match groups. To actually get the groups, use str.extract.\n",
      "  df['has_ad_in_title'] = df['title'].str.contains(ad_pattern, case=False, na=False).astype(int)\n"
     ]
    }
   ],
   "source": [
    "ad_pattern = r'\\b(ad|sponsored|advertisement|promo|promotion|paid partnership|collaboration|partnership|endorsement)\\b'  # Match whole words like \"ad\", \"sponsored\", etc.\n",
    "df['has_ad_in_description'] = df['text'].str.contains(ad_pattern, case=False, na=False).astype(int)\n",
    "df['has_ad_in_title'] = df['title'].str.contains(ad_pattern, case=False, na=False).astype(int)\n",
    "\n",
    "# Create the feature: 1 if \"ad\" is in description but not in title, 0 if \"ad\" is not in description and not in title\n",
    "# Exclude videos where \"ad\" is in the title\n",
    "df['has_ad_in_description_only'] = 0\n",
    "df.loc[(df['has_ad_in_description'] == 1) & (df['has_ad_in_title'] == 0), 'has_ad_in_description_only'] = 1\n",
    "df.loc[(df['has_ad_in_description'] == 0) & (df['has_ad_in_title'] == 0), 'has_ad_in_description_only'] = 0\n",
    "# Videos with \"ad\" in the title are excluded (set to NaN and will be dropped)\n",
    "df.loc[df['has_ad_in_title'] == 1, 'has_ad_in_description_only'] = np.nan\n",
    "\n",
    "# Drop rows where \"ad\" is in the title (to isolate the effect of description)\n",
    "df = df.dropna(subset=['has_ad_in_description_only'])\n",
    "\n",
    "# Step 3: Split data into two groups\n",
    "group_with_ad = df[df['has_ad_in_description_only'] == 1]['views_per_subscriber']\n",
    "group_without_ad = df[df['has_ad_in_description_only'] == 0]['views_per_subscriber']\n",
    "\n",
    "# Step 4: Perform Welch's T-test (one-tailed, testing if mean with ad < mean without ad)\n",
    "t_stat, p_value_two_tailed = ttest_ind(group_with_ad, group_without_ad, equal_var=False)\n",
    "\n",
    "# Since we're testing for a decrease (mean with ad < mean without), adjust the p-value\n",
    "# If t_stat < 0, the mean with ad is lower, so divide the two-tailed p-value by 2\n",
    "# If t_stat > 0, the mean with ad is higher, so the p-value for \"less than\" is 1 - (two-tailed p-value / 2)\n",
    "if t_stat < 0:\n",
    "    p_value_one_tailed = p_value_two_tailed / 2\n",
    "else:\n",
    "    p_value_one_tailed = 1 - (p_value_two_tailed / 2)\n",
    "\n",
    "# Step 5: Compute Cohen's d for effect size\n",
    "mean_with = group_with_ad.mean()\n",
    "mean_without = group_without_ad.mean()\n",
    "std_with = group_with_ad.std(ddof=1)\n",
    "std_without = group_without_ad.std(ddof=1)\n",
    "n_with = len(group_with_ad)\n",
    "n_without = len(group_without_ad)\n",
    "\n",
    "# Pooled standard deviation for Cohen's d\n",
    "pooled_std = np.sqrt(((n_with - 1) * std_with**2 + (n_without - 1) * std_without**2) / (n_with + n_without - 2))\n",
    "cohens_d = (mean_with - mean_without) / pooled_std"
   ]
  },
  {
   "cell_type": "code",
   "execution_count": 19,
   "id": "8e3a59dc",
   "metadata": {},
   "outputs": [
    {
     "name": "stdout",
     "output_type": "stream",
     "text": [
      "T-test for views_per_subscriber by 'ad' in Description (not in Title):\n",
      "T-statistic = 1.3666, p-value (one-tailed) = 0.9134\n",
      "Effect Size (Cohen's d) = 0.1912\n",
      "Mean views_per_subscriber (with ad in description) = 1.7954\n",
      "Mean views_per_subscriber (without ad in description) = 0.7623\n",
      "Sample size (with ad in description) = 201, (without ad in description) = 7673\n",
      "Fail to reject the null hypothesis: No significant evidence that 'ad' in the description (not in title) reduces the mean views_per_subscriber.\n"
     ]
    }
   ],
   "source": [
    "print(f\"T-test for views_per_subscriber by 'ad' in Description (not in Title):\")\n",
    "print(f\"T-statistic = {t_stat:.4f}, p-value (one-tailed) = {p_value_one_tailed:.4f}\")\n",
    "print(f\"Effect Size (Cohen's d) = {cohens_d:.4f}\")\n",
    "print(f\"Mean views_per_subscriber (with ad in description) = {mean_with:.4f}\")\n",
    "print(f\"Mean views_per_subscriber (without ad in description) = {mean_without:.4f}\")\n",
    "print(f\"Sample size (with ad in description) = {n_with}, (without ad in description) = {n_without}\")\n",
    "\n",
    "# Step 7: Interpret the result\n",
    "alpha = 0.05\n",
    "if p_value_one_tailed < alpha and t_stat < 0:\n",
    "    print(\"Reject the null hypothesis: 'ad' in the description (not in title) significantly reduces the mean views_per_subscriber.\")\n",
    "else:\n",
    "    print(\"Fail to reject the null hypothesis: No significant evidence that 'ad' in the description (not in title) reduces the mean views_per_subscriber.\")"
   ]
  },
  {
   "cell_type": "code",
   "execution_count": 20,
   "id": "42fce017",
   "metadata": {},
   "outputs": [
    {
     "name": "stdout",
     "output_type": "stream",
     "text": [
      "Mann-Whitney U test: stat = 531291.0000, p-value (one-tailed) = 0.0000\n"
     ]
    }
   ],
   "source": [
    "from scipy.stats import mannwhitneyu\n",
    "stat, p_value = mannwhitneyu(group_with_ad, group_without_ad, alternative='less')\n",
    "print(f\"Mann-Whitney U test: stat = {stat:.4f}, p-value (one-tailed) = {p_value:.4f}\")"
   ]
  },
  {
   "cell_type": "code",
   "execution_count": null,
   "id": "063c8ee7",
   "metadata": {},
   "outputs": [],
   "source": []
  }
 ],
 "metadata": {
  "kernelspec": {
   "display_name": "erdos_spring_2025",
   "language": "python",
   "name": "python3"
  },
  "language_info": {
   "codemirror_mode": {
    "name": "ipython",
    "version": 3
   },
   "file_extension": ".py",
   "mimetype": "text/x-python",
   "name": "python",
   "nbconvert_exporter": "python",
   "pygments_lexer": "ipython3",
   "version": "3.12.8"
  }
 },
 "nbformat": 4,
 "nbformat_minor": 5
}
