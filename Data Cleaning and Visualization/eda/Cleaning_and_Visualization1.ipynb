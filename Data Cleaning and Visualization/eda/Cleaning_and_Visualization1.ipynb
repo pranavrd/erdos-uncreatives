{
 "cells": [
  {
   "cell_type": "code",
   "execution_count": 1,
   "id": "a204a571-3ec0-457e-a2e6-572018b6c6be",
   "metadata": {},
   "outputs": [],
   "source": [
    "import pandas as pd\n",
    "import numpy as np\n",
    "import matplotlib.pyplot as plt\n",
    "import seaborn as sns"
   ]
  },
  {
   "cell_type": "code",
   "execution_count": 2,
   "id": "fee19e64-01af-4469-bfef-79d11a3b2c26",
   "metadata": {},
   "outputs": [],
   "source": [
    "#importing our cleaned data\n",
    "#Changed to a relative directory so anyone can run it\n",
    "df = pd.read_csv(\"../raw_data_read_only/clean_data2.csv\")"
   ]
  },
  {
   "cell_type": "code",
   "execution_count": 3,
   "id": "f9df4ae9-4be4-4f75-88fd-32d77644cc6f",
   "metadata": {},
   "outputs": [
    {
     "name": "stdout",
     "output_type": "stream",
     "text": [
      "Index(['channelDescription', 'channelJoinedDate', 'channelLocation',\n",
      "       'channelTotalVideos', 'channelTotalViews', 'channelUsername',\n",
      "       'commentsCount', 'date', 'duration', 'id', 'isChannelVerified', 'likes',\n",
      "       'numberOfSubscribers', 'order', 'text', 'title', 'url', 'viewCount'],\n",
      "      dtype='object')\n"
     ]
    }
   ],
   "source": [
    "print(df.columns) #Investigating which columns remain after cleaning "
   ]
  },
  {
   "cell_type": "code",
   "execution_count": 4,
   "id": "b0bfb07f-8399-46fd-8f0e-7bce6991be65",
   "metadata": {},
   "outputs": [
    {
     "name": "stdout",
     "output_type": "stream",
     "text": [
      "<class 'pandas.core.frame.DataFrame'>\n",
      "RangeIndex: 19185 entries, 0 to 19184\n",
      "Data columns (total 18 columns):\n",
      " #   Column               Non-Null Count  Dtype  \n",
      "---  ------               --------------  -----  \n",
      " 0   channelDescription   18151 non-null  object \n",
      " 1   channelJoinedDate    19185 non-null  object \n",
      " 2   channelLocation      13922 non-null  object \n",
      " 3   channelTotalVideos   19185 non-null  float64\n",
      " 4   channelTotalViews    19185 non-null  float64\n",
      " 5   channelUsername      19185 non-null  object \n",
      " 6   commentsCount        19163 non-null  float64\n",
      " 7   date                 19184 non-null  object \n",
      " 8   duration             18818 non-null  object \n",
      " 9   id                   19185 non-null  object \n",
      " 10  isChannelVerified    19185 non-null  bool   \n",
      " 11  likes                19167 non-null  float64\n",
      " 12  numberOfSubscribers  19185 non-null  float64\n",
      " 13  order                19185 non-null  float64\n",
      " 14  text                 5657 non-null   object \n",
      " 15  title                19185 non-null  object \n",
      " 16  url                  19185 non-null  object \n",
      " 17  viewCount            19184 non-null  float64\n",
      "dtypes: bool(1), float64(7), object(10)\n",
      "memory usage: 2.5+ MB\n"
     ]
    },
    {
     "data": {
      "text/plain": [
       "347                                                       \n",
       "1998     Berry lip combo using Flower Beauty Perfect Po...\n",
       "2960                                                      \n",
       "10115    #snailmucin #facemask #skincarevideo #peachsli...\n",
       "3727     #AD I got to see my home country win a bronze ...\n",
       "2610     TikTok: www.tiktok.com/@nats_tutorials\\nIG: in...\n",
       "1944         Check out the new Profusion Twilight Palette!\n",
       "3439                                                      \n",
       "9564                                                      \n",
       "8741     ♡ ¨̮ #estheticiantips to my estheticians on th...\n",
       "Name: text, dtype: object"
      ]
     },
     "execution_count": 4,
     "metadata": {},
     "output_type": "execute_result"
    }
   ],
   "source": [
    "df.info()\n",
    "\n",
    "df[\"text\"].sample(10)\n",
    "#THIS IS THE \"DESCRIPTION\" OF THE VIDEO. MANY USERS LEAVE THE DESCRIPTION BLANK!!! \n",
    "\n",
    "#We want this. \n",
    "#I am changing the NaN entries to empty strings. \n",
    "# This is an easier and more performant way of doing this\n",
    "# Also doing this for channelDescription\n",
    "df[\"text\"] = df[\"text\"].fillna(\"\")\n",
    "df[\"channelDescription\"] = df[\"channelDescription\"].fillna(\"\")\n",
    "\n",
    "df[\"text\"].sample(10)"
   ]
  },
  {
   "cell_type": "code",
   "execution_count": 5,
   "id": "1ae1dec6-487f-45be-9496-fb19af825df5",
   "metadata": {},
   "outputs": [
    {
     "name": "stdout",
     "output_type": "stream",
     "text": [
      "<class 'pandas.core.frame.DataFrame'>\n",
      "RangeIndex: 19185 entries, 0 to 19184\n",
      "Data columns (total 17 columns):\n",
      " #   Column               Non-Null Count  Dtype  \n",
      "---  ------               --------------  -----  \n",
      " 0   channelDescription   19185 non-null  object \n",
      " 1   channelJoinedDate    19185 non-null  object \n",
      " 2   channelTotalVideos   19185 non-null  float64\n",
      " 3   channelTotalViews    19185 non-null  float64\n",
      " 4   channelUsername      19185 non-null  object \n",
      " 5   commentsCount        19163 non-null  float64\n",
      " 6   date                 19184 non-null  object \n",
      " 7   duration             18818 non-null  object \n",
      " 8   id                   19185 non-null  object \n",
      " 9   isChannelVerified    19185 non-null  bool   \n",
      " 10  likes                19167 non-null  float64\n",
      " 11  numberOfSubscribers  19185 non-null  float64\n",
      " 12  order                19185 non-null  float64\n",
      " 13  text                 19185 non-null  object \n",
      " 14  title                19185 non-null  object \n",
      " 15  url                  19185 non-null  object \n",
      " 16  viewCount            19184 non-null  float64\n",
      "dtypes: bool(1), float64(7), object(9)\n",
      "memory usage: 2.4+ MB\n"
     ]
    }
   ],
   "source": [
    "#Double-checking for non-null entries\n",
    "#Let's drop Channel Location since that one is also often empty\n",
    "\n",
    "# There's no real point in incrementing the name of the dataframe here\n",
    "\n",
    "df = df.drop(\"channelLocation\", axis = 1) \n",
    "df.info()"
   ]
  },
  {
   "cell_type": "code",
   "execution_count": 6,
   "id": "3e264701-5fcf-4d1f-b764-a1dbe7ec2c44",
   "metadata": {},
   "outputs": [
    {
     "name": "stdout",
     "output_type": "stream",
     "text": [
      "<class 'pandas.core.frame.DataFrame'>\n",
      "Index: 18798 entries, 0 to 19184\n",
      "Data columns (total 17 columns):\n",
      " #   Column               Non-Null Count  Dtype  \n",
      "---  ------               --------------  -----  \n",
      " 0   channelDescription   18798 non-null  object \n",
      " 1   channelJoinedDate    18798 non-null  object \n",
      " 2   channelTotalVideos   18798 non-null  float64\n",
      " 3   channelTotalViews    18798 non-null  float64\n",
      " 4   channelUsername      18798 non-null  object \n",
      " 5   commentsCount        18798 non-null  float64\n",
      " 6   date                 18798 non-null  object \n",
      " 7   duration             18798 non-null  object \n",
      " 8   id                   18798 non-null  object \n",
      " 9   isChannelVerified    18798 non-null  bool   \n",
      " 10  likes                18798 non-null  float64\n",
      " 11  numberOfSubscribers  18798 non-null  float64\n",
      " 12  order                18798 non-null  float64\n",
      " 13  text                 18798 non-null  object \n",
      " 14  title                18798 non-null  object \n",
      " 15  url                  18798 non-null  object \n",
      " 16  viewCount            18798 non-null  float64\n",
      "dtypes: bool(1), float64(7), object(9)\n",
      "memory usage: 2.5+ MB\n"
     ]
    }
   ],
   "source": [
    "#Okay, now I see that some columns still have empty entries. Let's drop them. \n",
    "\n",
    "df = df.dropna().copy()\n",
    "df.info()"
   ]
  },
  {
   "cell_type": "code",
   "execution_count": 7,
   "id": "6cd3b8fa-84fd-4d7e-a595-f23c0a58b749",
   "metadata": {},
   "outputs": [],
   "source": [
    "#We are interested in engagement metrics. Obviously the more subscribers you have, the more views/likes/comments you will get. A post is performing well\n",
    "#regardless of follower count if it has good \"engagement\", which is a metrics such as likes/subscriber. Here I am transforming raw likes/comments/views\n",
    "#to engagement metrics. \n",
    "\n",
    "# Make sure to use underscores in column names. Spaces interfere with some functions such as pd.query()\n",
    "\n",
    "df[\"likes_per_subscriber\"] = df[\"likes\"]/df[\"numberOfSubscribers\"]\n",
    "df[\"comments_per_subscriber\"] = df[\"commentsCount\"]/df[\"numberOfSubscribers\"]\n",
    "df[\"views_per_subscriber\"] = df[\"viewCount\"]/df[\"numberOfSubscribers\"]"
   ]
  },
  {
   "cell_type": "code",
   "execution_count": null,
   "id": "25a6ef49-91da-44e4-97f9-c7e8d2c6f546",
   "metadata": {},
   "outputs": [],
   "source": []
  },
  {
   "cell_type": "code",
   "execution_count": 8,
   "id": "34c498d3-5a42-4116-8505-a54abcbc7407",
   "metadata": {},
   "outputs": [
    {
     "data": {
      "text/html": [
       "<div>\n",
       "<style scoped>\n",
       "    .dataframe tbody tr th:only-of-type {\n",
       "        vertical-align: middle;\n",
       "    }\n",
       "\n",
       "    .dataframe tbody tr th {\n",
       "        vertical-align: top;\n",
       "    }\n",
       "\n",
       "    .dataframe thead th {\n",
       "        text-align: right;\n",
       "    }\n",
       "</style>\n",
       "<table border=\"1\" class=\"dataframe\">\n",
       "  <thead>\n",
       "    <tr style=\"text-align: right;\">\n",
       "      <th></th>\n",
       "      <th>duration</th>\n",
       "      <th>duration_in_seconds</th>\n",
       "    </tr>\n",
       "  </thead>\n",
       "  <tbody>\n",
       "    <tr>\n",
       "      <th>12977</th>\n",
       "      <td>00:00:57</td>\n",
       "      <td>57</td>\n",
       "    </tr>\n",
       "    <tr>\n",
       "      <th>10195</th>\n",
       "      <td>00:00:14</td>\n",
       "      <td>14</td>\n",
       "    </tr>\n",
       "    <tr>\n",
       "      <th>12506</th>\n",
       "      <td>00:00:54</td>\n",
       "      <td>54</td>\n",
       "    </tr>\n",
       "    <tr>\n",
       "      <th>16223</th>\n",
       "      <td>00:00:06</td>\n",
       "      <td>6</td>\n",
       "    </tr>\n",
       "    <tr>\n",
       "      <th>14668</th>\n",
       "      <td>00:00:06</td>\n",
       "      <td>6</td>\n",
       "    </tr>\n",
       "    <tr>\n",
       "      <th>11607</th>\n",
       "      <td>00:02:59</td>\n",
       "      <td>179</td>\n",
       "    </tr>\n",
       "    <tr>\n",
       "      <th>12133</th>\n",
       "      <td>00:01:00</td>\n",
       "      <td>60</td>\n",
       "    </tr>\n",
       "    <tr>\n",
       "      <th>16902</th>\n",
       "      <td>00:00:14</td>\n",
       "      <td>14</td>\n",
       "    </tr>\n",
       "    <tr>\n",
       "      <th>12854</th>\n",
       "      <td>00:00:52</td>\n",
       "      <td>52</td>\n",
       "    </tr>\n",
       "    <tr>\n",
       "      <th>16028</th>\n",
       "      <td>00:00:59</td>\n",
       "      <td>59</td>\n",
       "    </tr>\n",
       "  </tbody>\n",
       "</table>\n",
       "</div>"
      ],
      "text/plain": [
       "       duration  duration_in_seconds\n",
       "12977  00:00:57                   57\n",
       "10195  00:00:14                   14\n",
       "12506  00:00:54                   54\n",
       "16223  00:00:06                    6\n",
       "14668  00:00:06                    6\n",
       "11607  00:02:59                  179\n",
       "12133  00:01:00                   60\n",
       "16902  00:00:14                   14\n",
       "12854  00:00:52                   52\n",
       "16028  00:00:59                   59"
      ]
     },
     "execution_count": 8,
     "metadata": {},
     "output_type": "execute_result"
    }
   ],
   "source": [
    "#Changing duration column from a string to an integer \n",
    "import datetime \n",
    "\n",
    "def convert_duration_to_int(item):\n",
    "    item_as_datetime = datetime.datetime.strptime( item , \"%H:%M:%S\"  ) #converts string to a datetime object\n",
    "    seconds = item_as_datetime.second + 60 * item_as_datetime.minute + 3600 * item_as_datetime.hour\n",
    "    return seconds\n",
    "    \n",
    "df[\"duration_in_seconds\"] = df[\"duration\"].apply(convert_duration_to_int) \n",
    "df[[\"duration\", \"duration_in_seconds\"]].sample(10) #Can confirm that column is correct now "
   ]
  },
  {
   "cell_type": "code",
   "execution_count": null,
   "id": "fde14d7a-8d3b-4e4d-902a-df0cd413a391",
   "metadata": {},
   "outputs": [],
   "source": []
  },
  {
   "cell_type": "code",
   "execution_count": 9,
   "id": "61dc9907-bfda-4e56-a25f-323e9fe2c690",
   "metadata": {},
   "outputs": [
    {
     "data": {
      "text/plain": [
       "<Axes: xlabel='duration_in_seconds', ylabel='likes_per_subscriber'>"
      ]
     },
     "execution_count": 9,
     "metadata": {},
     "output_type": "execute_result"
    },
    {
     "data": {
      "image/png": "[encoded data removed]",
      "text/plain": [
       "<Figure size 640x480 with 1 Axes>"
      ]
     },
     "metadata": {},
     "output_type": "display_data"
    }
   ],
   "source": [
    "df.plot.scatter(\"duration_in_seconds\", \"likes_per_subscriber\")\n",
    "\n",
    "#This plot does nothing other than to let us know to change our scale. Also I am pretty sure that the \"outliers\" are a couple videos that went super viral"
   ]
  },
  {
   "cell_type": "code",
   "execution_count": 10,
   "id": "83792a2a-f011-4f2c-ac56-cd95e8a0cedb",
   "metadata": {},
   "outputs": [
    {
     "data": {
      "image/png": "[encoded data removed]",
      "text/plain": [
       "<Figure size 640x480 with 1 Axes>"
      ]
     },
     "metadata": {},
     "output_type": "display_data"
    }
   ],
   "source": [
    "ax = df.plot.scatter(\"duration_in_seconds\", \"likes_per_subscriber\")\n",
    "ax.set_ylim(0, 2)\n",
    "ax.set_xlim(0, 120)\n",
    "\n",
    "\n",
    "plt.show()\n",
    "\n",
    "#It looks like shorter videos do well, BUT we must remember: Video lengths of longer than 60 seconds were only introduced on October 15 of 2024.\n",
    "#So the second half of the graph, videos that take longer than 60 seconds, is improperly populated. \n",
    "#So we want to look only at those videos posted before October 15, or after October 15, but not both "
   ]
  },
  {
   "cell_type": "code",
   "execution_count": 11,
   "id": "c332ea22-bd75-4fc6-86f8-31b8ffdda481",
   "metadata": {},
   "outputs": [
    {
     "data": {
      "text/plain": [
       "0        2025-01-01\n",
       "1        2024-09-26\n",
       "2        2024-12-13\n",
       "3        2025-02-16\n",
       "4        2024-07-07\n",
       "            ...    \n",
       "19179    2024-02-04\n",
       "19181    2024-02-07\n",
       "19182    2024-01-19\n",
       "19183    2024-01-12\n",
       "19184    2024-01-24\n",
       "Name: datetime_date, Length: 18798, dtype: object"
      ]
     },
     "execution_count": 11,
     "metadata": {},
     "output_type": "execute_result"
    }
   ],
   "source": [
    "#Okay, let's restrict our attention to those rows that came after October 15th.\n",
    "#At the same time, we should change our data so that none of the data comes after 3/1. This is the date we first started collecting\n",
    "#and after that date, data was scraped over the first few days. \n",
    "\n",
    "#Okay, time to continue to clean by removing data after 3/1\n",
    "#First, we need to change the date column so that it is a datetime object and not a string\n",
    "\n",
    "df[\"datetime\"] = df[\"date\"].apply(datetime.datetime.fromisoformat)\n",
    "df[\"datetime_date\"] = df[\"datetime\"].dt.date.astype(str)\n",
    "df[\"datetime_date\"]"
   ]
  },
  {
   "cell_type": "code",
   "execution_count": 12,
   "id": "43362f1e-6368-49b7-9302-953d2e670be3",
   "metadata": {},
   "outputs": [],
   "source": [
    "march_1_2025_str = '2025-03-01T00:00:00.000Z'\n",
    "march_1_2025 = datetime.datetime.fromisoformat(march_1_2025_str) #This is an \"aware\" datetime object in the same format as the others \n",
    "\n",
    "oct_15_2024_str = '2024-10-15T00:00:00.000Z'\n",
    "oct_15_2024 = datetime.datetime.fromisoformat(oct_15_2024_str) #This is an \"aware\" datetime object in the same format as the others "
   ]
  },
  {
   "cell_type": "code",
   "execution_count": 14,
   "id": "75ff50ae-46ed-4e23-b4d3-7c261af3d5ae",
   "metadata": {},
   "outputs": [],
   "source": [
    "#Okay, now we look at the data before 3/1\n",
    "\n",
    "df = df.reset_index(drop=True) #Resetting the indexing of the rows to default \n",
    "df = df.query(\"datetime_date < '2025-03-01'\")\n",
    "\n",
    "df.to_csv(\"cleaner_transformed_data_Rachael_with_no_spaces_in_column_names.csv\")\n",
    "\n",
    "#Okay, now we split the data\n",
    "\n",
    "df_before = df.query(\"datetime_date < '2024-10-15'\")\n",
    "df_after = df.query(\"datetime_date > '2024-10-15'\") "
   ]
  },
  {
   "cell_type": "code",
   "execution_count": 131,
   "id": "0a2aa003-a389-44d2-b40c-a7b0fc3fc7e7",
   "metadata": {},
   "outputs": [
    {
     "data": {
      "image/png": "[encoded data removed]",
      "text/plain": [
       "<Figure size 640x480 with 1 Axes>"
      ]
     },
     "metadata": {},
     "output_type": "display_data"
    }
   ],
   "source": [
    "#Let's redo the scatter plot\n",
    "\n",
    "ax = df_after.plot.scatter(\"duration_in_seconds\", \"likes_per_subscriber\")\n",
    "\n",
    "ax.set_xlim(0,120)\n",
    "ax.set_ylim(0,2)\n",
    "\n",
    "plt.show()\n",
    "\n",
    "#I definitely see that videos that are longer in length seemm to be less viral. I also see a drop-off after 60 seconds, just like before, except now\n",
    "#we can CONFIRM that this drop-off is not due to the under-population of data UNLESS most people simply still choose to create videos that are less than \n",
    "#60 seconds long\n",
    "\n",
    "#What we need to compare is the MEAN of videos under 60 seconds to the MEAN of videos over 60 seconds "
   ]
  },
  {
   "cell_type": "code",
   "execution_count": 133,
   "id": "fd4dae06-924e-441d-a717-edeb0b9f1428",
   "metadata": {},
   "outputs": [
    {
     "data": {
      "image/png": "[encoded data removed]",
      "text/plain": [
       "<Figure size 600x400 with 1 Axes>"
      ]
     },
     "metadata": {},
     "output_type": "display_data"
    }
   ],
   "source": [
    "#First let's confirm distribution is heavily skewed toward under 60 seconds even after\n",
    "#looking only at data that comes after october 15\n",
    "\n",
    "plt.figure(figsize = (6,4)) \n",
    "\n",
    "df[\"duration_in_seconds\"].hist(bins=100)\n",
    "\n",
    "plt.show()\n",
    "\n",
    "#As we can see, most videos are under 60 seconds, with a HUGE number of them being almost exactly 60 seconds"
   ]
  },
  {
   "cell_type": "code",
   "execution_count": 74,
   "id": "ff2e5b52-cdf7-4cef-8908-047f8c90ef1b",
   "metadata": {},
   "outputs": [
    {
     "data": {
      "text/plain": [
       "0        1\n",
       "2        1\n",
       "3        1\n",
       "5        0\n",
       "9        0\n",
       "        ..\n",
       "19074    1\n",
       "19075    0\n",
       "19076    0\n",
       "19077    0\n",
       "19078    0\n",
       "Name: duration_ind, Length: 6271, dtype: int64"
      ]
     },
     "execution_count": 74,
     "metadata": {},
     "output_type": "execute_result"
    }
   ],
   "source": [
    "#Creating an indicator variable so that we can see two violin plots based on length\n",
    "\n",
    "df_after = df_after.copy() #Makes this its own thing instead of a view object from our previous dataframe\n",
    "\n",
    "df_after[\"duration_ind\"] = np.where(df_after.eval(\"duration_in_seconds < 60\"), 0, 1) # 0 means less  60 seconds, 1 means greater than or equal to 60\n",
    "\n",
    "df_after[\"duration_ind\"]"
   ]
  },
  {
   "cell_type": "code",
   "execution_count": 75,
   "id": "df504428-1941-4e2f-a6dc-1c0e2264b3ee",
   "metadata": {},
   "outputs": [
    {
     "data": {
      "image/png": "[encoded data removed]",
      "text/plain": [
       "<Figure size 640x480 with 1 Axes>"
      ]
     },
     "metadata": {},
     "output_type": "display_data"
    }
   ],
   "source": [
    "sns.violinplot( data = df_after, y = \"likes_per_subscriber\", x = \"duration_ind\")\n",
    "plt.ylim(0,.01)\n",
    "plt.show()\n",
    "\n",
    "#This is an exceptionally shitty graph but you can see that the mean of the \"short\" videos is slightly higher. "
   ]
  },
  {
   "cell_type": "code",
   "execution_count": 76,
   "id": "b6659d0e-34dc-41cc-8af2-b9d7a1af873e",
   "metadata": {},
   "outputs": [
    {
     "data": {
      "image/png": "[encoded data removed]",
      "text/plain": [
       "<Figure size 640x480 with 1 Axes>"
      ]
     },
     "metadata": {},
     "output_type": "display_data"
    }
   ],
   "source": [
    "sns.violinplot( data = df_after, y = \"comments_per_subscriber\", x = \"duration_ind\")\n",
    "plt.ylim(0,.0001)\n",
    "plt.show()\n",
    "\n",
    "#This is an exceptionally shitty graph but you can see that the mean of the \"short\" videos is again slightly higher. \n",
    "\n",
    "#These graphs are so bad that we should just do t-test with these two groups and their means instead. \n",
    "#But we have some preliminary analysis that suggests shorter videos do better. "
   ]
  },
  {
   "cell_type": "code",
   "execution_count": 77,
   "id": "0cc6d36d-56ba-4323-a687-9c43fe587fb1",
   "metadata": {},
   "outputs": [
    {
     "name": "stdout",
     "output_type": "stream",
     "text": [
      "1.182695058064597\n",
      "0.5320534259637928\n",
      "0.8695577644367655\n"
     ]
    }
   ],
   "source": [
    "#Often, influencers are encouraged to include hashtags to reach their audience. \n",
    "#However, some people say that hashtags are viewed as \"spammy\". \n",
    "#We will create an indicator variable that tests whether a hashtag appears in a video's title.\n",
    "#Note that there is no such thing as a description separate from the title in our current dataframe\n",
    "\n",
    "df = df.copy()\n",
    "\n",
    "df[\"hashtag_indicator\"] = df[\"title\"].str.count(\"#\")\n",
    "\n",
    "df_yes = df.query(\"hashtag_indicator > 0\")\n",
    "df_no = df.query(\"hashtag_indicator == 0\")\n",
    "\n",
    "print(df_yes[\"views_per_subscriber\"].mean())\n",
    "print(df_no[\"views_per_subscriber\"].mean())\n",
    "print(df[\"views_per_subscriber\"].mean())\n",
    "\n",
    "#As you can see, including hashtags in the title significantly improves views! We should do a t-test here, and compare to \n",
    "#hashtags in title alone vs hashtags in both title and description vs hashtags in description alone "
   ]
  },
  {
   "cell_type": "code",
   "execution_count": 137,
   "id": "474dba31-f676-457f-9b5b-f2df76b09117",
   "metadata": {},
   "outputs": [
    {
     "name": "stdout",
     "output_type": "stream",
     "text": [
      "238323.9238026869\n",
      "480488.5531115287\n"
     ]
    }
   ],
   "source": [
    "print(df_yes[\"viewCount\"].mean())\n",
    "print(df_no[\"viewCount\"].mean())\n",
    "#But it also seems like people who already get lots of views don't bother with hastags. "
   ]
  },
  {
   "cell_type": "code",
   "execution_count": 139,
   "id": "877f4c88-c097-46da-bfa0-c1bd812a672a",
   "metadata": {},
   "outputs": [
    {
     "name": "stdout",
     "output_type": "stream",
     "text": [
      "1.0661660392490577\n",
      "1.284135435464351\n",
      "1.182695058064597\n"
     ]
    },
    {
     "data": {
      "text/plain": [
       "(4538, 25)"
      ]
     },
     "execution_count": 139,
     "metadata": {},
     "output_type": "execute_result"
    }
   ],
   "source": [
    "#Another question: Among people who use already hashtags, are general hashtags better or specific hashtags? \n",
    "#The two most general hashtags for our niche are #makeup and #skincare. \n",
    "\n",
    "#Let's create another indicator variable and look at the means\n",
    "\n",
    "df_yes = df_yes.copy()\n",
    "\n",
    "df_yes[\"generic_hashtag_indicator\"] = df_yes[\"title\"].str.count(\"#makeup\") + df_yes[\"title\"].str.count(\"#skincare\")\n",
    "\n",
    "df_yesg = df_yes.query(\"generic_hashtag_indicator > 0\")\n",
    "df_nog = df_yes.query(\"generic_hashtag_indicator == 0\")\n",
    "\n",
    "print(df_yesg[\"views_per_subscriber\"].mean())\n",
    "print(df_nog[\"views_per_subscriber\"].mean())\n",
    "print(df_yes[\"views_per_subscriber\"].mean())\n",
    "\n",
    "df_yesg.shape\n",
    "#Okay, we see that generic hashtags put you below the mean and that not including generic hashtags put you above the mean \n",
    "#So maybe that means only using specific hashtags are better. \n",
    "#More analysis can be done here\n",
    "#Also please notice that plenty of people do use generic hashtags!! "
   ]
  },
  {
   "cell_type": "code",
   "execution_count": 141,
   "id": "5d6a03cd-62fb-4352-82ff-3e9761c556c1",
   "metadata": {},
   "outputs": [
    {
     "name": "stdout",
     "output_type": "stream",
     "text": [
      "0.04873399464923632\n",
      "0.02437011937731831\n",
      "0.037008280233604744\n"
     ]
    }
   ],
   "source": [
    "#Does including hashtags also increase likes?\n",
    "\n",
    "print(df_yes[\"likes_per_subscriber\"].mean())\n",
    "print(df_no[\"likes_per_subscriber\"].mean())\n",
    "print(df[\"likes_per_subscriber\"].mean())\n",
    "\n",
    "#Yes they do "
   ]
  },
  {
   "cell_type": "code",
   "execution_count": 81,
   "id": "3cfd02e7-6f9d-4164-b882-9d34e4ee418c",
   "metadata": {},
   "outputs": [
    {
     "data": {
      "text/plain": [
       "Index(['channelDescription', 'channelJoinedDate', 'channelTotalVideos',\n",
       "       'channelTotalViews', 'channelUsername', 'commentsCount', 'date',\n",
       "       'duration', 'id', 'isChannelVerified', 'likes', 'numberOfSubscribers',\n",
       "       'order', 'text', 'title', 'url', 'viewCount', 'likes per subscriber',\n",
       "       'comments per subscriber', 'views per subscriber',\n",
       "       'duration in seconds', 'datetime date', 'hashtag indicator'],\n",
       "      dtype='object')"
      ]
     },
     "execution_count": 81,
     "metadata": {},
     "output_type": "execute_result"
    }
   ],
   "source": [
    "df3.columns"
   ]
  },
  {
   "cell_type": "code",
   "execution_count": 82,
   "id": "a7f1e1b3-786f-4bfb-b796-b5cce61c8fc7",
   "metadata": {},
   "outputs": [
    {
     "name": "stdout",
     "output_type": "stream",
     "text": [
      "If you ask for comments, your mean comment engagement is: \n",
      " 0.001099426118257928\n",
      "If you do not ask for comments, your mean comment engagement is: \n",
      " 0.0004661173209173275\n",
      "Overall mean comment engagement is: \n",
      " 0.0004678355222506805\n",
      "If you ask for comments, your mean view engagement is: \n",
      " 0.7108267874429472\n",
      "If you do not ask for comments, your mean view engagement is: \n",
      " 0.8699895817849643\n",
      "Overall mean view engagement is: \n",
      " 0.8695577644367655\n",
      "0.03572682042682564\n",
      "0.03701176636205974\n",
      "0.037008280233604744\n"
     ]
    },
    {
     "data": {
      "text/plain": [
       "(51, 25)"
      ]
     },
     "execution_count": 82,
     "metadata": {},
     "output_type": "execute_result"
    }
   ],
   "source": [
    "#Checking if the influencer includes a \"call to action\" that specifically asks users to comment\n",
    "\n",
    "df[\"comment_call_indicator\"] = df[\"title\"].str.count(\"comment\")\n",
    "\n",
    "df_yesc = df.query(\"comment_call_indicator > 0\")\n",
    "df_noc = df.query(\"comment_call_indicator == 0\")\n",
    "\n",
    "print(\"If you ask for comments, your mean comment engagement is: \\n\", df_yesc[\"comments_per_subscriber\"].mean())\n",
    "print(\"If you do not ask for comments, your mean comment engagement is: \\n\", df_noc[\"comments_per_subscriber\"].mean())\n",
    "print(\"Overall mean comment engagement is: \\n\", df[\"comments_per_subscriber\"].mean())\n",
    "\n",
    "print(\"If you ask for comments, your mean view engagement is: \\n\", df_yesc[\"views_per_subscriber\"].mean())\n",
    "print(\"If you do not ask for comments, your mean view engagement is: \\n\", df_noc[\"views_per_subscriber\"].mean())\n",
    "print(\"Overall mean view engagement is: \\n\", df[\"views_per_subscriber\"].mean())\n",
    "\n",
    "print(df_yesc[\"likes_per_subscriber\"].mean())\n",
    "print(df_noc[\"likes_per_subscriber\"].mean())\n",
    "print(df[\"likes_per_subscriber\"].mean())\n",
    "\n",
    "df_yesc.shape\n",
    "#So asking for comments does appear to significantly improve the number of comments \n",
    "#But not the number of views or the number of likes\n",
    "#And very few people ask for comments, so it's unclear if this analysis was worthwhile. "
   ]
  },
  {
   "cell_type": "code",
   "execution_count": 83,
   "id": "b1e3f09c-3415-455c-99df-5048fcfeeb4e",
   "metadata": {},
   "outputs": [
    {
     "name": "stdout",
     "output_type": "stream",
     "text": [
      "0.0033718735614546567\n",
      "0.03701901982705052\n",
      "0.037008280233604744\n"
     ]
    },
    {
     "data": {
      "text/plain": [
       "(6, 26)"
      ]
     },
     "execution_count": 83,
     "metadata": {},
     "output_type": "execute_result"
    }
   ],
   "source": [
    "#Checking if engagement is higher if a popular brand like Natasha Denona is mentioned \n",
    "    \n",
    "df[\"ND_ind\"] = df[\"title\"].str.count(\"natasha denona\")\n",
    "\n",
    "df_yesnd = df.query(\"ND_ind > 0\")\n",
    "df_nond = df.query(\"ND_ind == 0\")\n",
    "\n",
    "print(df_yesnd[\"likes_per_subscriber\"].mean())\n",
    "print(df_nond[\"likes_per_subscriber\"].mean())\n",
    "print(df[\"likes_per_subscriber\"].mean())\n",
    "\n",
    "df_yesnd.shape\n",
    "\n",
    "#This analysis sucked since so few people mention Natasha Denona. "
   ]
  },
  {
   "cell_type": "code",
   "execution_count": 73,
   "id": "2b15df31-27ef-46c3-8144-aa10bedd963e",
   "metadata": {},
   "outputs": [
    {
     "name": "stdout",
     "output_type": "stream",
     "text": [
      "0.0036612467128412166\n",
      "0.037020702629147584\n",
      "0.037008280233604744\n"
     ]
    },
    {
     "data": {
      "text/plain": [
       "(16, 25)"
      ]
     },
     "execution_count": 73,
     "metadata": {},
     "output_type": "execute_result"
    }
   ],
   "source": [
    "#Checking if engagement is higher if a popular brand like drunk elephant is mentioned \n",
    "    \n",
    "df[\"DE_ind\"] = df[\"title\"].str.count(\"drunk elephant\")\n",
    "\n",
    "df_yesde = df.query(\"DE_ind > 0\")\n",
    "df_node = df.query(\"DE_ind == 0\")\n",
    "\n",
    "print(df_yesde[\"likes_per_subscriber\"].mean())\n",
    "print(df_node[\"likes_per_subscriber\"].mean())\n",
    "print(df[\"likes_per_subscriber\"].mean())\n",
    "\n",
    "df_yesde.shape\n",
    "\n",
    "#This analysis sucked since so few people mention drunk elephant"
   ]
  },
  {
   "cell_type": "code",
   "execution_count": 153,
   "id": "d48689d1-02a4-46e5-b431-72f7f77247c7",
   "metadata": {},
   "outputs": [
    {
     "name": "stdout",
     "output_type": "stream",
     "text": [
      "0.6293039875143882\n",
      "0.9701303778688405\n",
      "0.8695577644367655\n"
     ]
    },
    {
     "data": {
      "text/plain": [
       "(4735, 23)"
      ]
     },
     "execution_count": 153,
     "metadata": {},
     "output_type": "execute_result"
    }
   ],
   "source": [
    "#Checking if posts that have a description do better on average\n",
    "\n",
    "df_nodesc = df.loc[ df[\"text\"] == '']\n",
    "df_yesdesc = df.loc[ df[\"text\"] != '' ]\n",
    "\n",
    "print(df_yesdesc[\"views_per_subscriber\"].mean())\n",
    "print(df_nodesc[\"views_per_subscriber\"].mean())\n",
    "print(df[\"views_per_subscriber\"].mean())\n",
    "\n",
    "df_yesdesc.shape\n",
    "\n",
    "#This is super weird- why does including a description make your video perform so much worse? "
   ]
  },
  {
   "cell_type": "code",
   "execution_count": 147,
   "id": "75077440-8396-420f-b1f1-060206a4e649",
   "metadata": {},
   "outputs": [
    {
     "name": "stdout",
     "output_type": "stream",
     "text": [
      "0.6791112209978151\n",
      "0.910079874131066\n",
      "0.8695577644367655\n"
     ]
    }
   ],
   "source": [
    "#Checking if posts that have a hashtag in the description do better on average \n",
    "    \n",
    "df[\"ht_desc_ind\"] = df[\"text\"].str.count(\"#\") \n",
    "\n",
    "df_yeshtd = df.query(\"ht_desc_ind > 0\")\n",
    "df_nohtd = df.query(\"ht_desc_ind == 0\")\n",
    "\n",
    "print(df_yeshtd[\"views_per_subscriber\"].mean())\n",
    "print(df_nohtd[\"views_per_subscriber\"].mean())\n",
    "print(df[\"views_per_subscriber\"].mean())\n",
    "\n",
    "#As you can see, including hashtags in the title significantly improves views! We should do a t-test here, and compare to \n",
    "#hashtags in title alone vs hashtags in both title and description vs hashtags in description alone \n",
    "\n",
    "#As before, having a hashtag in the description lowers the viewcount. This is probably because having a description at all lowers the viewcount. Weird!!\n",
    "#However, .68 is a little higher than the overall mean .66 of videos that have a description, as expected. "
   ]
  },
  {
   "cell_type": "code",
   "execution_count": 15,
   "id": "402b78fc-db42-45d2-9772-a8384ff03877",
   "metadata": {},
   "outputs": [],
   "source": [
    "#streamlining the \"presence of a substring\" function Rachael was implementing earlier - Jo\n",
    "\n",
    "def compare_means(df, thing_to_check_for, thing_to_take_average_of, where_to_look=\"title\"):\n",
    "    print(f\"Comparing means of {thing_to_take_average_of} with and without {thing_to_check_for}.\")\n",
    "    idxs = (df[where_to_look].str.count(thing_to_check_for) > 0)\n",
    "    print(df.loc[idxs, thing_to_take_average_of].mean())\n",
    "    print(df.loc[~idxs, thing_to_take_average_of].mean())\n",
    "\n",
    "def get_mean_with_word(df, thing_to_check_for, thing_to_take_average_of, where_to_look=\"title\"):\n",
    "    idxs = (df[where_to_look].str.count(thing_to_check_for) > 0)\n",
    "    return df.loc[idxs, thing_to_take_average_of].mean()\n",
    "\n",
    "def get_mean_without_word(df, thing_to_check_for, thing_to_take_average_of, where_to_look=\"title\"):\n",
    "    idxs = (df[where_to_look].str.count(thing_to_check_for) == 0)\n",
    "    return df.loc[idxs, thing_to_take_average_of].mean()\n"
   ]
  },
  {
   "cell_type": "code",
   "execution_count": 16,
   "id": "c3afb5eb",
   "metadata": {},
   "outputs": [
    {
     "name": "stdout",
     "output_type": "stream",
     "text": [
      "Comparing means of likes_per_subscriber with and without tryon.\n",
      "0.1491161699379934\n",
      "0.037014802601110425\n"
     ]
    }
   ],
   "source": [
    "compare_means(df,\"tryon\", \"likes_per_subscriber\")"
   ]
  },
  {
   "cell_type": "code",
   "execution_count": 29,
   "id": "1d0594cf",
   "metadata": {},
   "outputs": [
    {
     "name": "stdout",
     "output_type": "stream",
     "text": [
      "0.03705092549069267\n"
     ]
    },
    {
     "data": {
      "text/html": [
       "<div>\n",
       "<style scoped>\n",
       "    .dataframe tbody tr th:only-of-type {\n",
       "        vertical-align: middle;\n",
       "    }\n",
       "\n",
       "    .dataframe tbody tr th {\n",
       "        vertical-align: top;\n",
       "    }\n",
       "\n",
       "    .dataframe thead th {\n",
       "        text-align: right;\n",
       "    }\n",
       "</style>\n",
       "<table border=\"1\" class=\"dataframe\">\n",
       "  <thead>\n",
       "    <tr style=\"text-align: right;\">\n",
       "      <th></th>\n",
       "      <th>word</th>\n",
       "      <th>with_string</th>\n",
       "      <th>without_string</th>\n",
       "      <th>difference</th>\n",
       "    </tr>\n",
       "  </thead>\n",
       "  <tbody>\n",
       "    <tr>\n",
       "      <th>32</th>\n",
       "      <td>speed</td>\n",
       "      <td>0.149886</td>\n",
       "      <td>0.037039</td>\n",
       "      <td>0.112835</td>\n",
       "    </tr>\n",
       "    <tr>\n",
       "      <th>2</th>\n",
       "      <td>tryon</td>\n",
       "      <td>0.149116</td>\n",
       "      <td>0.037015</td>\n",
       "      <td>0.112065</td>\n",
       "    </tr>\n",
       "    <tr>\n",
       "      <th>29</th>\n",
       "      <td>kbeauty</td>\n",
       "      <td>0.139120</td>\n",
       "      <td>0.032139</td>\n",
       "      <td>0.102069</td>\n",
       "    </tr>\n",
       "    <tr>\n",
       "      <th>30</th>\n",
       "      <td>korean</td>\n",
       "      <td>0.115826</td>\n",
       "      <td>0.034725</td>\n",
       "      <td>0.078775</td>\n",
       "    </tr>\n",
       "    <tr>\n",
       "      <th>0</th>\n",
       "      <td>try</td>\n",
       "      <td>0.099666</td>\n",
       "      <td>0.036302</td>\n",
       "      <td>0.062615</td>\n",
       "    </tr>\n",
       "    <tr>\n",
       "      <th>26</th>\n",
       "      <td>drugstore</td>\n",
       "      <td>0.081252</td>\n",
       "      <td>0.036822</td>\n",
       "      <td>0.044201</td>\n",
       "    </tr>\n",
       "    <tr>\n",
       "      <th>4</th>\n",
       "      <td>GRWM</td>\n",
       "      <td>0.078685</td>\n",
       "      <td>0.036681</td>\n",
       "      <td>0.041634</td>\n",
       "    </tr>\n",
       "    <tr>\n",
       "      <th>3</th>\n",
       "      <td>asmr</td>\n",
       "      <td>0.064115</td>\n",
       "      <td>0.036831</td>\n",
       "      <td>0.027064</td>\n",
       "    </tr>\n",
       "    <tr>\n",
       "      <th>17</th>\n",
       "      <td>makeup</td>\n",
       "      <td>0.056275</td>\n",
       "      <td>0.032193</td>\n",
       "      <td>0.019224</td>\n",
       "    </tr>\n",
       "    <tr>\n",
       "      <th>23</th>\n",
       "      <td>color</td>\n",
       "      <td>0.051982</td>\n",
       "      <td>0.036941</td>\n",
       "      <td>0.014931</td>\n",
       "    </tr>\n",
       "    <tr>\n",
       "      <th>34</th>\n",
       "      <td>hack</td>\n",
       "      <td>0.050628</td>\n",
       "      <td>0.036801</td>\n",
       "      <td>0.013577</td>\n",
       "    </tr>\n",
       "    <tr>\n",
       "      <th>31</th>\n",
       "      <td>dupe</td>\n",
       "      <td>0.049351</td>\n",
       "      <td>0.037008</td>\n",
       "      <td>0.012300</td>\n",
       "    </tr>\n",
       "    <tr>\n",
       "      <th>10</th>\n",
       "      <td>unbox</td>\n",
       "      <td>0.047023</td>\n",
       "      <td>0.037014</td>\n",
       "      <td>0.009972</td>\n",
       "    </tr>\n",
       "    <tr>\n",
       "      <th>35</th>\n",
       "      <td>tips</td>\n",
       "      <td>0.039695</td>\n",
       "      <td>0.036949</td>\n",
       "      <td>0.002644</td>\n",
       "    </tr>\n",
       "    <tr>\n",
       "      <th>9</th>\n",
       "      <td>review</td>\n",
       "      <td>0.035364</td>\n",
       "      <td>0.037106</td>\n",
       "      <td>-0.001687</td>\n",
       "    </tr>\n",
       "    <tr>\n",
       "      <th>33</th>\n",
       "      <td>tutorial</td>\n",
       "      <td>0.033723</td>\n",
       "      <td>0.037165</td>\n",
       "      <td>-0.003328</td>\n",
       "    </tr>\n",
       "    <tr>\n",
       "      <th>1</th>\n",
       "      <td>ten</td>\n",
       "      <td>0.032818</td>\n",
       "      <td>0.037115</td>\n",
       "      <td>-0.004233</td>\n",
       "    </tr>\n",
       "    <tr>\n",
       "      <th>21</th>\n",
       "      <td>sabrina</td>\n",
       "      <td>0.032745</td>\n",
       "      <td>0.037051</td>\n",
       "      <td>-0.004306</td>\n",
       "    </tr>\n",
       "    <tr>\n",
       "      <th>25</th>\n",
       "      <td>derm</td>\n",
       "      <td>0.032358</td>\n",
       "      <td>0.037188</td>\n",
       "      <td>-0.004693</td>\n",
       "    </tr>\n",
       "    <tr>\n",
       "      <th>11</th>\n",
       "      <td>haul</td>\n",
       "      <td>0.031574</td>\n",
       "      <td>0.037078</td>\n",
       "      <td>-0.005477</td>\n",
       "    </tr>\n",
       "    <tr>\n",
       "      <th>5</th>\n",
       "      <td>vlog</td>\n",
       "      <td>0.029977</td>\n",
       "      <td>0.037071</td>\n",
       "      <td>-0.007074</td>\n",
       "    </tr>\n",
       "    <tr>\n",
       "      <th>16</th>\n",
       "      <td>reveal</td>\n",
       "      <td>0.029012</td>\n",
       "      <td>0.037055</td>\n",
       "      <td>-0.008039</td>\n",
       "    </tr>\n",
       "    <tr>\n",
       "      <th>6</th>\n",
       "      <td>swatch</td>\n",
       "      <td>0.027154</td>\n",
       "      <td>0.037122</td>\n",
       "      <td>-0.009897</td>\n",
       "    </tr>\n",
       "    <tr>\n",
       "      <th>37</th>\n",
       "      <td>how</td>\n",
       "      <td>0.023696</td>\n",
       "      <td>0.037263</td>\n",
       "      <td>-0.013355</td>\n",
       "    </tr>\n",
       "    <tr>\n",
       "      <th>27</th>\n",
       "      <td>budget</td>\n",
       "      <td>0.021155</td>\n",
       "      <td>0.037091</td>\n",
       "      <td>-0.015896</td>\n",
       "    </tr>\n",
       "    <tr>\n",
       "      <th>36</th>\n",
       "      <td>tricks</td>\n",
       "      <td>0.019226</td>\n",
       "      <td>0.037061</td>\n",
       "      <td>-0.017825</td>\n",
       "    </tr>\n",
       "    <tr>\n",
       "      <th>12</th>\n",
       "      <td>sephora</td>\n",
       "      <td>0.016590</td>\n",
       "      <td>0.037156</td>\n",
       "      <td>-0.020461</td>\n",
       "    </tr>\n",
       "    <tr>\n",
       "      <th>24</th>\n",
       "      <td>esthe</td>\n",
       "      <td>0.014396</td>\n",
       "      <td>0.037298</td>\n",
       "      <td>-0.022655</td>\n",
       "    </tr>\n",
       "    <tr>\n",
       "      <th>8</th>\n",
       "      <td>kardashian</td>\n",
       "      <td>0.012546</td>\n",
       "      <td>0.037056</td>\n",
       "      <td>-0.024505</td>\n",
       "    </tr>\n",
       "    <tr>\n",
       "      <th>22</th>\n",
       "      <td>colour</td>\n",
       "      <td>0.011718</td>\n",
       "      <td>0.037095</td>\n",
       "      <td>-0.025333</td>\n",
       "    </tr>\n",
       "    <tr>\n",
       "      <th>7</th>\n",
       "      <td>bieber</td>\n",
       "      <td>0.010665</td>\n",
       "      <td>0.037057</td>\n",
       "      <td>-0.026386</td>\n",
       "    </tr>\n",
       "    <tr>\n",
       "      <th>13</th>\n",
       "      <td>ulta</td>\n",
       "      <td>0.008224</td>\n",
       "      <td>0.037101</td>\n",
       "      <td>-0.028827</td>\n",
       "    </tr>\n",
       "    <tr>\n",
       "      <th>14</th>\n",
       "      <td>target</td>\n",
       "      <td>0.007104</td>\n",
       "      <td>0.037067</td>\n",
       "      <td>-0.029947</td>\n",
       "    </tr>\n",
       "    <tr>\n",
       "      <th>20</th>\n",
       "      <td>taylor</td>\n",
       "      <td>0.007091</td>\n",
       "      <td>0.037057</td>\n",
       "      <td>-0.029960</td>\n",
       "    </tr>\n",
       "    <tr>\n",
       "      <th>19</th>\n",
       "      <td>ariana</td>\n",
       "      <td>0.005697</td>\n",
       "      <td>0.037056</td>\n",
       "      <td>-0.031354</td>\n",
       "    </tr>\n",
       "    <tr>\n",
       "      <th>18</th>\n",
       "      <td>vegan</td>\n",
       "      <td>0.002410</td>\n",
       "      <td>0.037062</td>\n",
       "      <td>-0.034641</td>\n",
       "    </tr>\n",
       "    <tr>\n",
       "      <th>15</th>\n",
       "      <td>cvs</td>\n",
       "      <td>0.000829</td>\n",
       "      <td>0.037059</td>\n",
       "      <td>-0.036222</td>\n",
       "    </tr>\n",
       "    <tr>\n",
       "      <th>28</th>\n",
       "      <td>cruelty-free</td>\n",
       "      <td>0.000000</td>\n",
       "      <td>0.037053</td>\n",
       "      <td>-0.037051</td>\n",
       "    </tr>\n",
       "  </tbody>\n",
       "</table>\n",
       "</div>"
      ],
      "text/plain": [
       "            word  with_string  without_string  difference\n",
       "32         speed     0.149886        0.037039    0.112835\n",
       "2          tryon     0.149116        0.037015    0.112065\n",
       "29       kbeauty     0.139120        0.032139    0.102069\n",
       "30        korean     0.115826        0.034725    0.078775\n",
       "0            try     0.099666        0.036302    0.062615\n",
       "26     drugstore     0.081252        0.036822    0.044201\n",
       "4           GRWM     0.078685        0.036681    0.041634\n",
       "3           asmr     0.064115        0.036831    0.027064\n",
       "17        makeup     0.056275        0.032193    0.019224\n",
       "23         color     0.051982        0.036941    0.014931\n",
       "34          hack     0.050628        0.036801    0.013577\n",
       "31          dupe     0.049351        0.037008    0.012300\n",
       "10         unbox     0.047023        0.037014    0.009972\n",
       "35          tips     0.039695        0.036949    0.002644\n",
       "9         review     0.035364        0.037106   -0.001687\n",
       "33      tutorial     0.033723        0.037165   -0.003328\n",
       "1            ten     0.032818        0.037115   -0.004233\n",
       "21       sabrina     0.032745        0.037051   -0.004306\n",
       "25          derm     0.032358        0.037188   -0.004693\n",
       "11          haul     0.031574        0.037078   -0.005477\n",
       "5           vlog     0.029977        0.037071   -0.007074\n",
       "16        reveal     0.029012        0.037055   -0.008039\n",
       "6         swatch     0.027154        0.037122   -0.009897\n",
       "37           how     0.023696        0.037263   -0.013355\n",
       "27        budget     0.021155        0.037091   -0.015896\n",
       "36        tricks     0.019226        0.037061   -0.017825\n",
       "12       sephora     0.016590        0.037156   -0.020461\n",
       "24         esthe     0.014396        0.037298   -0.022655\n",
       "8     kardashian     0.012546        0.037056   -0.024505\n",
       "22        colour     0.011718        0.037095   -0.025333\n",
       "7         bieber     0.010665        0.037057   -0.026386\n",
       "13          ulta     0.008224        0.037101   -0.028827\n",
       "14        target     0.007104        0.037067   -0.029947\n",
       "20        taylor     0.007091        0.037057   -0.029960\n",
       "19        ariana     0.005697        0.037056   -0.031354\n",
       "18         vegan     0.002410        0.037062   -0.034641\n",
       "15           cvs     0.000829        0.037059   -0.036222\n",
       "28  cruelty-free     0.000000        0.037053   -0.037051"
      ]
     },
     "metadata": {},
     "output_type": "display_data"
    }
   ],
   "source": [
    "# 12. Identify popular video topics/formats and see if videos that cover these topics perform better than average. \n",
    "# For example, one popular video format is \"speed reviews.\"\n",
    "#\"speed reviews\", \"haul\", \"dupe\" , \"GRWM\" \n",
    "\n",
    "\n",
    "# Create a dataframe\n",
    "schema = pd.DataFrame()\n",
    "\n",
    "words = [\"try\", \"ten\",\"tryon\", \"asmr\", \"GRWM\", \"vlog\",\"swatch\", \"bieber\", \"kardashian\", \"review\", \"unbox\", \"haul\", \"sephora\", \"ulta\", \"target\", \"cvs\", \"reveal\", \"makeup\", \"vegan\", \"ariana\", \"taylor\", \"sabrina\", \"colour\", \"color\", \"esthe\", \"derm\", \"drugstore\", \"budget\", \"cruelty-free\", \"kbeauty\",\"korean\", \"dupe\", \"speed\", \"tutorial\", \"hack\", \"tips\",\"tricks\", \"how\"  ] # add more words\n",
    "column_to_take_average_of = \"likes_per_subscriber\"\n",
    "where_to_look_for_word = \"title\"\n",
    "\n",
    "#added color vs colour to see if there was an american bias\n",
    "#try vs tryon, since try includes both tryon, as well as \"trying\" \n",
    "#celebrity names to see if people want to copy signature looks?\n",
    "#asmr, grwm, vlog have secondary content separate from the objective makeup \n",
    "#retail stores to see if people are looking to purchase\n",
    "#ten - trying to see if people like lists? i.e. \"my top ten\"\n",
    "\n",
    "schema[\"word\"] = words\n",
    "\n",
    "# Adds column, containing means of likes_per_subscriber of entries with the substring\n",
    "schema['with_string'] = schema[\"word\"].apply(lambda word : get_mean_with_word(df, word, column_to_take_average_of, where_to_look_for_word))\n",
    "\n",
    "# Adds column, containing means of likes_per_subscriber of entries without the substring\n",
    "schema['without_string'] = schema[\"word\"].apply(lambda word : get_mean_without_word(df, word, column_to_take_average_of, where_to_look_for_word))\n",
    "\n",
    "\n",
    "# Adds column, containing means of likes_per_subscriber of entries without the substring\n",
    "schema['difference'] = schema['with_string']-df[\"likes_per_subscriber\"].mean()\n",
    "\n",
    "\n",
    "#finding diffrence between with and without substring\n",
    "\n",
    "schema = schema.sort_values('difference', ascending=False)\n",
    "\n",
    "# show dataframe \n",
    "\n",
    "print(df[\"likes_per_subscriber\"].mean())\n",
    "display(schema)"
   ]
  }
 ],
 "metadata": {
  "kernelspec": {
   "display_name": "erdos_spring_2025",
   "language": "python",
   "name": "python3"
  },
  "language_info": {
   "codemirror_mode": {
    "name": "ipython",
    "version": 3
   },
   "file_extension": ".py",
   "mimetype": "text/x-python",
   "name": "python",
   "nbconvert_exporter": "python",
   "pygments_lexer": "ipython3",
   "version": "3.12.8"
  }
 },
 "nbformat": 4,
 "nbformat_minor": 5
}
