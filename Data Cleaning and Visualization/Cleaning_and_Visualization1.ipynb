{
 "cells": [
  {
   "cell_type": "code",
   "execution_count": 155,
   "id": "a204a571-3ec0-457e-a2e6-572018b6c6be",
   "metadata": {},
   "outputs": [],
   "source": [
    "import pandas as pd\n",
    "import numpy as np\n",
    "import matplotlib.pyplot as plt\n",
    "import seaborn as sns"
   ]
  },
  {
   "cell_type": "code",
   "execution_count": 156,
   "id": "fee19e64-01af-4469-bfef-79d11a3b2c26",
   "metadata": {},
   "outputs": [],
   "source": [
    "#importing our cleaned data\n",
    "df = pd.read_csv(r\"C:\\Users\\arubi\\Desktop\\datascience2025\\erdos-uncreatives\\raw_data_read_only\\clean_data2.csv\")"
   ]
  },
  {
   "cell_type": "code",
   "execution_count": 157,
   "id": "f9df4ae9-4be4-4f75-88fd-32d77644cc6f",
   "metadata": {},
   "outputs": [
    {
     "name": "stdout",
     "output_type": "stream",
     "text": [
      "Index(['channelDescription', 'channelJoinedDate', 'channelLocation',\n",
      "       'channelTotalVideos', 'channelTotalViews', 'channelUsername',\n",
      "       'commentsCount', 'date', 'duration', 'id', 'isChannelVerified', 'likes',\n",
      "       'numberOfSubscribers', 'order', 'text', 'title', 'url', 'viewCount'],\n",
      "      dtype='object')\n"
     ]
    }
   ],
   "source": [
    "print(df.columns) #Investigating which columns remain after cleaning "
   ]
  },
  {
   "cell_type": "code",
   "execution_count": 158,
   "id": "b0bfb07f-8399-46fd-8f0e-7bce6991be65",
   "metadata": {},
   "outputs": [
    {
     "name": "stdout",
     "output_type": "stream",
     "text": [
      "<class 'pandas.core.frame.DataFrame'>\n",
      "RangeIndex: 19185 entries, 0 to 19184\n",
      "Data columns (total 18 columns):\n",
      " #   Column               Non-Null Count  Dtype  \n",
      "---  ------               --------------  -----  \n",
      " 0   channelDescription   18151 non-null  object \n",
      " 1   channelJoinedDate    19185 non-null  object \n",
      " 2   channelLocation      13922 non-null  object \n",
      " 3   channelTotalVideos   19185 non-null  float64\n",
      " 4   channelTotalViews    19185 non-null  float64\n",
      " 5   channelUsername      19185 non-null  object \n",
      " 6   commentsCount        19163 non-null  float64\n",
      " 7   date                 19184 non-null  object \n",
      " 8   duration             18818 non-null  object \n",
      " 9   id                   19185 non-null  object \n",
      " 10  isChannelVerified    19185 non-null  bool   \n",
      " 11  likes                19167 non-null  float64\n",
      " 12  numberOfSubscribers  19185 non-null  float64\n",
      " 13  order                19185 non-null  float64\n",
      " 14  text                 5657 non-null   object \n",
      " 15  title                19185 non-null  object \n",
      " 16  url                  19185 non-null  object \n",
      " 17  viewCount            19184 non-null  float64\n",
      "dtypes: bool(1), float64(7), object(10)\n",
      "memory usage: 2.5+ MB\n"
     ]
    },
    {
     "data": {
      "text/plain": [
       "122                                                       \n",
       "10713                                                     \n",
       "1963     Valentino Go-Cushion Foundation in Pink #valen...\n",
       "18820                                                     \n",
       "7981                                                      \n",
       "18025                                                     \n",
       "4883                                                      \n",
       "18958    Products: numbuzin no.5+ serum and toner\\r\\n*T...\n",
       "17696                                                     \n",
       "3544                                                      \n",
       "Name: text, dtype: object"
      ]
     },
     "execution_count": 158,
     "metadata": {},
     "output_type": "execute_result"
    }
   ],
   "source": [
    "df.info()\n",
    "\n",
    "df[\"text\"].sample(10)\n",
    "#THIS IS THE \"DESCRIPTION\" OF THE VIDEO. MANY USERS LEAVE THE DESCRIPTION BLANK!!! \n",
    "\n",
    "#We want this. \n",
    "#I am changing the NaN entries to empty strings. \n",
    "\n",
    "text_list = []\n",
    "\n",
    "for item in df[\"text\"]:\n",
    "    x = item if type(item) == str else '' \n",
    "    text_list.append(x)\n",
    "\n",
    "df[\"text\"] = np.array(text_list)\n",
    "df[\"text\"].sample(10)"
   ]
  },
  {
   "cell_type": "code",
   "execution_count": 159,
   "id": "1ae1dec6-487f-45be-9496-fb19af825df5",
   "metadata": {},
   "outputs": [
    {
     "name": "stdout",
     "output_type": "stream",
     "text": [
      "<class 'pandas.core.frame.DataFrame'>\n",
      "RangeIndex: 19185 entries, 0 to 19184\n",
      "Data columns (total 17 columns):\n",
      " #   Column               Non-Null Count  Dtype  \n",
      "---  ------               --------------  -----  \n",
      " 0   channelDescription   18151 non-null  object \n",
      " 1   channelJoinedDate    19185 non-null  object \n",
      " 2   channelTotalVideos   19185 non-null  float64\n",
      " 3   channelTotalViews    19185 non-null  float64\n",
      " 4   channelUsername      19185 non-null  object \n",
      " 5   commentsCount        19163 non-null  float64\n",
      " 6   date                 19184 non-null  object \n",
      " 7   duration             18818 non-null  object \n",
      " 8   id                   19185 non-null  object \n",
      " 9   isChannelVerified    19185 non-null  bool   \n",
      " 10  likes                19167 non-null  float64\n",
      " 11  numberOfSubscribers  19185 non-null  float64\n",
      " 12  order                19185 non-null  float64\n",
      " 13  text                 19185 non-null  object \n",
      " 14  title                19185 non-null  object \n",
      " 15  url                  19185 non-null  object \n",
      " 16  viewCount            19184 non-null  float64\n",
      "dtypes: bool(1), float64(7), object(9)\n",
      "memory usage: 2.4+ MB\n"
     ]
    }
   ],
   "source": [
    "#Double-checking for non-null entries\n",
    "#Let's drop Channel Location since that one is also often empty\n",
    "\n",
    "df2 = df.drop(\"channelLocation\", axis = 1) \n",
    "df2.info()"
   ]
  },
  {
   "cell_type": "code",
   "execution_count": 160,
   "id": "3e264701-5fcf-4d1f-b764-a1dbe7ec2c44",
   "metadata": {},
   "outputs": [
    {
     "name": "stdout",
     "output_type": "stream",
     "text": [
      "<class 'pandas.core.frame.DataFrame'>\n",
      "Index: 17776 entries, 0 to 19184\n",
      "Data columns (total 17 columns):\n",
      " #   Column               Non-Null Count  Dtype  \n",
      "---  ------               --------------  -----  \n",
      " 0   channelDescription   17776 non-null  object \n",
      " 1   channelJoinedDate    17776 non-null  object \n",
      " 2   channelTotalVideos   17776 non-null  float64\n",
      " 3   channelTotalViews    17776 non-null  float64\n",
      " 4   channelUsername      17776 non-null  object \n",
      " 5   commentsCount        17776 non-null  float64\n",
      " 6   date                 17776 non-null  object \n",
      " 7   duration             17776 non-null  object \n",
      " 8   id                   17776 non-null  object \n",
      " 9   isChannelVerified    17776 non-null  bool   \n",
      " 10  likes                17776 non-null  float64\n",
      " 11  numberOfSubscribers  17776 non-null  float64\n",
      " 12  order                17776 non-null  float64\n",
      " 13  text                 17776 non-null  object \n",
      " 14  title                17776 non-null  object \n",
      " 15  url                  17776 non-null  object \n",
      " 16  viewCount            17776 non-null  float64\n",
      "dtypes: bool(1), float64(7), object(9)\n",
      "memory usage: 2.3+ MB\n"
     ]
    }
   ],
   "source": [
    "#Okay, now I see that some columns still have empty entries. Let's drop them. \n",
    "\n",
    "df2 = df2.dropna().copy()\n",
    "df2.info()"
   ]
  },
  {
   "cell_type": "code",
   "execution_count": 161,
   "id": "6cd3b8fa-84fd-4d7e-a595-f23c0a58b749",
   "metadata": {},
   "outputs": [],
   "source": [
    "#We are interested in engagement metrics. Obviously the more subscribers you have, the more views/likes/comments you will get. A post is performing well\n",
    "#regardless of follower count if it has good \"engagement\", which is a metrics such as likes/subscriber. Here I am transforming raw likes/comments/views\n",
    "#to engagement metrics. \n",
    "\n",
    "df2[\"likes per subscriber\"] = df[\"likes\"]/df[\"numberOfSubscribers\"]\n",
    "df2[\"comments per subscriber\"] = df[\"commentsCount\"]/df[\"numberOfSubscribers\"]\n",
    "df2[\"views per subscriber\"] = df[\"viewCount\"]/df[\"numberOfSubscribers\"]"
   ]
  },
  {
   "cell_type": "code",
   "execution_count": null,
   "id": "25a6ef49-91da-44e4-97f9-c7e8d2c6f546",
   "metadata": {},
   "outputs": [],
   "source": []
  },
  {
   "cell_type": "code",
   "execution_count": 162,
   "id": "34c498d3-5a42-4116-8505-a54abcbc7407",
   "metadata": {},
   "outputs": [
    {
     "data": {
      "text/plain": [
       "7330      59.0\n",
       "11916     25.0\n",
       "3784      13.0\n",
       "12075    111.0\n",
       "1697      16.0\n",
       "7020      55.0\n",
       "18887     36.0\n",
       "14457     37.0\n",
       "3232      41.0\n",
       "10140     47.0\n",
       "Name: duration in seconds, dtype: float64"
      ]
     },
     "execution_count": 162,
     "metadata": {},
     "output_type": "execute_result"
    }
   ],
   "source": [
    "#Changing duration column from a string to an integer \n",
    "import datetime \n",
    "\n",
    "list_of_durations = []\n",
    "\n",
    "for item in df2[\"duration\"]:\n",
    "    item_as_datetime = datetime.datetime.strptime( item , \"%H:%M:%S\"  ) #converts string to a datetime object\n",
    "    a_timedelta = item_as_datetime - datetime.datetime(1900, 1, 1) #timedelta object, so that I can use the total_seconds() method in the next step\n",
    "    seconds = a_timedelta.total_seconds()\n",
    "    list_of_durations.append(seconds) \n",
    "    \n",
    "array_of_durations = np.array(list_of_durations) \n",
    "\n",
    "df2[\"duration in seconds\"] = array_of_durations \n",
    "df2[\"duration in seconds\"].sample(10) #Can confirm that column is correct now "
   ]
  },
  {
   "cell_type": "code",
   "execution_count": null,
   "id": "fde14d7a-8d3b-4e4d-902a-df0cd413a391",
   "metadata": {},
   "outputs": [],
   "source": []
  },
  {
   "cell_type": "code",
   "execution_count": 163,
   "id": "61dc9907-bfda-4e56-a25f-323e9fe2c690",
   "metadata": {},
   "outputs": [
    {
     "data": {
      "image/png": "[encoded data removed]",
      "text/plain": [
       "<Figure size 1000x600 with 1 Axes>"
      ]
     },
     "metadata": {},
     "output_type": "display_data"
    }
   ],
   "source": [
    "plt.figure(figsize = (10,6))\n",
    "\n",
    "x = df2[\"duration\"]\n",
    "y = df2[\"likes per subscriber\"]\n",
    "\n",
    "plt.scatter(x,y)\n",
    "\n",
    "plt.show()\n",
    "\n",
    "#This plot does nothing other than to let us know to change our scale. Also I am pretty sure that the \"outliers\" are a couple videos that went super viral"
   ]
  },
  {
   "cell_type": "code",
   "execution_count": 164,
   "id": "83792a2a-f011-4f2c-ac56-cd95e8a0cedb",
   "metadata": {},
   "outputs": [
    {
     "data": {
      "image/png": "[encoded data removed]",
      "text/plain": [
       "<Figure size 1000x600 with 1 Axes>"
      ]
     },
     "metadata": {},
     "output_type": "display_data"
    }
   ],
   "source": [
    "plt.figure(figsize = (10,6))\n",
    "\n",
    "x = df2[\"duration in seconds\"]\n",
    "y = df2[\"likes per subscriber\"]\n",
    "\n",
    "plt.scatter(x,y)\n",
    "\n",
    "plt.xlim(0,120)\n",
    "plt.ylim(0,2)\n",
    "\n",
    "\n",
    "plt.show()\n",
    "\n",
    "#It looks like shorter videos do well, BUT we must remember: Video lengths of longer than 60 seconds were only introduced on October 15 of 2024.\n",
    "#So the second half of the graph, videos that take longer than 60 seconds, is improperly populated. \n",
    "#So we want to look only at those videos posted before October 15, or after October 15, but not both "
   ]
  },
  {
   "cell_type": "code",
   "execution_count": 165,
   "id": "c332ea22-bd75-4fc6-86f8-31b8ffdda481",
   "metadata": {},
   "outputs": [
    {
     "data": {
      "text/plain": [
       "0       2025-01-01 17:03:25+00:00\n",
       "1       2024-09-26 17:09:34+00:00\n",
       "2       2024-12-13 17:06:39+00:00\n",
       "3       2025-02-16 18:19:19+00:00\n",
       "4       2024-07-07 17:33:45+00:00\n",
       "                   ...           \n",
       "19179   2024-02-04 18:05:27+00:00\n",
       "19181   2024-02-07 23:43:52+00:00\n",
       "19182   2024-01-19 21:42:11+00:00\n",
       "19183   2024-01-12 18:05:26+00:00\n",
       "19184   2024-01-24 18:38:35+00:00\n",
       "Name: datetime date, Length: 17776, dtype: datetime64[ns, UTC]"
      ]
     },
     "execution_count": 165,
     "metadata": {},
     "output_type": "execute_result"
    }
   ],
   "source": [
    "#Okay, let's restrict our attention to those rows that came after October 15th.\n",
    "#At the same time, we should change our data so that none of the data comes after 3/1. This is the date we first started collecting\n",
    "#and after that date, data was scraped over the first few days. \n",
    "\n",
    "#Okay, time to continue to clean by removing data after 3/1\n",
    "#First, we need to change the date column so that it is a datetime object and not a string\n",
    "datetime_list = []\n",
    "for item in df2[\"date\"]:\n",
    "    datetime_item = datetime.datetime.fromisoformat(item)\n",
    "    datetime_list.append (datetime_item) \n",
    "\n",
    "df2[\"datetime date\"] = np.array(datetime_list)\n",
    "df2[\"datetime date\"]"
   ]
  },
  {
   "cell_type": "code",
   "execution_count": 166,
   "id": "43362f1e-6368-49b7-9302-953d2e670be3",
   "metadata": {},
   "outputs": [],
   "source": [
    "march_1_2025_str = '2025-03-01T00:00:00.000Z'\n",
    "march_1_2025 = datetime.datetime.fromisoformat(march_1_2025_str) #This is an \"aware\" datetime object in the same format as the others \n",
    "\n",
    "oct_15_2024_str = '2024-10-15T00:00:00.000Z'\n",
    "oct_15_2024 = datetime.datetime.fromisoformat(oct_15_2024_str) #This is an \"aware\" datetime object in the same format as the others "
   ]
  },
  {
   "cell_type": "code",
   "execution_count": 167,
   "id": "75ff50ae-46ed-4e23-b4d3-7c261af3d5ae",
   "metadata": {},
   "outputs": [],
   "source": [
    "#Okay, now we look at the data before 3/1\n",
    "\n",
    "df2 = df2.reset_index(drop=True) #Resetting the indexing of the rows to default \n",
    "df3 = df2.loc[ df2[\"datetime date\"] < march_1_2025 ]\n",
    "\n",
    "df3.to_csv(\"cleaner_transformed_data_Rachael.csv\")\n",
    "\n",
    "#Okay, now we split the data\n",
    "\n",
    "df_before = df3.loc[ df3[\"datetime date\"] < oct_15_2024 ] \n",
    "df_after = df3.loc[ df3[\"datetime date\"] > oct_15_2024 ] "
   ]
  },
  {
   "cell_type": "code",
   "execution_count": 168,
   "id": "0a2aa003-a389-44d2-b40c-a7b0fc3fc7e7",
   "metadata": {},
   "outputs": [
    {
     "data": {
      "image/png": "[encoded data removed]",
      "text/plain": [
       "<Figure size 1000x600 with 1 Axes>"
      ]
     },
     "metadata": {},
     "output_type": "display_data"
    }
   ],
   "source": [
    "#Let's redo the scatter plot\n",
    "\n",
    "plt.figure(figsize = (10,6))\n",
    "\n",
    "x = df_after[\"duration in seconds\"]\n",
    "y = df_after[\"likes per subscriber\"]\n",
    "\n",
    "plt.scatter(x,y)\n",
    "\n",
    "plt.xlim(0,120)\n",
    "plt.ylim(0,2)\n",
    "\n",
    "plt.show()\n",
    "\n",
    "#I definitely see that videos that are longer in length seemm to be less viral. I also see a drop-off after 60 seconds, just like before, except now\n",
    "#we can CONFIRM that this drop-off is not due to the under-population of data UNLESS most people simply still choose to create videos that are less than \n",
    "#60 seconds long\n",
    "\n",
    "#What we need to compare is the MEAN of videos under 60 seconds to the MEAN of videos over 60 seconds "
   ]
  },
  {
   "cell_type": "code",
   "execution_count": 169,
   "id": "fd4dae06-924e-441d-a717-edeb0b9f1428",
   "metadata": {},
   "outputs": [
    {
     "data": {
      "image/png": "[encoded data removed]",
      "text/plain": [
       "<Figure size 600x400 with 1 Axes>"
      ]
     },
     "metadata": {},
     "output_type": "display_data"
    }
   ],
   "source": [
    "#First let's confirm distribution is heavily skewed toward under 60 seconds even after\n",
    "#looking only at data that comes after october 15\n",
    "\n",
    "plt.figure(figsize = (6,4)) \n",
    "\n",
    "plt.hist( x = df_after[\"duration in seconds\"], bins = 100)\n",
    "\n",
    "plt.show()\n",
    "\n",
    "#As we can see, most videos are under 60 seconds, with a HUGE number of them being almost exactly 60 seconds"
   ]
  },
  {
   "cell_type": "code",
   "execution_count": 170,
   "id": "ff2e5b52-cdf7-4cef-8908-047f8c90ef1b",
   "metadata": {},
   "outputs": [
    {
     "data": {
      "text/plain": [
       "0        >60s\n",
       "2        >60s\n",
       "3        >60s\n",
       "5        <60s\n",
       "9        <60s\n",
       "         ... \n",
       "17667    >60s\n",
       "17668    <60s\n",
       "17669    <60s\n",
       "17670    <60s\n",
       "17671    <60s\n",
       "Name: duration ind, Length: 5852, dtype: object"
      ]
     },
     "execution_count": 170,
     "metadata": {},
     "output_type": "execute_result"
    }
   ],
   "source": [
    "#Creating an indicator variable so that we can see two violin plots based on length\n",
    "\n",
    "df_after = df_after.copy() #Makes this its own thing instead of a view object from our previous dataframe\n",
    "\n",
    "duration_ind_list = []\n",
    "\n",
    "for item in df_after[\"duration in seconds\"]:\n",
    "    x = \"<60s\" if item < 60 else \">60s\" \n",
    "    duration_ind_list.append(x)\n",
    "\n",
    "dur_ind_arr = np.array( duration_ind_list)\n",
    "\n",
    "df_after[\"duration ind\"] = dur_ind_arr\n",
    "\n",
    "df_after[\"duration ind\"]"
   ]
  },
  {
   "cell_type": "code",
   "execution_count": 171,
   "id": "df504428-1941-4e2f-a6dc-1c0e2264b3ee",
   "metadata": {},
   "outputs": [
    {
     "data": {
      "image/png": "[encoded data removed]",
      "text/plain": [
       "<Figure size 640x480 with 1 Axes>"
      ]
     },
     "metadata": {},
     "output_type": "display_data"
    }
   ],
   "source": [
    "sns.violinplot( data = df_after, y = \"likes per subscriber\", x = \"duration ind\")\n",
    "plt.ylim(0,.01)\n",
    "plt.show()\n",
    "\n",
    "#This is an exceptionally shitty graph but you can see that the mean of the \"short\" videos is slightly higher. "
   ]
  },
  {
   "cell_type": "code",
   "execution_count": 172,
   "id": "b6659d0e-34dc-41cc-8af2-b9d7a1af873e",
   "metadata": {},
   "outputs": [
    {
     "data": {
      "image/png": "[encoded data removed]",
      "text/plain": [
       "<Figure size 640x480 with 1 Axes>"
      ]
     },
     "metadata": {},
     "output_type": "display_data"
    }
   ],
   "source": [
    "sns.violinplot( data = df_after, y = \"comments per subscriber\", x = \"duration ind\")\n",
    "plt.ylim(0,.0001)\n",
    "plt.show()\n",
    "\n",
    "#This is an exceptionally shitty graph but you can see that the mean of the \"short\" videos is again slightly higher. \n",
    "\n",
    "#These graphs are so bad that we should just do t-test with these two groups and their means instead. \n",
    "#But we have some preliminary analysis that suggests shorter videos do better. "
   ]
  },
  {
   "cell_type": "code",
   "execution_count": 173,
   "id": "0cc6d36d-56ba-4323-a687-9c43fe587fb1",
   "metadata": {},
   "outputs": [
    {
     "name": "stdout",
     "output_type": "stream",
     "text": [
      "1.204154806179877\n",
      "0.5337668582725518\n",
      "0.8889133077858782\n"
     ]
    }
   ],
   "source": [
    "#Often, influencers are encouraged to include hashtags to reach their audience. \n",
    "#However, some people say that hashtags are viewed as \"spammy\". \n",
    "#We will create an indicator variable that tests whether a hashtag appears in a video's title.\n",
    "#Note that there is no such thing as a description separate from the title in our current dataframe\n",
    "\n",
    "df3 = df3.copy()\n",
    "\n",
    "ht_list = []\n",
    "for item in df3[\"title\"]:\n",
    "    x = \"yes#\" if (\"#\" in item) else \"no#\"\n",
    "    ht_list.append(x)\n",
    "    \n",
    "df3[\"hashtag indicator\"] = np.array(ht_list) \n",
    "\n",
    "df3_yes = df3.loc[ df3[\"hashtag indicator\"] == \"yes#\" ]\n",
    "df3_no = df3.loc[ df3[\"hashtag indicator\"] == \"no#\" ]\n",
    "\n",
    "print(df3_yes[\"views per subscriber\"].mean())\n",
    "print(df3_no[\"views per subscriber\"].mean())\n",
    "print(df3[\"views per subscriber\"].mean())\n",
    "\n",
    "#As you can see, including hashtags in the title significantly improves views! We should do a t-test here, and compare to \n",
    "#hashtags in title alone vs hashtags in both title and description vs hashtags in description alone "
   ]
  },
  {
   "cell_type": "code",
   "execution_count": 174,
   "id": "474dba31-f676-457f-9b5b-f2df76b09117",
   "metadata": {},
   "outputs": [
    {
     "name": "stdout",
     "output_type": "stream",
     "text": [
      "244776.14259676207\n",
      "507563.9576035753\n"
     ]
    }
   ],
   "source": [
    "print(df3_yes[\"viewCount\"].mean())\n",
    "print(df3_no[\"viewCount\"].mean())\n",
    "#But it also seems like people who already get lots of views don't bother with hastags. "
   ]
  },
  {
   "cell_type": "code",
   "execution_count": 175,
   "id": "877f4c88-c097-46da-bfa0-c1bd812a672a",
   "metadata": {},
   "outputs": [
    {
     "name": "stdout",
     "output_type": "stream",
     "text": [
      "1.0732233048476425\n",
      "1.3215352432221346\n",
      "1.204154806179877\n"
     ]
    },
    {
     "data": {
      "text/plain": [
       "(4409, 24)"
      ]
     },
     "execution_count": 175,
     "metadata": {},
     "output_type": "execute_result"
    }
   ],
   "source": [
    "#Another question: Among people who use already hashtags, are general hashtags better or specific hashtags? \n",
    "#The two most general hashtags for our niche are #makeup and #skincare. \n",
    "\n",
    "#Let's create another indicator variable and look at the means\n",
    "\n",
    "df3_yes = df3_yes.copy()\n",
    "\n",
    "ght_list = []\n",
    "for item in df3_yes[\"title\"]:\n",
    "    x = \"yesg#\" if (\"#makeup\" in item or \"#skincare\" in item) else \"nog#\"\n",
    "    ght_list.append(x)\n",
    "    \n",
    "df3_yes[\"generic hashtag indicator\"] = np.array(ght_list) \n",
    "\n",
    "df3_yesg = df3_yes.loc[ df3_yes[\"generic hashtag indicator\"] == \"yesg#\" ]\n",
    "df3_nog = df3_yes.loc[ df3_yes[\"generic hashtag indicator\"] == \"nog#\" ]\n",
    "\n",
    "print(df3_yesg[\"views per subscriber\"].mean())\n",
    "print(df3_nog[\"views per subscriber\"].mean())\n",
    "print(df3_yes[\"views per subscriber\"].mean())\n",
    "\n",
    "df3_yesg.shape\n",
    "#Okay, we see that generic hashtags put you below the mean and that not including generic hashtags put you above the mean \n",
    "#So maybe that means only using specific hashtags are better. \n",
    "#More analysis can be done here\n",
    "#Also please notice that plenty of people do use generic hashtags!! "
   ]
  },
  {
   "cell_type": "code",
   "execution_count": 176,
   "id": "5d6a03cd-62fb-4352-82ff-3e9761c556c1",
   "metadata": {},
   "outputs": [
    {
     "name": "stdout",
     "output_type": "stream",
     "text": [
      "0.04937932826008808\n",
      "0.02391022602448664\n",
      "0.03740280335900071\n"
     ]
    }
   ],
   "source": [
    "#Does including hashtags also increase likes?\n",
    "\n",
    "print(df3_yes[\"likes per subscriber\"].mean())\n",
    "print(df3_no[\"likes per subscriber\"].mean())\n",
    "print(df3[\"likes per subscriber\"].mean())\n",
    "\n",
    "#Yes they do "
   ]
  },
  {
   "cell_type": "code",
   "execution_count": 177,
   "id": "3cfd02e7-6f9d-4164-b882-9d34e4ee418c",
   "metadata": {},
   "outputs": [
    {
     "data": {
      "text/plain": [
       "Index(['channelDescription', 'channelJoinedDate', 'channelTotalVideos',\n",
       "       'channelTotalViews', 'channelUsername', 'commentsCount', 'date',\n",
       "       'duration', 'id', 'isChannelVerified', 'likes', 'numberOfSubscribers',\n",
       "       'order', 'text', 'title', 'url', 'viewCount', 'likes per subscriber',\n",
       "       'comments per subscriber', 'views per subscriber',\n",
       "       'duration in seconds', 'datetime date', 'hashtag indicator'],\n",
       "      dtype='object')"
      ]
     },
     "execution_count": 177,
     "metadata": {},
     "output_type": "execute_result"
    }
   ],
   "source": [
    "df3.columns"
   ]
  },
  {
   "cell_type": "code",
   "execution_count": 178,
   "id": "a7f1e1b3-786f-4bfb-b796-b5cce61c8fc7",
   "metadata": {},
   "outputs": [
    {
     "name": "stdout",
     "output_type": "stream",
     "text": [
      "If you ask for comments, your mean comment engagement is: \n",
      " 0.001099426118257928\n",
      "If you do not ask for comments, your mean comment engagement is: \n",
      " 0.0004755222793705086\n",
      "Overall mean comment engagement is: \n",
      " 0.000477329566419427\n",
      "If you ask for comments, your mean view engagement is: \n",
      " 0.7108267874429472\n",
      "If you do not ask for comments, your mean view engagement is: \n",
      " 0.8894306767712091\n",
      "Overall mean view engagement is: \n",
      " 0.8889133077858782\n",
      "0.03572682042682564\n",
      "0.037407672349575524\n",
      "0.03740280335900071\n"
     ]
    },
    {
     "data": {
      "text/plain": [
       "(51, 24)"
      ]
     },
     "execution_count": 178,
     "metadata": {},
     "output_type": "execute_result"
    }
   ],
   "source": [
    "#Checking if the influencer includes a \"call to action\" that specifically asks users to comment\n",
    "\n",
    "c_list = []\n",
    "for item in df3[\"title\"]:\n",
    "    x = \"yesc\" if (\"comment\" in item) else \"noc\"\n",
    "    c_list.append(x)\n",
    "    \n",
    "df3[\"comment call indicator\"] = np.array(c_list) \n",
    "\n",
    "df3_yesc = df3.loc[ df3[\"comment call indicator\"] == \"yesc\" ]\n",
    "df3_noc = df3.loc[ df3[\"comment call indicator\"] == \"noc\" ]\n",
    "\n",
    "print(\"If you ask for comments, your mean comment engagement is: \\n\", df3_yesc[\"comments per subscriber\"].mean())\n",
    "print(\"If you do not ask for comments, your mean comment engagement is: \\n\", df3_noc[\"comments per subscriber\"].mean())\n",
    "print(\"Overall mean comment engagement is: \\n\", df3[\"comments per subscriber\"].mean())\n",
    "\n",
    "print(\"If you ask for comments, your mean view engagement is: \\n\", df3_yesc[\"views per subscriber\"].mean())\n",
    "print(\"If you do not ask for comments, your mean view engagement is: \\n\", df3_noc[\"views per subscriber\"].mean())\n",
    "print(\"Overall mean view engagement is: \\n\", df3[\"views per subscriber\"].mean())\n",
    "\n",
    "print(df3_yesc[\"likes per subscriber\"].mean())\n",
    "print(df3_noc[\"likes per subscriber\"].mean())\n",
    "print(df3[\"likes per subscriber\"].mean())\n",
    "\n",
    "df3_yesc.shape\n",
    "#So asking for comments does appear to significantly improve the number of comments \n",
    "#But not the number of views or the number of likes\n",
    "#And very few people ask for comments, so it's unclear if this analysis was worthwhile. "
   ]
  },
  {
   "cell_type": "code",
   "execution_count": 179,
   "id": "b1e3f09c-3415-455c-99df-5048fcfeeb4e",
   "metadata": {},
   "outputs": [
    {
     "name": "stdout",
     "output_type": "stream",
     "text": [
      "0.005210739352159444\n",
      "0.03750552447491997\n",
      "0.03740280335900071\n"
     ]
    },
    {
     "data": {
      "text/plain": [
       "(56, 25)"
      ]
     },
     "execution_count": 179,
     "metadata": {},
     "output_type": "execute_result"
    }
   ],
   "source": [
    "#Checking if engagement is higher if a popular brand like Natasha Denona is mentioned \n",
    "\n",
    "nd_list = []\n",
    "for item in df3[\"title\"]:\n",
    "    item = item.lower()\n",
    "    x = \"yesnd\" if (\"natasha denona\" in item) else \"nond\"\n",
    "    nd_list.append(x)\n",
    "    \n",
    "df3[\"ND ind\"] = np.array(nd_list) \n",
    "\n",
    "df3_yesnd = df3.loc[ df3[\"ND ind\"] == \"yesnd\" ]\n",
    "df3_nond = df3.loc[ df3[\"ND ind\"] == \"nond\" ]\n",
    "\n",
    "print(df3_yesnd[\"likes per subscriber\"].mean())\n",
    "print(df3_nond[\"likes per subscriber\"].mean())\n",
    "print(df3[\"likes per subscriber\"].mean())\n",
    "\n",
    "df3_yesnd.shape\n",
    "\n",
    "#This analysis sucked since so few people mention Natasha Denona. "
   ]
  },
  {
   "cell_type": "code",
   "execution_count": 180,
   "id": "2b15df31-27ef-46c3-8144-aa10bedd963e",
   "metadata": {},
   "outputs": [
    {
     "name": "stdout",
     "output_type": "stream",
     "text": [
      "0.012120374905413452\n",
      "0.03742580045139738\n",
      "0.03740280335900071\n"
     ]
    },
    {
     "data": {
      "text/plain": [
       "(16, 26)"
      ]
     },
     "execution_count": 180,
     "metadata": {},
     "output_type": "execute_result"
    }
   ],
   "source": [
    "#Checking if engagement is higher if a popular brand like drunk elephant is mentioned \n",
    "\n",
    "de_list = []\n",
    "for item in df3[\"title\"]:\n",
    "    item = item.lower()\n",
    "    x = \"yesde\" if (\"drunk elephant\" in item) else \"node\"\n",
    "    de_list.append(x)\n",
    "    \n",
    "df3[\"DE ind\"] = np.array(de_list) \n",
    "\n",
    "df3_yesde = df3.loc[ df3[\"DE ind\"] == \"yesde\" ]\n",
    "df3_node = df3.loc[ df3[\"DE ind\"] == \"node\" ]\n",
    "\n",
    "print(df3_yesde[\"likes per subscriber\"].mean())\n",
    "print(df3_node[\"likes per subscriber\"].mean())\n",
    "print(df3[\"likes per subscriber\"].mean())\n",
    "\n",
    "df3_yesde.shape\n",
    "\n",
    "#This analysis sucked since so few people mention drunk elephant"
   ]
  },
  {
   "cell_type": "code",
   "execution_count": 181,
   "id": "d48689d1-02a4-46e5-b431-72f7f77247c7",
   "metadata": {},
   "outputs": [
    {
     "name": "stdout",
     "output_type": "stream",
     "text": [
      "0.6607839226742535\n",
      "0.9728378387860757\n",
      "0.8889133077858782\n"
     ]
    },
    {
     "data": {
      "text/plain": [
       "(4735, 26)"
      ]
     },
     "execution_count": 181,
     "metadata": {},
     "output_type": "execute_result"
    }
   ],
   "source": [
    "#Checking if posts that have a description do better on average\n",
    "\n",
    "df3_nodesc = df3.loc[ df3[\"text\"] == '']\n",
    "df3_yesdesc = df3.loc[ df3[\"text\"] != '' ]\n",
    "\n",
    "print(df3_yesdesc[\"views per subscriber\"].mean())\n",
    "print(df3_nodesc[\"views per subscriber\"].mean())\n",
    "print(df3[\"views per subscriber\"].mean())\n",
    "\n",
    "df3_yesdesc.shape\n",
    "\n",
    "#This is super weird- why does including a description make your video perform so much worse? "
   ]
  },
  {
   "cell_type": "code",
   "execution_count": 182,
   "id": "75077440-8396-420f-b1f1-060206a4e649",
   "metadata": {},
   "outputs": [
    {
     "name": "stdout",
     "output_type": "stream",
     "text": [
      "0.6839973410088527\n",
      "0.9337205022932931\n",
      "0.8889133077858782\n"
     ]
    }
   ],
   "source": [
    "#Checking if posts that have a hashtag in the description do better on average \n",
    "df3 = df3.copy()\n",
    "\n",
    "ht_list = []\n",
    "for item in df3[\"text\"]:\n",
    "    x = \"yes#\" if (\"#\" in item) else \"no#\"\n",
    "    ht_list.append(x)\n",
    "    \n",
    "df3[\"ht desc ind\"] = np.array(ht_list) \n",
    "\n",
    "df3_yeshtd = df3.loc[ df3[\"ht desc ind\"] == \"yes#\" ]\n",
    "df3_nohtd = df3.loc[ df3[\"ht desc ind\"] == \"no#\" ]\n",
    "\n",
    "print(df3_yeshtd[\"views per subscriber\"].mean())\n",
    "print(df3_nohtd[\"views per subscriber\"].mean())\n",
    "print(df3[\"views per subscriber\"].mean())\n",
    "\n",
    "#As you can see, including hashtags in the title significantly improves views! We should do a t-test here, and compare to \n",
    "#hashtags in title alone vs hashtags in both title and description vs hashtags in description alone \n",
    "\n",
    "#As before, having a hashtag in the description lowers the viewcount. This is probably because having a description at all lowers the viewcount. Weird!!\n",
    "#However, .68 is a little higher than the overall mean .66 of videos that have a description, as expected. "
   ]
  },
  {
   "cell_type": "code",
   "execution_count": 215,
   "id": "402b78fc-db42-45d2-9772-a8384ff03877",
   "metadata": {},
   "outputs": [
    {
     "data": {
      "text/plain": [
       "Index(['channelDescription', 'channelJoinedDate', 'channelTotalVideos',\n",
       "       'channelTotalViews', 'channelUsername', 'commentsCount', 'date',\n",
       "       'duration', 'id', 'isChannelVerified', 'likes', 'numberOfSubscribers',\n",
       "       'order', 'text', 'title', 'url', 'viewCount', 'likes per subscriber',\n",
       "       'comments per subscriber', 'views per subscriber',\n",
       "       'duration in seconds', 'datetime date', 'hashtag indicator',\n",
       "       'comment call indicator', 'ND ind', 'DE ind', 'ht desc ind'],\n",
       "      dtype='object')"
      ]
     },
     "execution_count": 215,
     "metadata": {},
     "output_type": "execute_result"
    }
   ],
   "source": [
    "df3.columns"
   ]
  },
  {
   "cell_type": "code",
   "execution_count": 217,
   "id": "a059323e-0bb6-4cb2-942c-84bfcb1b2a8f",
   "metadata": {},
   "outputs": [
    {
     "data": {
      "text/html": [
       "<div>\n",
       "<style scoped>\n",
       "    .dataframe tbody tr th:only-of-type {\n",
       "        vertical-align: middle;\n",
       "    }\n",
       "\n",
       "    .dataframe tbody tr th {\n",
       "        vertical-align: top;\n",
       "    }\n",
       "\n",
       "    .dataframe thead th {\n",
       "        text-align: right;\n",
       "    }\n",
       "</style>\n",
       "<table border=\"1\" class=\"dataframe\">\n",
       "  <thead>\n",
       "    <tr style=\"text-align: right;\">\n",
       "      <th></th>\n",
       "      <th>channelDescription</th>\n",
       "      <th>channelJoinedDate</th>\n",
       "      <th>channelTotalVideos</th>\n",
       "      <th>channelTotalViews</th>\n",
       "      <th>channelUsername</th>\n",
       "      <th>commentsCount</th>\n",
       "      <th>date</th>\n",
       "      <th>duration</th>\n",
       "      <th>id</th>\n",
       "      <th>isChannelVerified</th>\n",
       "      <th>...</th>\n",
       "      <th>likes per subscriber</th>\n",
       "      <th>comments per subscriber</th>\n",
       "      <th>views per subscriber</th>\n",
       "      <th>duration in seconds</th>\n",
       "      <th>datetime date</th>\n",
       "      <th>hashtag indicator</th>\n",
       "      <th>comment call indicator</th>\n",
       "      <th>ND ind</th>\n",
       "      <th>DE ind</th>\n",
       "      <th>ht desc ind</th>\n",
       "    </tr>\n",
       "  </thead>\n",
       "  <tbody>\n",
       "    <tr>\n",
       "      <th>0</th>\n",
       "      <td>Business inquiries only: info@nikkietutorials....</td>\n",
       "      <td>Jun 23, 2008</td>\n",
       "      <td>909.0</td>\n",
       "      <td>2.092121e+09</td>\n",
       "      <td>nikkietutorials</td>\n",
       "      <td>1844.0</td>\n",
       "      <td>2025-01-01T17:03:25.000Z</td>\n",
       "      <td>00:01:20</td>\n",
       "      <td>IF6k0pRUGVM</td>\n",
       "      <td>True</td>\n",
       "      <td>...</td>\n",
       "      <td>0.056438</td>\n",
       "      <td>0.000126</td>\n",
       "      <td>0.727973</td>\n",
       "      <td>80.0</td>\n",
       "      <td>2025-01-01 17:03:25+00:00</td>\n",
       "      <td>no#</td>\n",
       "      <td>noc</td>\n",
       "      <td>nond</td>\n",
       "      <td>node</td>\n",
       "      <td>no#</td>\n",
       "    </tr>\n",
       "    <tr>\n",
       "      <th>1</th>\n",
       "      <td>Business inquiries only: info@nikkietutorials....</td>\n",
       "      <td>Jun 23, 2008</td>\n",
       "      <td>909.0</td>\n",
       "      <td>2.092121e+09</td>\n",
       "      <td>nikkietutorials</td>\n",
       "      <td>1845.0</td>\n",
       "      <td>2024-09-26T17:09:34.000Z</td>\n",
       "      <td>00:00:59</td>\n",
       "      <td>qmrnz6Ee3Vs</td>\n",
       "      <td>True</td>\n",
       "      <td>...</td>\n",
       "      <td>0.032055</td>\n",
       "      <td>0.000126</td>\n",
       "      <td>0.503815</td>\n",
       "      <td>59.0</td>\n",
       "      <td>2024-09-26 17:09:34+00:00</td>\n",
       "      <td>no#</td>\n",
       "      <td>noc</td>\n",
       "      <td>nond</td>\n",
       "      <td>node</td>\n",
       "      <td>no#</td>\n",
       "    </tr>\n",
       "    <tr>\n",
       "      <th>2</th>\n",
       "      <td>Business inquiries only: info@nikkietutorials....</td>\n",
       "      <td>Jun 23, 2008</td>\n",
       "      <td>909.0</td>\n",
       "      <td>2.092121e+09</td>\n",
       "      <td>nikkietutorials</td>\n",
       "      <td>1398.0</td>\n",
       "      <td>2024-12-13T17:06:39.000Z</td>\n",
       "      <td>00:01:06</td>\n",
       "      <td>iMhxKAQmHuc</td>\n",
       "      <td>True</td>\n",
       "      <td>...</td>\n",
       "      <td>0.022534</td>\n",
       "      <td>0.000096</td>\n",
       "      <td>0.296186</td>\n",
       "      <td>66.0</td>\n",
       "      <td>2024-12-13 17:06:39+00:00</td>\n",
       "      <td>no#</td>\n",
       "      <td>noc</td>\n",
       "      <td>nond</td>\n",
       "      <td>node</td>\n",
       "      <td>no#</td>\n",
       "    </tr>\n",
       "    <tr>\n",
       "      <th>3</th>\n",
       "      <td>Business inquiries only: info@nikkietutorials....</td>\n",
       "      <td>Jun 23, 2008</td>\n",
       "      <td>909.0</td>\n",
       "      <td>2.092121e+09</td>\n",
       "      <td>nikkietutorials</td>\n",
       "      <td>529.0</td>\n",
       "      <td>2025-02-16T18:19:19.000Z</td>\n",
       "      <td>00:01:25</td>\n",
       "      <td>bM3XWjv8lfI</td>\n",
       "      <td>True</td>\n",
       "      <td>...</td>\n",
       "      <td>0.008219</td>\n",
       "      <td>0.000036</td>\n",
       "      <td>0.144431</td>\n",
       "      <td>85.0</td>\n",
       "      <td>2025-02-16 18:19:19+00:00</td>\n",
       "      <td>no#</td>\n",
       "      <td>noc</td>\n",
       "      <td>nond</td>\n",
       "      <td>node</td>\n",
       "      <td>no#</td>\n",
       "    </tr>\n",
       "    <tr>\n",
       "      <th>4</th>\n",
       "      <td>Business inquiries only: info@nikkietutorials....</td>\n",
       "      <td>Jun 23, 2008</td>\n",
       "      <td>909.0</td>\n",
       "      <td>2.092121e+09</td>\n",
       "      <td>nikkietutorials</td>\n",
       "      <td>4539.0</td>\n",
       "      <td>2024-07-07T17:33:45.000Z</td>\n",
       "      <td>00:01:00</td>\n",
       "      <td>L0mCS-xdzbc</td>\n",
       "      <td>True</td>\n",
       "      <td>...</td>\n",
       "      <td>0.045342</td>\n",
       "      <td>0.000311</td>\n",
       "      <td>0.584870</td>\n",
       "      <td>60.0</td>\n",
       "      <td>2024-07-07 17:33:45+00:00</td>\n",
       "      <td>no#</td>\n",
       "      <td>noc</td>\n",
       "      <td>nond</td>\n",
       "      <td>node</td>\n",
       "      <td>no#</td>\n",
       "    </tr>\n",
       "    <tr>\n",
       "      <th>...</th>\n",
       "      <td>...</td>\n",
       "      <td>...</td>\n",
       "      <td>...</td>\n",
       "      <td>...</td>\n",
       "      <td>...</td>\n",
       "      <td>...</td>\n",
       "      <td>...</td>\n",
       "      <td>...</td>\n",
       "      <td>...</td>\n",
       "      <td>...</td>\n",
       "      <td>...</td>\n",
       "      <td>...</td>\n",
       "      <td>...</td>\n",
       "      <td>...</td>\n",
       "      <td>...</td>\n",
       "      <td>...</td>\n",
       "      <td>...</td>\n",
       "      <td>...</td>\n",
       "      <td>...</td>\n",
       "      <td>...</td>\n",
       "      <td>...</td>\n",
       "    </tr>\n",
       "    <tr>\n",
       "      <th>17771</th>\n",
       "      <td>Hey friends!\\r\\n\\r\\nMy name is Alex, and on th...</td>\n",
       "      <td>Aug 1, 2021</td>\n",
       "      <td>2267.0</td>\n",
       "      <td>2.713484e+07</td>\n",
       "      <td>beautyforeverybody</td>\n",
       "      <td>1.0</td>\n",
       "      <td>2024-02-04T18:05:27.000Z</td>\n",
       "      <td>00:00:23</td>\n",
       "      <td>GcxanRv-x0o</td>\n",
       "      <td>False</td>\n",
       "      <td>...</td>\n",
       "      <td>0.011416</td>\n",
       "      <td>0.000044</td>\n",
       "      <td>0.230265</td>\n",
       "      <td>23.0</td>\n",
       "      <td>2024-02-04 18:05:27+00:00</td>\n",
       "      <td>no#</td>\n",
       "      <td>noc</td>\n",
       "      <td>nond</td>\n",
       "      <td>node</td>\n",
       "      <td>yes#</td>\n",
       "    </tr>\n",
       "    <tr>\n",
       "      <th>17772</th>\n",
       "      <td>Hey friends!\\r\\n\\r\\nMy name is Alex, and on th...</td>\n",
       "      <td>Aug 1, 2021</td>\n",
       "      <td>2267.0</td>\n",
       "      <td>2.713484e+07</td>\n",
       "      <td>beautyforeverybody</td>\n",
       "      <td>2.0</td>\n",
       "      <td>2024-02-07T23:43:52.000Z</td>\n",
       "      <td>00:00:11</td>\n",
       "      <td>4vmNbyX5onQ</td>\n",
       "      <td>False</td>\n",
       "      <td>...</td>\n",
       "      <td>0.009115</td>\n",
       "      <td>0.000088</td>\n",
       "      <td>0.338850</td>\n",
       "      <td>11.0</td>\n",
       "      <td>2024-02-07 23:43:52+00:00</td>\n",
       "      <td>no#</td>\n",
       "      <td>noc</td>\n",
       "      <td>nond</td>\n",
       "      <td>node</td>\n",
       "      <td>yes#</td>\n",
       "    </tr>\n",
       "    <tr>\n",
       "      <th>17773</th>\n",
       "      <td>Hey friends!\\r\\n\\r\\nMy name is Alex, and on th...</td>\n",
       "      <td>Aug 1, 2021</td>\n",
       "      <td>2267.0</td>\n",
       "      <td>2.713484e+07</td>\n",
       "      <td>beautyforeverybody</td>\n",
       "      <td>0.0</td>\n",
       "      <td>2024-01-19T21:42:11.000Z</td>\n",
       "      <td>00:00:21</td>\n",
       "      <td>9K3k8tC3zwY</td>\n",
       "      <td>False</td>\n",
       "      <td>...</td>\n",
       "      <td>0.002655</td>\n",
       "      <td>0.000000</td>\n",
       "      <td>0.123053</td>\n",
       "      <td>21.0</td>\n",
       "      <td>2024-01-19 21:42:11+00:00</td>\n",
       "      <td>no#</td>\n",
       "      <td>noc</td>\n",
       "      <td>nond</td>\n",
       "      <td>node</td>\n",
       "      <td>yes#</td>\n",
       "    </tr>\n",
       "    <tr>\n",
       "      <th>17774</th>\n",
       "      <td>Hey friends!\\r\\n\\r\\nMy name is Alex, and on th...</td>\n",
       "      <td>Aug 1, 2021</td>\n",
       "      <td>2267.0</td>\n",
       "      <td>2.713484e+07</td>\n",
       "      <td>beautyforeverybody</td>\n",
       "      <td>0.0</td>\n",
       "      <td>2024-01-12T18:05:26.000Z</td>\n",
       "      <td>00:00:21</td>\n",
       "      <td>XQqwG1JIga8</td>\n",
       "      <td>False</td>\n",
       "      <td>...</td>\n",
       "      <td>0.002389</td>\n",
       "      <td>0.000000</td>\n",
       "      <td>0.101726</td>\n",
       "      <td>21.0</td>\n",
       "      <td>2024-01-12 18:05:26+00:00</td>\n",
       "      <td>no#</td>\n",
       "      <td>noc</td>\n",
       "      <td>nond</td>\n",
       "      <td>node</td>\n",
       "      <td>yes#</td>\n",
       "    </tr>\n",
       "    <tr>\n",
       "      <th>17775</th>\n",
       "      <td>Hey friends!\\r\\n\\r\\nMy name is Alex, and on th...</td>\n",
       "      <td>Aug 1, 2021</td>\n",
       "      <td>2267.0</td>\n",
       "      <td>2.713484e+07</td>\n",
       "      <td>beautyforeverybody</td>\n",
       "      <td>1.0</td>\n",
       "      <td>2024-01-24T18:38:35.000Z</td>\n",
       "      <td>00:00:22</td>\n",
       "      <td>YKLIQ-TRrB0</td>\n",
       "      <td>False</td>\n",
       "      <td>...</td>\n",
       "      <td>0.002920</td>\n",
       "      <td>0.000044</td>\n",
       "      <td>0.118319</td>\n",
       "      <td>22.0</td>\n",
       "      <td>2024-01-24 18:38:35+00:00</td>\n",
       "      <td>no#</td>\n",
       "      <td>noc</td>\n",
       "      <td>nond</td>\n",
       "      <td>node</td>\n",
       "      <td>yes#</td>\n",
       "    </tr>\n",
       "  </tbody>\n",
       "</table>\n",
       "<p>17606 rows × 27 columns</p>\n",
       "</div>"
      ],
      "text/plain": [
       "                                      channelDescription channelJoinedDate  \\\n",
       "0      Business inquiries only: info@nikkietutorials....      Jun 23, 2008   \n",
       "1      Business inquiries only: info@nikkietutorials....      Jun 23, 2008   \n",
       "2      Business inquiries only: info@nikkietutorials....      Jun 23, 2008   \n",
       "3      Business inquiries only: info@nikkietutorials....      Jun 23, 2008   \n",
       "4      Business inquiries only: info@nikkietutorials....      Jun 23, 2008   \n",
       "...                                                  ...               ...   \n",
       "17771  Hey friends!\\r\\n\\r\\nMy name is Alex, and on th...       Aug 1, 2021   \n",
       "17772  Hey friends!\\r\\n\\r\\nMy name is Alex, and on th...       Aug 1, 2021   \n",
       "17773  Hey friends!\\r\\n\\r\\nMy name is Alex, and on th...       Aug 1, 2021   \n",
       "17774  Hey friends!\\r\\n\\r\\nMy name is Alex, and on th...       Aug 1, 2021   \n",
       "17775  Hey friends!\\r\\n\\r\\nMy name is Alex, and on th...       Aug 1, 2021   \n",
       "\n",
       "       channelTotalVideos  channelTotalViews     channelUsername  \\\n",
       "0                   909.0       2.092121e+09     nikkietutorials   \n",
       "1                   909.0       2.092121e+09     nikkietutorials   \n",
       "2                   909.0       2.092121e+09     nikkietutorials   \n",
       "3                   909.0       2.092121e+09     nikkietutorials   \n",
       "4                   909.0       2.092121e+09     nikkietutorials   \n",
       "...                   ...                ...                 ...   \n",
       "17771              2267.0       2.713484e+07  beautyforeverybody   \n",
       "17772              2267.0       2.713484e+07  beautyforeverybody   \n",
       "17773              2267.0       2.713484e+07  beautyforeverybody   \n",
       "17774              2267.0       2.713484e+07  beautyforeverybody   \n",
       "17775              2267.0       2.713484e+07  beautyforeverybody   \n",
       "\n",
       "       commentsCount                      date  duration           id  \\\n",
       "0             1844.0  2025-01-01T17:03:25.000Z  00:01:20  IF6k0pRUGVM   \n",
       "1             1845.0  2024-09-26T17:09:34.000Z  00:00:59  qmrnz6Ee3Vs   \n",
       "2             1398.0  2024-12-13T17:06:39.000Z  00:01:06  iMhxKAQmHuc   \n",
       "3              529.0  2025-02-16T18:19:19.000Z  00:01:25  bM3XWjv8lfI   \n",
       "4             4539.0  2024-07-07T17:33:45.000Z  00:01:00  L0mCS-xdzbc   \n",
       "...              ...                       ...       ...          ...   \n",
       "17771            1.0  2024-02-04T18:05:27.000Z  00:00:23  GcxanRv-x0o   \n",
       "17772            2.0  2024-02-07T23:43:52.000Z  00:00:11  4vmNbyX5onQ   \n",
       "17773            0.0  2024-01-19T21:42:11.000Z  00:00:21  9K3k8tC3zwY   \n",
       "17774            0.0  2024-01-12T18:05:26.000Z  00:00:21  XQqwG1JIga8   \n",
       "17775            1.0  2024-01-24T18:38:35.000Z  00:00:22  YKLIQ-TRrB0   \n",
       "\n",
       "       isChannelVerified  ...  likes per subscriber  comments per subscriber  \\\n",
       "0                   True  ...              0.056438                 0.000126   \n",
       "1                   True  ...              0.032055                 0.000126   \n",
       "2                   True  ...              0.022534                 0.000096   \n",
       "3                   True  ...              0.008219                 0.000036   \n",
       "4                   True  ...              0.045342                 0.000311   \n",
       "...                  ...  ...                   ...                      ...   \n",
       "17771              False  ...              0.011416                 0.000044   \n",
       "17772              False  ...              0.009115                 0.000088   \n",
       "17773              False  ...              0.002655                 0.000000   \n",
       "17774              False  ...              0.002389                 0.000000   \n",
       "17775              False  ...              0.002920                 0.000044   \n",
       "\n",
       "       views per subscriber duration in seconds             datetime date  \\\n",
       "0                  0.727973                80.0 2025-01-01 17:03:25+00:00   \n",
       "1                  0.503815                59.0 2024-09-26 17:09:34+00:00   \n",
       "2                  0.296186                66.0 2024-12-13 17:06:39+00:00   \n",
       "3                  0.144431                85.0 2025-02-16 18:19:19+00:00   \n",
       "4                  0.584870                60.0 2024-07-07 17:33:45+00:00   \n",
       "...                     ...                 ...                       ...   \n",
       "17771              0.230265                23.0 2024-02-04 18:05:27+00:00   \n",
       "17772              0.338850                11.0 2024-02-07 23:43:52+00:00   \n",
       "17773              0.123053                21.0 2024-01-19 21:42:11+00:00   \n",
       "17774              0.101726                21.0 2024-01-12 18:05:26+00:00   \n",
       "17775              0.118319                22.0 2024-01-24 18:38:35+00:00   \n",
       "\n",
       "      hashtag indicator  comment call indicator  ND ind  DE ind  ht desc ind  \n",
       "0                   no#                     noc    nond    node          no#  \n",
       "1                   no#                     noc    nond    node          no#  \n",
       "2                   no#                     noc    nond    node          no#  \n",
       "3                   no#                     noc    nond    node          no#  \n",
       "4                   no#                     noc    nond    node          no#  \n",
       "...                 ...                     ...     ...     ...          ...  \n",
       "17771               no#                     noc    nond    node         yes#  \n",
       "17772               no#                     noc    nond    node         yes#  \n",
       "17773               no#                     noc    nond    node         yes#  \n",
       "17774               no#                     noc    nond    node         yes#  \n",
       "17775               no#                     noc    nond    node         yes#  \n",
       "\n",
       "[17606 rows x 27 columns]"
      ]
     },
     "execution_count": 217,
     "metadata": {},
     "output_type": "execute_result"
    }
   ],
   "source": [
    "df3"
   ]
  },
  {
   "cell_type": "code",
   "execution_count": null,
   "id": "b6d249fa-310c-4bb7-8983-0c2c1a066e01",
   "metadata": {},
   "outputs": [],
   "source": []
  }
 ],
 "metadata": {
  "kernelspec": {
   "display_name": "Python 3 (ipykernel)",
   "language": "python",
   "name": "python3"
  },
  "language_info": {
   "codemirror_mode": {
    "name": "ipython",
    "version": 3
   },
   "file_extension": ".py",
   "mimetype": "text/x-python",
   "name": "python",
   "nbconvert_exporter": "python",
   "pygments_lexer": "ipython3",
   "version": "3.12.4"
  }
 },
 "nbformat": 4,
 "nbformat_minor": 5
}
