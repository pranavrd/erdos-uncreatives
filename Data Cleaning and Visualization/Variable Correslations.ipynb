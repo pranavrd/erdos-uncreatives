{
 "cells": [
  {
   "cell_type": "markdown",
   "id": "22ca3544-ae81-4868-9f38-aba31ca232df",
   "metadata": {},
   "source": [
    "In this notebook we investigate which numerical features seem to be correlated. \n",
    "\n",
    "We will be computing the pearson correlation, which ranges from -1 to 1. 0 means no relationship; the closer to 1 the stronger the positive relationship."
   ]
  },
  {
   "cell_type": "code",
   "execution_count": 55,
   "id": "a04b9381-4cd4-4d09-9db9-0e9d7048031a",
   "metadata": {},
   "outputs": [
    {
     "data": {
      "text/plain": [
       "Index(['Unnamed: 0', 'channelDescription', 'channelJoinedDate',\n",
       "       'channelTotalVideos', 'channelTotalViews', 'channelUsername',\n",
       "       'commentsCount', 'date', 'duration', 'id', 'isChannelVerified', 'likes',\n",
       "       'numberOfSubscribers', 'order', 'text', 'title', 'url', 'viewCount',\n",
       "       'likes per subscriber', 'comments per subscriber',\n",
       "       'views per subscriber', 'duration in seconds', 'datetime date'],\n",
       "      dtype='object')"
      ]
     },
     "execution_count": 55,
     "metadata": {},
     "output_type": "execute_result"
    }
   ],
   "source": [
    "import pandas as pd\n",
    "import numpy as np\n",
    "import matplotlib.pyplot as plt\n",
    "import seaborn as sns\n",
    "\n",
    "df = pd.read_csv(r\"C:\\Users\\arubi\\Desktop\\datascience2025\\erdos-uncreatives\\Data Cleaning and Visualization\\cleaner_transformed_data_Rachael2.csv\")\n",
    "df.columns"
   ]
  },
  {
   "cell_type": "markdown",
   "id": "59c4fb7c-3b0e-4133-bf79-1c93179fa85e",
   "metadata": {},
   "source": [
    "Our numerical features include:\n",
    "\n",
    "Duration in seconds\n",
    "Likes/subscriber\n",
    "comments/subscriber\n",
    "views/subscriber"
   ]
  },
  {
   "cell_type": "code",
   "execution_count": 73,
   "id": "a30621d1-c112-45f3-b3c1-69f855b5d228",
   "metadata": {},
   "outputs": [
    {
     "name": "stdout",
     "output_type": "stream",
     "text": [
      "[[ 1.         -0.03303727]\n",
      " [-0.03303727  1.        ]]\n",
      "[[ 1.         -0.01842462]\n",
      " [-0.01842462  1.        ]]\n",
      "[[ 1.         -0.04685202]\n",
      " [-0.04685202  1.        ]]\n"
     ]
    }
   ],
   "source": [
    "print(np.corrcoef(x = df[\"duration in seconds\"], y = df[\"views per subscriber\"]))\n",
    "print(np.corrcoef(x = df[\"duration in seconds\"], y = df[\"likes per subscriber\"]))\n",
    "print(np.corrcoef(x = df[\"duration in seconds\"], y = df[\"comments per subscriber\"]))"
   ]
  },
  {
   "cell_type": "code",
   "execution_count": null,
   "id": "f6b2dd9c-b5a9-415b-af06-c037a04a6a57",
   "metadata": {},
   "outputs": [],
   "source": [
    "#Conclusion: Longer videos do worse, on all counts. They are most \n",
    "#Also longer videos do worse, but not by a huge amount."
   ]
  },
  {
   "cell_type": "code",
   "execution_count": 75,
   "id": "ee7f27f2-9cf6-4ac7-a366-f8f0695b14a1",
   "metadata": {},
   "outputs": [
    {
     "name": "stdout",
     "output_type": "stream",
     "text": [
      "[[1.        0.9444172]\n",
      " [0.9444172 1.       ]]\n",
      "[[1.         0.51852064]\n",
      " [0.51852064 1.        ]]\n"
     ]
    }
   ],
   "source": [
    "print(np.corrcoef(x = df[\"views per subscriber\"], y = df[\"likes per subscriber\"]))\n",
    "print(np.corrcoef(x = df[\"views per subscriber\"], y = df[\"comments per subscriber\"]))"
   ]
  },
  {
   "cell_type": "code",
   "execution_count": null,
   "id": "f8bae667-2e68-404d-941c-ef1eb9bffc49",
   "metadata": {},
   "outputs": [],
   "source": []
  },
  {
   "cell_type": "code",
   "execution_count": 77,
   "id": "720c3929-a110-458e-a1a6-aa6ba94541b7",
   "metadata": {},
   "outputs": [],
   "source": [
    "#Conclusion: If your video gets seen, people are really likely to also like and comment. They are much more likely to like your video rather than comment."
   ]
  },
  {
   "cell_type": "code",
   "execution_count": 79,
   "id": "9693799e-6269-4953-b56c-4af1515324a8",
   "metadata": {},
   "outputs": [
    {
     "name": "stdout",
     "output_type": "stream",
     "text": [
      "[[1.         0.51630558]\n",
      " [0.51630558 1.        ]]\n"
     ]
    }
   ],
   "source": [
    "print(np.corrcoef(x = df[\"likes per subscriber\"], y = df[\"comments per subscriber\"]))"
   ]
  },
  {
   "cell_type": "code",
   "execution_count": null,
   "id": "9521ff38-3d7e-4637-ae0e-9cd56fd6fa55",
   "metadata": {},
   "outputs": [],
   "source": [
    "#Conclusion: Likes are not as highly correlation to comments. These are measuring different but related things."
   ]
  }
 ],
 "metadata": {
  "kernelspec": {
   "display_name": "Python 3 (ipykernel)",
   "language": "python",
   "name": "python3"
  },
  "language_info": {
   "codemirror_mode": {
    "name": "ipython",
    "version": 3
   },
   "file_extension": ".py",
   "mimetype": "text/x-python",
   "name": "python",
   "nbconvert_exporter": "python",
   "pygments_lexer": "ipython3",
   "version": "3.12.4"
  }
 },
 "nbformat": 4,
 "nbformat_minor": 5
}
