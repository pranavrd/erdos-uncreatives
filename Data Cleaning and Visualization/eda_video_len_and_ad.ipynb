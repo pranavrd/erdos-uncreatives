{
 "cells": [
  {
   "cell_type": "code",
   "execution_count": 98,
   "metadata": {},
   "outputs": [],
   "source": [
    "#all imports for eda\n",
    "import pandas as pd\n",
    "import numpy as np\n",
    "import matplotlib.pyplot as plt\n",
    "import seaborn as sns"
   ]
  },
  {
   "cell_type": "code",
   "execution_count": 101,
   "metadata": {},
   "outputs": [
    {
     "data": {},
     "execution_count": 101,
     "metadata": {},
     "output_type": "execute_result"
    }
   ],
   "source": [
    "df  = pd.read_csv('data_no_spaces_all_features_correct_dates.csv')\n",
    "df.columns"
   ]
  },
  {
   "cell_type": "code",
   "execution_count": 102,
   "metadata": {},
   "outputs": [
    {
     "name": "stdout",
     "output_type": "stream",
     "text": []
    },
    {
     "data": {},
     "execution_count": 102,
     "metadata": {},
     "output_type": "execute_result"
    }
   ],
   "source": [
    "# print columns title, text, id, order, likes, viewCount, commentsCount\n",
    "subdf = df[['title', 'text', 'id', 'likes', 'viewCount', 'commentsCount', 'duration_in_seconds']]\n",
    "\n",
    "# remove rows with NaN values\n",
    "# subdf = subdf.dropna()\n",
    "# print rows with 'ad' as a substring in the 'title' column or in the 'text' column\n",
    "# DataFrame for rows where 'title' contains 'ad'\n",
    "subdf['hasAdinTitle'] = subdf['title'].str.lower().str.contains('ad|sponsored|collaboration|promo|partner|affiliate|paid|gift', case=False, na=False).astype(int)\n",
    "subdf['hasAdinText'] = subdf['text'].str.lower().str.contains('ad|sponsored|collaboration|promo|partner|affiliate|paid|gift', case=False, na=False).astype(int)\n",
    "\n",
    "subdf_stats = subdf.groupby(['hasAdinTitle', 'hasAdinText'])[['viewCount', 'likes', 'commentsCount']].agg(['mean', 'median', 'count'])\n",
    "subdf_stats"
   ]
  },
  {
   "cell_type": "code",
   "execution_count": 103,
   "metadata": {},
   "outputs": [
    {
     "data": {},
     "metadata": {},
     "output_type": "display_data"
    }
   ],
   "source": [
    "_, axes = plt.subplots(2, 3, figsize=(15, 10))\n",
    "\n",
    "# plot for hasadintitle\n",
    "sns.boxplot(x='hasAdinTitle', y='viewCount', data=subdf, ax=axes[0, 0])\n",
    "sns.boxplot(x='hasAdinTitle', y='likes', data=subdf, ax=axes[0, 1])\n",
    "sns.boxplot(x='hasAdinTitle', y='commentsCount', data=subdf, ax=axes[0, 2])\n",
    "axes[0, 0].set_title('View Count by Ad in Title')\n",
    "axes[0, 1].set_title('Likes by Ad in Title')\n",
    "axes[0, 2].set_title('Comments Count by Ad in Title')\n",
    "\n",
    "# plot for hasadintext\n",
    "sns.boxplot(x='hasAdinText', y='viewCount', data=subdf, ax=axes[1, 0])\n",
    "sns.boxplot(x='hasAdinText', y='likes', data=subdf, ax=axes[1, 1])\n",
    "sns.boxplot(x='hasAdinText', y='commentsCount', data=subdf, ax=axes[1, 2])\n",
    "axes[1, 0].set_title('View Count by Ad in Text')\n",
    "axes[1, 1].set_title('Likes by Ad in Text')\n",
    "axes[1, 2].set_title('Comments Count by Ad in Text')\n",
    "\n",
    "plt.tight_layout()\n",
    "plt.show()\n"
   ]
  },
  {
   "cell_type": "code",
   "execution_count": 104,
   "metadata": {},
   "outputs": [
    {
     "data": {},
     "metadata": {},
     "output_type": "display_data"
    }
   ],
   "source": [
    "df_corr = subdf[['viewCount', 'likes', 'commentsCount', 'hasAdinTitle', 'hasAdinText']]\n",
    "\n",
    "corr_matrix = df_corr.corr(method='pearson')\n",
    "plt.figure(figsize=(10, 6))\n",
    "sns.heatmap(corr_matrix, annot=True, cmap='coolwarm', fmt='.2f', square=True)\n",
    "plt.title('Correlation Matrix')\n",
    "plt.show()"
   ]
  },
  {
   "cell_type": "code",
   "execution_count": 105,
   "metadata": {},
   "outputs": [
    {
     "name": "stdout",
     "output_type": "stream",
     "text": []
    }
   ],
   "source": [
    "# perform a t-test\n",
    "from scipy import stats\n",
    "# t-test for viewCount\n",
    "metrics = ['viewCount', 'likes', 'commentsCount']\n",
    "for metric in metrics:\n",
    "    t_stat, p_value = stats.ttest_ind(subdf.loc[subdf['hasAdinTitle'] == 1, metric], subdf.loc[subdf['hasAdinTitle'] == 0, metric], equal_var=False)\n",
    "    print(f'T-test for {metric}: t-statistic = {t_stat}, p-value = {p_value}')\n",
    "    t_stat_text, p_value_text = stats.ttest_ind(subdf.loc[subdf['hasAdinText'] == 1, metric], subdf.loc[subdf['hasAdinText'] == 0, metric], equal_var=False)\n",
    "    print(f'T-test for {metric} by Ad in Text: t-statistic = {t_stat_text}, p-value = {p_value_text}')\n"
   ]
  },
  {
   "cell_type": "markdown",
   "metadata": {},
   "source": [
    "### Engagement on videos with ads vs without ads\n",
    "- When the title of a video contains any hashtag related to ads, the views and likes don't differ compared to video with titles not containing ads\n",
    "- One key difference is in the number of comments that are left on videos with title containing hashtags related to ads. The comments drop significantly\n",
    "- When the text of a video contains any hashtag related to ads, all metrics of engagement drop significantly.\n",
    "\n",
    "This suggests that title of a video containing the information of it being an ad doesn't affect viewership or likability of the video but people participate less actively, i.e., they tend to not leave comments on such videos\n",
    "\n",
    "It also suggests that the text of a video containing ad related hashtags negatively affects engagement, suggesting people are averse to promotional content.\n",
    "\n",
    "From this we can also say that the title is of less importance when it comes to engagement with a ad video or otherwise."
   ]
  },
  {
   "cell_type": "code",
   "execution_count": 106,
   "metadata": {},
   "outputs": [],
   "source": [
    "#get a list of all unique hashtags from title column and text column\n",
    "hashtags = df['title'].str.extractall(r'#(\\w+)')[0].value_counts()\n",
    "hashtags.to_csv('unique_hashtags_in_title.csv')\n",
    "hashtags = df['text'].str.extractall(r'#(\\w+)')[0].value_counts()\n",
    "hashtags.to_csv('unique_hashtags_in_text.csv')"
   ]
  },
  {
   "cell_type": "code",
   "execution_count": 108,
   "metadata": {},
   "outputs": [
    {
     "data": {},
     "execution_count": 108,
     "metadata": {},
     "output_type": "execute_result"
    }
   ],
   "source": [
    "# Filter out videos from before 15 October 2024\n",
    "filtered_df = df[df['datetime_date'] >= '2024-10-15']\n",
    "\n",
    "# Create subdf2 with the filtered data\n",
    "subdf2 = filtered_df[filtered_df['duration_in_seconds'] > 60][['duration_in_seconds', 'viewCount', 'likes', 'commentsCount']]\n",
    "subdf2.describe()"
   ]
  },
  {
   "cell_type": "code",
   "execution_count": 109,
   "metadata": {},
   "outputs": [
    {
     "data": {},
     "metadata": {},
     "output_type": "display_data"
    },
    {
     "data": {},
     "metadata": {},
     "output_type": "display_data"
    }
   ],
   "source": [
    "# Use subdf2 as df_corr2\n",
    "df_corr2 = subdf2[['duration_in_seconds', 'viewCount', 'likes', 'commentsCount']]\n",
    "\n",
    "pearson_corr = df_corr2.corr(method='pearson')\n",
    "spearman_corr = df_corr2.corr(method='spearman')\n",
    "\n",
    "# Plot Pearson correlation matrix\n",
    "plt.figure(figsize=(10, 6))\n",
    "sns.heatmap(pearson_corr, annot=True, cmap='coolwarm', fmt='.2f', square=True)\n",
    "plt.title('Pearson Correlation Matrix')\n",
    "plt.show()\n",
    "\n",
    "# Plot Spearman correlation matrix\n",
    "plt.figure(figsize=(10, 6))\n",
    "sns.heatmap(spearman_corr, annot=True, cmap='coolwarm', fmt='.2f', square=True)\n",
    "plt.title('Spearman Correlation Matrix')\n",
    "plt.show()\n"
   ]
  },
  {
   "cell_type": "markdown",
   "metadata": {},
   "source": [
    "### Correlation between video length and views likes & comments\n",
    "There is no direction relation between duration and any of the given metrics"
   ]
  },
  {
   "cell_type": "code",
   "execution_count": 111,
   "metadata": {},
   "outputs": [
    {
     "data": {},
     "metadata": {},
     "output_type": "display_data"
    },
    {
     "data": {},
     "metadata": {},
     "output_type": "display_data"
    },
    {
     "data": {},
     "metadata": {},
     "output_type": "display_data"
    }
   ],
   "source": [
    "for metric in ['viewCount', 'likes', 'commentsCount']:\n",
    "    plt.figure(figsize=(10, 6))\n",
    "    sns.scatterplot(x='duration_in_seconds', y=metric, data=subdf2, alpha=0.3)\n",
    "    sns.regplot(x='duration_in_seconds', y=metric, data=subdf2, scatter=False, color='red')\n",
    "    plt.yscale('log')\n",
    "    plt.title(f'{metric} vs. Duration in Seconds (Log Scale)')\n",
    "    plt.xlabel('Duration (seconds)')\n",
    "    plt.ylabel(metric)\n",
    "    plt.show()"
   ]
  },
  {
   "cell_type": "markdown",
   "metadata": {},
   "source": [
    "### Engagement trend for longer duration videos\n",
    "As the length of the video increases the engagement on the video drops, not too significantly but it does drop. "
   ]
  },
  {
   "cell_type": "code",
   "execution_count": 112,
   "metadata": {},
   "outputs": [
    {
     "name": "stdout",
     "output_type": "stream",
     "text": []
    },
    {
     "name": "stdout",
     "output_type": "stream",
     "text": []
    }
   ],
   "source": [
    "# Filter the dataframe\n",
    "filtered_df = df[df['datetime_date'] >= '2024-10-15']\n",
    "\n",
    "# Create duration bins\n",
    "filtered_df['duration_bin'] = pd.cut(filtered_df['duration_in_seconds'], bins=[0, 30, 60, float('inf')], labels=['Short', 'Medium', 'Long'])\n",
    "\n",
    "# Perform t-tests\n",
    "for metric in metrics:\n",
    "    for group1, group2 in [('Short', 'Medium'), ('Medium', 'Long'), ('Short', 'Long')]:\n",
    "        t_stat, p_value = stats.ttest_ind(\n",
    "            filtered_df.loc[filtered_df['duration_bin'] == group1, metric],\n",
    "            filtered_df.loc[filtered_df['duration_bin'] == group2, metric],\n",
    "            equal_var=False\n",
    "        )\n",
    "        print(f'T-test for {metric} ({group1} vs {group2}): t-statistic = {t_stat:.4f}, p-value = {p_value:.4f}')"
   ]
  },
  {
   "cell_type": "markdown",
   "metadata": {},
   "source": [
    "### Comparison between different video lengths\n",
    "- Short vs Medium : Shorter length videos have lesser views, likes and comments compared to Medium length videos\n",
    "- Medium vs Long : Medium length videos have more views, likes and comments compared to Medium length videos\n",
    "- Short vs Long : Shorter videos have less likes and comments but the difference is not significant\n"
   ]
  },
  {
   "cell_type": "code",
   "execution_count": 113,
   "metadata": {},
   "outputs": [
    {
     "data": {},
     "metadata": {},
     "output_type": "display_data"
    },
    {
     "data": {},
     "metadata": {},
     "output_type": "display_data"
    },
    {
     "data": {},
     "metadata": {},
     "output_type": "display_data"
    }
   ],
   "source": [
    "for metric in ['viewCount', 'likes', 'commentsCount']:\n",
    "    plt.figure(figsize=(8, 6))\n",
    "    sns.barplot(x='duration_bin', y=metric, data=filtered_df)\n",
    "    plt.title(f'{metric} by Duration Bin')\n",
    "    plt.xlabel('Duration Bin')\n",
    "    plt.ylabel(metric)\n",
    "    plt.show()"
   ]
  },
  {
   "cell_type": "markdown",
   "metadata": {},
   "source": [
    "### Engagement trend by duration\n",
    "From the above bar plots its evident that medium duration (30-60s) videos perform the best in terms of views, likes and comments."
   ]
  },
  {
   "cell_type": "code",
   "execution_count": null,
   "metadata": {},
   "outputs": [],
   "source": []
  },
  {
   "cell_type": "code",
   "execution_count": 116,
   "metadata": {},
   "outputs": [
    {
     "name": "stdout",
     "output_type": "stream",
     "text": []
    },
    {
     "data": {},
     "metadata": {},
     "output_type": "display_data"
    },
    {
     "name": "stdout",
     "output_type": "stream",
     "text": []
    },
    {
     "name": "stdout",
     "output_type": "stream",
     "text": []
    },
    {
     "data": {},
     "metadata": {},
     "output_type": "display_data"
    },
    {
     "name": "stdout",
     "output_type": "stream",
     "text": []
    },
    {
     "name": "stdout",
     "output_type": "stream",
     "text": []
    },
    {
     "data": {},
     "metadata": {},
     "output_type": "display_data"
    },
    {
     "name": "stdout",
     "output_type": "stream",
     "text": []
    },
    {
     "name": "stdout",
     "output_type": "stream",
     "text": []
    }
   ],
   "source": [
    "import statsmodels.api as sm    \n",
    "\n",
    "subdf['datetime_date'] = pd.to_datetime(df['datetime_date'], errors='coerce')\n",
    "subdf['hasAdinText'] = subdf['hasAdinText'].astype(int)\n",
    "subdf['hasAdinTitle'] = subdf['hasAdinTitle'].astype(int)\n",
    "# Filter the data\n",
    "filtered_subdf = subdf[(subdf['datetime_date'] >= '2024-10-15') & \n",
    "                       (subdf['duration_in_seconds'] < 60) & \n",
    "                       (subdf['viewCount'] < 0.2e8) & \n",
    "                       (subdf['likes'] < 1e6) & \n",
    "                       (subdf['commentsCount'] < 10000)]\n",
    "\n",
    "for metric in ['viewCount', 'likes', 'commentsCount']:\n",
    "    plt.figure(figsize=(10, 6))\n",
    "    sns.scatterplot(x='duration_in_seconds', y=metric, hue='hasAdinText', data=filtered_subdf, alpha=0.5)\n",
    "    sns.regplot(x='duration_in_seconds', y=metric, data=filtered_subdf, scatter=False, color='red')\n",
    "    # sns.regplot(x='hasAdinText', y=metric, data=filtered_subdf, scatter=False, color='green')\n",
    "    plt.title(f'{metric} vs. Duration by Ad in Text')\n",
    "    plt.xlabel('Duration (seconds)')\n",
    "    plt.ylabel(metric)\n",
    "    # plt.yscale('log')\n",
    "    plt.show()\n",
    "\n",
    "    # Regression with interaction\n",
    "    X = filtered_subdf[['duration_in_seconds', 'hasAdinText']]\n",
    "    X['duration_ad'] = X['duration_in_seconds'] * X['hasAdinText']\n",
    "    X = sm.add_constant(X)\n",
    "    y = filtered_subdf[metric]\n",
    "    model = sm.OLS(y, X).fit()\n",
    "    print(f\"\\nInteraction Regression for {metric}:\")\n",
    "    print(model.summary())"
   ]
  },
  {
   "cell_type": "code",
   "execution_count": 118,
   "metadata": {},
   "outputs": [
    {
     "data": {},
     "metadata": {},
     "output_type": "display_data"
    },
    {
     "data": {},
     "metadata": {},
     "output_type": "display_data"
    },
    {
     "data": {},
     "metadata": {},
     "output_type": "display_data"
    }
   ],
   "source": [
    "for metric in ['viewCount', 'likes', 'commentsCount']:\n",
    "    median_val = filtered_df[metric].median()\n",
    "    plt.figure(figsize=(10, 6))\n",
    "    sns.kdeplot(data=filtered_df[filtered_df[metric] > median_val], x='duration_in_seconds', label='High', fill=True)\n",
    "    sns.kdeplot(data=filtered_df[filtered_df[metric] <= median_val], x='duration_in_seconds', label='Low', fill=True)\n",
    "    plt.title(f'Duration Density: High vs. Low {metric}')\n",
    "    plt.xlabel('Duration (seconds)')\n",
    "    plt.legend()\n",
    "    plt.show()"
   ]
  }
 ],
 "metadata": {
  "kernelspec": {
   "display_name": "erdos_spring_2025",
   "language": "python",
   "name": "python3"
  },
  "language_info": {
   "codemirror_mode": {
    "name": "ipython",
    "version": 3
   },
   "file_extension": ".py",
   "mimetype": "text/x-python",
   "name": "python",
   "nbconvert_exporter": "python",
   "pygments_lexer": "ipython3",
   "version": "3.12.8"
  }
 },
 "nbformat": 4,
 "nbformat_minor": 4
}
