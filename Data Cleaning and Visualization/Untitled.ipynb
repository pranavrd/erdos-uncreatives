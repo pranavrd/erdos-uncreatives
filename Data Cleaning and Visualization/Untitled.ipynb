{
 "cells": [
  {
   "cell_type": "code",
   "execution_count": 41,
   "id": "1fd8cba2-8f83-4a15-b8d3-e6857b6b0ecf",
   "metadata": {},
   "outputs": [],
   "source": [
    "import pandas as pd\n",
    "import numpy as np\n",
    "import datetime\n",
    "\n",
    "df = pd.read_csv(r\"C:\\Users\\arubi\\Desktop\\datascience2025\\erdos-uncreatives\\Data Cleaning and Visualization\\data_no_spaces_all_features.csv\")\n",
    "df[\"datetime date\"] = df[\"datetime date\"].apply(datetime.datetime.fromisoformat) #changes from string to datetime object using vectorized code \n",
    "march_1_2025_str = '2025-03-01T00:00:00.000Z'\n",
    "march_1_2025 = datetime.datetime.fromisoformat(march_1_2025_str) #This is an \"aware\" datetime object in the same format as the others \n",
    "march_1_2024_str = '2024-03-01T00:00:00.000Z'\n",
    "march_1_2024 = datetime.datetime.fromisoformat(march_1_2024_str) #This is an \"aware\" datetime object in the same format as the others "
   ]
  },
  {
   "cell_type": "code",
   "execution_count": 61,
   "id": "62bb2bf9-b151-4b27-9fee-0e560ee0afe3",
   "metadata": {},
   "outputs": [],
   "source": [
    "df= df.loc[ df[\"datetime date\"] >= march_1_2024]"
   ]
  },
  {
   "cell_type": "code",
   "execution_count": 69,
   "id": "29a62a08-7a29-4767-b433-70ceda1f3a4d",
   "metadata": {},
   "outputs": [],
   "source": [
    "df[\"engagement_per_subscriber\"] = df[\"likes per subscriber\"] + df[\"comments per subscriber\"] / df[\"numberOfSubscribers\"]"
   ]
  },
  {
   "cell_type": "code",
   "execution_count": 75,
   "id": "e8bb555b-436b-4a46-9736-a6cb7ca31afd",
   "metadata": {},
   "outputs": [
    {
     "data": {
      "text/plain": [
       "Index(['channelDescription', 'channelJoinedDate', 'channelTotalVideos',\n",
       "       'channelTotalViews', 'channelUsername', 'commentsCount', 'date',\n",
       "       'duration', 'id', 'isChannelVerified', 'likes', 'numberOfSubscribers',\n",
       "       'order', 'text', 'title', 'url', 'viewCount', 'likes per subscriber',\n",
       "       'comments per subscriber', 'views per subscriber',\n",
       "       'duration in seconds', 'datetime date', 'hashtags', 'comm_to_views',\n",
       "       'likes_to_views', 'popular_brand', 'has_title_affiliate',\n",
       "       'has_description_affiliate', 'has_channel_description_affiliate',\n",
       "       'has_any_affiliate', 'has_business_inquiry',\n",
       "       'engagement_per_subscriber'],\n",
       "      dtype='object')"
      ]
     },
     "execution_count": 75,
     "metadata": {},
     "output_type": "execute_result"
    }
   ],
   "source": [
    "df.columns"
   ]
  },
  {
   "cell_type": "code",
   "execution_count": 77,
   "id": "7bc8c4e6-07f6-4024-bc81-70f809360db2",
   "metadata": {},
   "outputs": [],
   "source": [
    "df.rename(columns={'likes per subscriber': 'likes_per_subscriber', 'comments per subscriber': 'comments_per_subscriber', 'views per subscriber': 'views_per_subscriber', 'duration in seconds': 'duration_in_seconds', 'datetime date': 'datetime_date'},   inplace=True)"
   ]
  },
  {
   "cell_type": "code",
   "execution_count": null,
   "id": "3798fba5-01c6-492b-ad63-255b19aa7064",
   "metadata": {},
   "outputs": [],
   "source": []
  }
 ],
 "metadata": {
  "kernelspec": {
   "display_name": "Python 3 (ipykernel)",
   "language": "python",
   "name": "python3"
  },
  "language_info": {
   "codemirror_mode": {
    "name": "ipython",
    "version": 3
   },
   "file_extension": ".py",
   "mimetype": "text/x-python",
   "name": "python",
   "nbconvert_exporter": "python",
   "pygments_lexer": "ipython3",
   "version": "3.12.4"
  }
 },
 "nbformat": 4,
 "nbformat_minor": 5
}
