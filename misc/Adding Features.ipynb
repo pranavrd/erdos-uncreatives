{
 "cells": [
  {
   "cell_type": "markdown",
   "id": "84e05d13-786c-4f93-b2d2-f619132c3337",
   "metadata": {},
   "source": [
    "In this notebook we will take our basic data set and add a lot of the features that were discussed during our EDA.\n",
    "\n",
    "This includes:\n",
    "1) A column \"hashtags\" which lists the number of hashtags used in total between the title and the description\n",
    "2) Columns comm_to_views and likes_to_views which give the comments:views and likes:views ratios\n",
    "3) A column \"popular_brands\" which is 1 (True) if a popular brand is mentioned and 0 (False) otherwise\n",
    "4) Affiliate Columns that tell if a post has an affiliate link or discount code, as well as buisiness inquiries."
   ]
  },
  {
   "cell_type": "code",
   "execution_count": 1,
   "id": "edfbe49f-c7a5-4ce9-a4cd-0f8c574468a3",
   "metadata": {},
   "outputs": [
    {
     "data": {
      "text/plain": [
       "Index(['Unnamed: 0', 'channelDescription', 'channelJoinedDate',\n",
       "       'channelTotalVideos', 'channelTotalViews', 'channelUsername',\n",
       "       'commentsCount', 'date', 'duration', 'id', 'isChannelVerified', 'likes',\n",
       "       'numberOfSubscribers', 'order', 'text', 'title', 'url', 'viewCount',\n",
       "       'likes per subscriber', 'comments per subscriber',\n",
       "       'views per subscriber', 'duration in seconds', 'datetime date'],\n",
       "      dtype='object')"
      ]
     },
     "execution_count": 1,
     "metadata": {},
     "output_type": "execute_result"
    }
   ],
   "source": [
    "import pandas as pd\n",
    "import numpy as np\n",
    "df = pd.read_csv(r\"C:\\Users\\arubi\\Desktop\\datascience2025\\erdos-uncreatives\\Data Cleaning and Visualization\\cleaner_transformed_data_Rachael_with_no_spaces_in_column_names.csv\")\n",
    "df.columns"
   ]
  },
  {
   "cell_type": "code",
   "execution_count": 7,
   "id": "205ece06-92d8-480d-bcf5-c1c0eabb7974",
   "metadata": {},
   "outputs": [
    {
     "data": {
      "text/plain": [
       "0        0\n",
       "1        0\n",
       "2        0\n",
       "3        0\n",
       "4        0\n",
       "        ..\n",
       "17601    5\n",
       "17602    6\n",
       "17603    7\n",
       "17604    5\n",
       "17605    7\n",
       "Name: hashtags, Length: 17606, dtype: int64"
      ]
     },
     "execution_count": 7,
     "metadata": {},
     "output_type": "execute_result"
    }
   ],
   "source": [
    "#Creating the hashtags column \n",
    "df[\"text\"] = df[\"text\"].fillna(\"\")\n",
    "df[\"hashtags\"] = df[\"title\"].str.count(\"#\") + df[\"text\"].str.count(\"#\")"
   ]
  },
  {
   "cell_type": "code",
   "execution_count": 9,
   "id": "4d0302d3-fae6-4ade-914f-ab07220ea382",
   "metadata": {},
   "outputs": [],
   "source": [
    "#Creating the ratio columns\n",
    "\n",
    "df[\"comm_to_views\"] = df[\"commentsCount\"] / df[\"viewCount\"]\n",
    "df[\"likes_to_views\"] = df[\"likes\"] / df[\"viewCount\"]"
   ]
  },
  {
   "cell_type": "code",
   "execution_count": 23,
   "id": "4dbc88eb-338b-453a-a93a-861500f64a94",
   "metadata": {},
   "outputs": [
    {
     "data": {
      "text/plain": [
       "(2801, 27)"
      ]
     },
     "execution_count": 23,
     "metadata": {},
     "output_type": "execute_result"
    }
   ],
   "source": [
    "#Creating the popular_brand colummn\n",
    "\n",
    "mentions = [\"natasha denona\", \"natashadenona\", \"denona\", \"tower 28\", \"tower28\", \"pat mcgrath\", \"pmg labs\", \"mcgrath\", \"patmcgrath\"]\n",
    "mentions += [\"urban decay\", \"urbandecay\", \"colourpop\", \"colorpop\", \"colour pop\", \"fenty\", \"e.l.f.\", \"elf\", \"nyx\", \"essence\", \"benefit\"]\n",
    "mentions += [\"anastasia\", \"abh\", \"tarte\", \"milk\", \"maybelline\", \"oden's eye\", \"oden'seye\", \"odenseye\", \"the ordinary\", \"theordinary\"]\n",
    "mentions += [\"beauty of josean\", \"josean\", \"bubble\", \"paula's choice\", \"paula'schoice\", \"paulaschoice\", \"cerave\", \"good molecules\"]\n",
    "mentions += [\"cosrx\", \"olive young\", \"oliveyoung\", \"grossman\", \"skinfix\", \"drunk elephant\", \"drunkelephant\", \"roche-posay\", \"roche posay\", \"rocheposay\"]\n",
    "mentions += [\"supergoop\", \"glow recipe\", \"glowrecipe\", \"rhode\"]\n",
    "\n",
    "new_array = df[\"title\"] + df[\"text\"] #Creating a single array of both title and description so that my for loop works in the next step. \n",
    "\n",
    "popb_list = []\n",
    "for item in new_array:\n",
    "    item = item.lower()\n",
    "\n",
    "    ment_bool = 0\n",
    "    for ment in mentions:\n",
    "        if (ment in item):\n",
    "            ment_bool = 1\n",
    "\n",
    "    popb_list.append(ment_bool) \n",
    "    \n",
    "df[\"popular_brand\"] = np.array(popb_list) "
   ]
  },
  {
   "cell_type": "code",
   "execution_count": 25,
   "id": "35f0638e-f07c-4ced-9ec6-a244e7f10a25",
   "metadata": {},
   "outputs": [],
   "source": [
    "#Adding affiliate columns; this is copy-pasted from Yasaman's notebook\n",
    "\n",
    "import re\n",
    "# affiliate links and discount codes\n",
    "affiliate_patterns = [\n",
    "    r'aff(iliate)?[ -]?link',\n",
    "    r'ref(erral)?[ -]?link',\n",
    "    r'partner[ -]?link',\n",
    "    r'sponsored[ -]?link',\n",
    "    r'^http(s)?:\\/\\/(www\\.)?(amzn\\.to|amazon\\.[a-z\\.]+\\/[^\\s]+tag=)',\n",
    "    r'go\\.magik\\.ly',\n",
    "    r'liketoknow\\.it',\n",
    "    r'prf\\.hn',\n",
    "    r'shareasale',\n",
    "    r'rewardstyle',\n",
    "    r'linktr\\.ee'\n",
    "]\n",
    "\n",
    "discount_patterns = [\n",
    "    r'disc(ount)?[ -]?code',\n",
    "    r'coupon[ -]?code',\n",
    "    r'promo[ -]?code',\n",
    "    r'save \\d+%',\n",
    "    r'\\d+%[ -]?off',\n",
    "    r'use code[: ][a-z0-9_]+'\n",
    "]\n",
    "\n",
    "\n",
    "business_patterns = [\n",
    "    r'business inquir(y|ies)',\n",
    "    r'collaborations?',\n",
    "    r'sponsorships?',\n",
    "    r'partnerships?',\n",
    "    r'for business',\n",
    "    r'contact(\\s+me)?(\\s+for)?(\\s+business)?'\n",
    "]\n",
    "\n",
    "def has_affiliate_or_discount(text):\n",
    "    if pd.isna(text):\n",
    "        return False\n",
    "\n",
    "    has_affiliate = any(re.search(pattern, text, re.IGNORECASE) for pattern in affiliate_patterns)\n",
    "\n",
    "    has_discount = any(re.search(pattern, text, re.IGNORECASE) for pattern in discount_patterns)\n",
    "\n",
    "    return has_affiliate or has_discount\n",
    "\n",
    "def has_business_inquiry(text):\n",
    "    if pd.isna(text):\n",
    "        return False\n",
    "\n",
    "    return any(re.search(pattern, text, re.IGNORECASE) for pattern in business_patterns)\n",
    "\n",
    "df['has_title_affiliate'] = df['title'].apply(has_affiliate_or_discount)\n",
    "df['has_description_affiliate'] = df['text'].apply(has_affiliate_or_discount)\n",
    "df['has_channel_description_affiliate'] = df['channelDescription'].apply(has_affiliate_or_discount)\n",
    "df['has_any_affiliate'] = df['has_title_affiliate'] | df['has_description_affiliate'] | df['has_channel_description_affiliate']\n",
    "df['has_business_inquiry'] = df['channelDescription'].apply(has_business_inquiry)"
   ]
  },
  {
   "cell_type": "code",
   "execution_count": 29,
   "id": "9d9f97a6-9b2e-4571-95a6-9fb3760c4313",
   "metadata": {},
   "outputs": [],
   "source": [
    "df['has_title_affiliate'] = df['has_title_affiliate'].astype(int)\n",
    "df['has_description_affiliate'] = df['has_description_affiliate'].astype(int)\n",
    "df['has_channel_description_affiliate'] = df['has_channel_description_affiliate'].astype(int)\n",
    "df['has_any_affiliate'] = df['has_any_affiliate'].astype(int)\n",
    "df['has_business_inquiry'] = df['has_business_inquiry'].astype(int)"
   ]
  },
  {
   "cell_type": "code",
   "execution_count": 35,
   "id": "b50591a3-89c2-4b64-98f6-df195f1093f1",
   "metadata": {},
   "outputs": [],
   "source": [
    "df.to_csv(\"data_no_spaces_all_features.csv\")"
   ]
  },
  {
   "cell_type": "code",
   "execution_count": null,
   "id": "9dca1de7-49c0-4f5f-9d7d-5f38b693d0eb",
   "metadata": {},
   "outputs": [],
   "source": []
  }
 ],
 "metadata": {
  "kernelspec": {
   "display_name": "Python 3 (ipykernel)",
   "language": "python",
   "name": "python3"
  },
  "language_info": {
   "codemirror_mode": {
    "name": "ipython",
    "version": 3
   },
   "file_extension": ".py",
   "mimetype": "text/x-python",
   "name": "python",
   "nbconvert_exporter": "python",
   "pygments_lexer": "ipython3",
   "version": "3.12.4"
  }
 },
 "nbformat": 4,
 "nbformat_minor": 5
}
