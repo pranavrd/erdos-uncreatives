{
 "cells": [
  {
   "cell_type": "markdown",
   "id": "b330d9aa-7f3c-430e-b1d7-fd6de4e6b58d",
   "metadata": {},
   "source": [
    "Before we began modelling, we asked if linear regression was appropriate to perform since it may be possible that our data is not normally distributed. This is because viral videos exist in our data which have hugely inflated numbers; they may be skewing the distribution."
   ]
  },
  {
   "cell_type": "code",
   "execution_count": 3,
   "id": "854b16b3-5b1e-42d0-bf59-09f802158fa4",
   "metadata": {},
   "outputs": [
    {
     "data": {
      "text/plain": [
       "Index(['Unnamed: 0', 'channelDescription', 'channelJoinedDate',\n",
       "       'channelTotalVideos', 'channelTotalViews', 'channelUsername',\n",
       "       'commentsCount', 'date', 'duration', 'id', 'isChannelVerified', 'likes',\n",
       "       'numberOfSubscribers', 'order', 'text', 'title', 'url', 'viewCount',\n",
       "       'likes_per_subscriber', 'comments_per_subscriber',\n",
       "       'views_per_subscriber', 'duration_in_seconds', 'datetime_date',\n",
       "       'hashtags', 'comm_to_views', 'likes_to_views', 'popular_brand',\n",
       "       'has_title_affiliate', 'has_description_affiliate',\n",
       "       'has_channel_description_affiliate', 'has_any_affiliate',\n",
       "       'has_business_inquiry', 'engagement_per_subscriber'],\n",
       "      dtype='object')"
      ]
     },
     "execution_count": 3,
     "metadata": {},
     "output_type": "execute_result"
    }
   ],
   "source": [
    "import pandas as pd\n",
    "import numpy as np\n",
    "\n",
    "df = pd.read_csv(r\"C:\\Users\\arubi\\Desktop\\datascience2025\\erdos-uncreatives\\Data Cleaning and Visualization\\data_no_spaces_all_features_correct_dates.csv\")\n",
    "df.columns"
   ]
  },
  {
   "cell_type": "code",
   "execution_count": null,
   "id": "f261ac72-f296-4430-84ec-296e6c3bf5d9",
   "metadata": {},
   "outputs": [],
   "source": []
  },
  {
   "cell_type": "code",
   "execution_count": 30,
   "id": "ab7bec58-5330-441f-bb55-15f40b06df78",
   "metadata": {},
   "outputs": [
    {
     "name": "stdout",
     "output_type": "stream",
     "text": [
      "Statistics=56975.066, p=0.0000000000\n"
     ]
    }
   ],
   "source": [
    "from scipy.stats import normaltest\n",
    "stat, p = normaltest(df[\"views_per_subscriber\"])\n",
    "print('Statistics=%.3f, p=%.10f' % (stat, p))"
   ]
  },
  {
   "cell_type": "code",
   "execution_count": 15,
   "id": "f6424226-7163-4b45-9668-479e855807c4",
   "metadata": {},
   "outputs": [],
   "source": [
    "df[\"engagement\"] = (df[\"likes\"] + df[\"commentsCount\"])/df[\"viewCount\"]"
   ]
  },
  {
   "cell_type": "code",
   "execution_count": 28,
   "id": "56fbfbbc-4afd-42ad-91fa-5fd866cc9a7a",
   "metadata": {},
   "outputs": [
    {
     "name": "stdout",
     "output_type": "stream",
     "text": [
      "Statistics=15356.046, p=0.0000000000\n"
     ]
    }
   ],
   "source": [
    "stat, p = normaltest(df[\"engagement\"])\n",
    "print('Statistics=%.3f, p=%.10f' % (stat, p))"
   ]
  },
  {
   "cell_type": "markdown",
   "id": "0e0e86c4-1f1b-4b95-a3b7-0a8cdccf4c93",
   "metadata": {},
   "source": [
    "The p-values that printed were so small that yes, we can conclude our two target variables $$Y_1, Y_2$$ are normally distributed random variables.\n",
    "\n",
    "There should thus be no issue if we decide to fit the data with a linear model"
   ]
  },
  {
   "cell_type": "code",
   "execution_count": null,
   "id": "20e17f0a-3205-4830-8d64-d19b8a3c6258",
   "metadata": {},
   "outputs": [],
   "source": []
  }
 ],
 "metadata": {
  "kernelspec": {
   "display_name": "Python 3 (ipykernel)",
   "language": "python",
   "name": "python3"
  },
  "language_info": {
   "codemirror_mode": {
    "name": "ipython",
    "version": 3
   },
   "file_extension": ".py",
   "mimetype": "text/x-python",
   "name": "python",
   "nbconvert_exporter": "python",
   "pygments_lexer": "ipython3",
   "version": "3.12.4"
  }
 },
 "nbformat": 4,
 "nbformat_minor": 5
}
