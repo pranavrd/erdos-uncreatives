{
 "cells": [
  {
   "cell_type": "markdown",
   "id": "adb01222-c61b-4f7d-a664-83c8f142f636",
   "metadata": {},
   "source": [
    "In this notebook we will conduct the exploratory data analysis and visualization for the question \"What effect does mentioning popular brands have on engagement?\" We will look at mentions both in the title and in the description. \n",
    "\n",
    "We have two kinds of engagement metrics: likes/subscriber and comments/subscriber. Both of these are highly correlated with views, since a short must be seen before it can be commented on/liked. \n",
    "\n",
    "We have hand-selected 30 popular beauty brands; 15 of these are skincare brands and 15 of these are makeup brands. This list is subjective and may not be exhaustive but should cover a good number of popular brands. \n",
    "\n",
    "Brands:\n",
    "Makeup:\n",
    "1) Natasha Denona\n",
    "2) Tower 28\n",
    "3) Pat McGrath\n",
    "4) Urban Decay\n",
    "5) ColourPop\n",
    "6) Fenty Beauty\n",
    "7) E.L.F. cosmetics\n",
    "8) Nyx professional makeup\n",
    "9) Essence\n",
    "10) Benefit Cosmetics\n",
    "11) Anastasia Beverly Hills\n",
    "12) Tarte\n",
    "13) Milk Makeup\n",
    "14) Maybelline\n",
    "15) Oden's Eye\n",
    "\n",
    "Skincare:\n",
    "1) The Ordinary\n",
    "2) Beauty of Josean\n",
    "3) Bubble\n",
    "4) Paula's Choice\n",
    "5) Cerave\n",
    "6) Good Molecules\n",
    "7) Cosrx\n",
    "8) Olive Young\n",
    "9) Dennis Grossman\n",
    "10) Skinfix\n",
    "11) Drunk Elephant\n",
    "12) La Roche-Posay\n",
    "13) Supergoop\n",
    "14) Glow Recipe\n",
    "15) Rhode"
   ]
  },
  {
   "cell_type": "code",
   "execution_count": 30,
   "id": "0d154c66-7c47-4fb5-8cd0-2d1758bd22b0",
   "metadata": {},
   "outputs": [
    {
     "data": {
      "text/plain": [
       "0                                                         \n",
       "1                                                         \n",
       "2                                                         \n",
       "3                                                         \n",
       "4                                                         \n",
       "                               ...                        \n",
       "17601    💕💗💖\\r\\n\\r\\n#dupe #makeupdupe #affordablemakeup...\n",
       "17602    It’s soooo good! 🤩\\r\\n\\r\\n#beautyguru #dupe #m...\n",
       "17603    🙊🛑✋🏻 \\r\\n\\r\\n#dupe #makeupdupe #affordablemake...\n",
       "17604    #dupe #makeupdupe #affordablemakeup #affordabl...\n",
       "17605    🧁🎂🥂 \\r\\n\\r\\n#dupe #makeupdupe #affordablemakeu...\n",
       "Name: text, Length: 17606, dtype: object"
      ]
     },
     "execution_count": 30,
     "metadata": {},
     "output_type": "execute_result"
    }
   ],
   "source": [
    "mentions = [\"natasha denona\", \"natashadenona\", \"denona\", \"tower 28\", \"tower28\", \"pat mcgrath\", \"pmg labs\", \"mcgrath\", \"patmcgrath\"]\n",
    "mentions += [\"urban decay\", \"urbandecay\", \"colourpop\", \"colorpop\", \"colour pop\", \"fenty\", \"e.l.f.\", \"elf\", \"nyx\", \"essence\", \"benefit\"]\n",
    "mentions += [\"anastasia\", \"abh\", \"tarte\", \"milk\", \"maybelline\", \"oden's eye\", \"oden'seye\", \"odenseye\", \"the ordinary\", \"theordinary\"]\n",
    "mentions += [\"beauty of josean\", \"josean\", \"bubble\", \"paula's choice\", \"paula'schoice\", \"paulaschoice\", \"cerave\", \"good molecules\"]\n",
    "mentions += [\"cosrx\", \"olive young\", \"oliveyoung\", \"grossman\", \"skinfix\", \"drunk elephant\", \"drunkelephant\", \"roche-posay\", \"roche posay\", \"rocheposay\"]\n",
    "mentions += [\"supergoop\", \"glow recipe\", \"glowrecipe\", \"rhode\"]\n",
    "\n",
    "import pandas as pd\n",
    "import numpy as np\n",
    "import matplotlib.pyplot as plt\n",
    "import seaborn as sns\n",
    "\n",
    "df = pd.read_csv(r\"C:\\Users\\arubi\\Desktop\\datascience2025\\erdos-uncreatives\\Data Cleaning and Visualization\\cleaner_transformed_data_Rachael2.csv\")\n",
    "\n",
    "\n",
    "text_list = []\n",
    "\n",
    "for item in df[\"text\"]:\n",
    "    x = item if type(item) == str else '' \n",
    "    text_list.append(x)\n",
    "\n",
    "df[\"text\"] = np.array(text_list)\n",
    "df[\"text\"]"
   ]
  },
  {
   "cell_type": "code",
   "execution_count": 32,
   "id": "0e9b7894-9c2d-4d8b-8fa0-4a84960d598b",
   "metadata": {},
   "outputs": [],
   "source": [
    "#I am now creating an indicator variable that is True if the brand is mentioned and False otherwise. \n",
    "\n",
    "df[\"title plus desc\"] = df[\"title\"] + df[\"text\"] #Creating a single column of both title and description so that my for loop works in the next step. \n",
    "\n",
    "popb_list = []\n",
    "for item in df[\"title plus desc\"]:\n",
    "    item = item.lower()\n",
    "\n",
    "    ment_bool = False\n",
    "    for ment in mentions:\n",
    "        if (ment in item):\n",
    "            ment_bool = True\n",
    "\n",
    "    popb_list.append(ment_bool) \n",
    "    \n",
    "df[\"popular brand ind\"] = np.array(popb_list) "
   ]
  },
  {
   "cell_type": "code",
   "execution_count": 44,
   "id": "96cdd093-5aed-4e7b-afc7-3f2f5fd260de",
   "metadata": {},
   "outputs": [
    {
     "data": {
      "text/plain": [
       "(2801, 25)"
      ]
     },
     "execution_count": 44,
     "metadata": {},
     "output_type": "execute_result"
    }
   ],
   "source": [
    "df_yes = df.loc[  df[\"popular brand ind\"] == True]\n",
    "df_no = df.loc[  df[\"popular brand ind\"] == False]\n",
    "\n",
    "df_yes.shape\n",
    "#This tells me 2801 posts mention popular brands. This is a good number."
   ]
  },
  {
   "cell_type": "code",
   "execution_count": 46,
   "id": "da689610-a1d3-4a97-8cad-04dfeb53a999",
   "metadata": {},
   "outputs": [
    {
     "name": "stdout",
     "output_type": "stream",
     "text": [
      "1.3146686792927587\n",
      "0.8083634397959576\n",
      "0.888913307785878\n"
     ]
    }
   ],
   "source": [
    "print(df_yes[\"views per subscriber\"].mean())\n",
    "print(df_no[\"views per subscriber\"].mean())\n",
    "print(df[\"views per subscriber\"].mean())"
   ]
  },
  {
   "cell_type": "code",
   "execution_count": 48,
   "id": "e8a13804-cdb2-43b2-b746-de17b99a3f8b",
   "metadata": {},
   "outputs": [
    {
     "name": "stdout",
     "output_type": "stream",
     "text": [
      "0.03955607346942807\n",
      "0.03699542007096911\n",
      "0.03740280335900066\n"
     ]
    }
   ],
   "source": [
    "print(df_yes[\"likes per subscriber\"].mean())\n",
    "print(df_no[\"likes per subscriber\"].mean())\n",
    "print(df[\"likes per subscriber\"].mean())"
   ]
  },
  {
   "cell_type": "code",
   "execution_count": 50,
   "id": "8afdb16a-ebaa-40cf-9514-3dee7e4ce42b",
   "metadata": {},
   "outputs": [
    {
     "name": "stdout",
     "output_type": "stream",
     "text": [
      "0.0004895520500762861\n",
      "0.00047501716002136795\n",
      "0.00047732956641940413\n"
     ]
    }
   ],
   "source": [
    "print(df_yes[\"comments per subscriber\"].mean())\n",
    "print(df_no[\"comments per subscriber\"].mean())\n",
    "print(df[\"comments per subscriber\"].mean())"
   ]
  },
  {
   "cell_type": "markdown",
   "id": "493b876c-4228-4ebf-adb1-e54c71f700f1",
   "metadata": {},
   "source": [
    "Here are my final thoughts based on the analysis: Mentioning popular brands seems to significantly improve views. It seems to improves likes/comments, but not necessarily significantly. This is quite strange! One reason for this might be because these posts tend to mention popular brands in hashtags, which improve views, even though people overall are not more likely to comment or like on your post just because you mentioned a popular brand. This would be a great question for further investigation. "
   ]
  }
 ],
 "metadata": {
  "kernelspec": {
   "display_name": "Python 3 (ipykernel)",
   "language": "python",
   "name": "python3"
  },
  "language_info": {
   "codemirror_mode": {
    "name": "ipython",
    "version": 3
   },
   "file_extension": ".py",
   "mimetype": "text/x-python",
   "name": "python",
   "nbconvert_exporter": "python",
   "pygments_lexer": "ipython3",
   "version": "3.12.4"
  }
 },
 "nbformat": 4,
 "nbformat_minor": 5
}
