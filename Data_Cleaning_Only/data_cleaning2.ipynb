{
 "cells": [
  {
   "cell_type": "markdown",
   "id": "53163666-e68b-4294-a216-2fcf42402e64",
   "metadata": {},
   "source": [
    "In this notebook we continue data cleaning. We drop any columns that contained empty data which would be an error from the data scraping process. We convert the duration column into a numerical column that lists the duration of the short in seconds. We add a few post performance metrics such as a column that lists likes/subscriber. Finally, we make sure that our data set only contains shorts from 3/1/2024 to 3/1/2025 which is the time period of posts that we wanted to look at for our project. "
   ]
  },
  {
   "cell_type": "code",
   "execution_count": 33,
   "id": "818ce79d-1424-44f0-96a2-a904b4e0b7af",
   "metadata": {},
   "outputs": [
    {
     "name": "stdout",
     "output_type": "stream",
     "text": [
      "Index(['channelDescription', 'channelJoinedDate', 'channelLocation',\n",
      "       'channelTotalVideos', 'channelTotalViews', 'channelUsername',\n",
      "       'commentsCount', 'date', 'duration', 'id', 'isChannelVerified', 'likes',\n",
      "       'numberOfSubscribers', 'order', 'text', 'title', 'url', 'viewCount'],\n",
      "      dtype='object')\n"
     ]
    }
   ],
   "source": [
    "import pandas as pd\n",
    "import numpy as np\n",
    "import matplotlib.pyplot as plt\n",
    "import seaborn as sns\n",
    "\n",
    "#importing our slightly cleaned data\n",
    "#Changed to a relative directory so anyone can run it\n",
    "df = pd.read_csv(\"../data/clean_data2.csv\")\n",
    "print(df.columns) #Investigating which columns remain after cleaning "
   ]
  },
  {
   "cell_type": "code",
   "execution_count": 34,
   "id": "613c5a9b-e16b-4d82-81fc-bfb409190cd9",
   "metadata": {},
   "outputs": [
    {
     "name": "stdout",
     "output_type": "stream",
     "text": [
      "<class 'pandas.core.frame.DataFrame'>\n",
      "RangeIndex: 19185 entries, 0 to 19184\n",
      "Data columns (total 18 columns):\n",
      " #   Column               Non-Null Count  Dtype  \n",
      "---  ------               --------------  -----  \n",
      " 0   channelDescription   18151 non-null  object \n",
      " 1   channelJoinedDate    19185 non-null  object \n",
      " 2   channelLocation      13922 non-null  object \n",
      " 3   channelTotalVideos   19185 non-null  float64\n",
      " 4   channelTotalViews    19185 non-null  float64\n",
      " 5   channelUsername      19185 non-null  object \n",
      " 6   commentsCount        19163 non-null  float64\n",
      " 7   date                 19184 non-null  object \n",
      " 8   duration             18818 non-null  object \n",
      " 9   id                   19185 non-null  object \n",
      " 10  isChannelVerified    19185 non-null  bool   \n",
      " 11  likes                19167 non-null  float64\n",
      " 12  numberOfSubscribers  19185 non-null  float64\n",
      " 13  order                19185 non-null  float64\n",
      " 14  text                 5657 non-null   object \n",
      " 15  title                19185 non-null  object \n",
      " 16  url                  19185 non-null  object \n",
      " 17  viewCount            19184 non-null  float64\n",
      "dtypes: bool(1), float64(7), object(10)\n",
      "memory usage: 2.5+ MB\n"
     ]
    },
    {
     "data": {
      "text/plain": [
       "5594                                                      \n",
       "1366     Which perfume do you like the most? 🥰 ‪@Makeup...\n",
       "8614     Get this Acne Friendly GLOW in just 4 steps us...\n",
       "16322                                                     \n",
       "9634     #skincarehaul #theordinary #theordinaryhaul #t...\n",
       "10714                                                     \n",
       "4470                                                      \n",
       "13109                                                     \n",
       "13370                                                     \n",
       "18695                                                     \n",
       "Name: text, dtype: object"
      ]
     },
     "execution_count": 34,
     "metadata": {},
     "output_type": "execute_result"
    }
   ],
   "source": [
    "df.info()\n",
    "\n",
    "df[\"text\"].sample(10)\n",
    "#THIS IS THE \"DESCRIPTION\" OF THE VIDEO. MANY USERS LEAVE THE DESCRIPTION BLANK!!! \n",
    "#We want this. \n",
    "#I am changing the NaN entries to empty strings. \n",
    "# This is an easier and more performant way of doing this\n",
    "# Also doing this for channelDescription\n",
    "df[\"text\"] = df[\"text\"].fillna(\"\")\n",
    "df[\"channelDescription\"] = df[\"channelDescription\"].fillna(\"\")\n",
    "\n",
    "df[\"text\"].sample(10)"
   ]
  },
  {
   "cell_type": "code",
   "execution_count": 35,
   "id": "75c79514-b710-4bf6-8eb7-b12cca15e53b",
   "metadata": {},
   "outputs": [
    {
     "name": "stdout",
     "output_type": "stream",
     "text": [
      "<class 'pandas.core.frame.DataFrame'>\n",
      "RangeIndex: 19185 entries, 0 to 19184\n",
      "Data columns (total 17 columns):\n",
      " #   Column               Non-Null Count  Dtype  \n",
      "---  ------               --------------  -----  \n",
      " 0   channelDescription   19185 non-null  object \n",
      " 1   channelJoinedDate    19185 non-null  object \n",
      " 2   channelTotalVideos   19185 non-null  float64\n",
      " 3   channelTotalViews    19185 non-null  float64\n",
      " 4   channelUsername      19185 non-null  object \n",
      " 5   commentsCount        19163 non-null  float64\n",
      " 6   date                 19184 non-null  object \n",
      " 7   duration             18818 non-null  object \n",
      " 8   id                   19185 non-null  object \n",
      " 9   isChannelVerified    19185 non-null  bool   \n",
      " 10  likes                19167 non-null  float64\n",
      " 11  numberOfSubscribers  19185 non-null  float64\n",
      " 12  order                19185 non-null  float64\n",
      " 13  text                 19185 non-null  object \n",
      " 14  title                19185 non-null  object \n",
      " 15  url                  19185 non-null  object \n",
      " 16  viewCount            19184 non-null  float64\n",
      "dtypes: bool(1), float64(7), object(9)\n",
      "memory usage: 2.4+ MB\n"
     ]
    }
   ],
   "source": [
    "#Double-checking for non-null entries\n",
    "#Let's drop Channel Location since that one is also often empty\n",
    "\n",
    "# There's no real point in incrementing the name of the dataframe here\n",
    "\n",
    "df = df.drop(\"channelLocation\", axis = 1) \n",
    "df.info()"
   ]
  },
  {
   "cell_type": "code",
   "execution_count": 36,
   "id": "aadf9ebe-b39d-47af-957d-e1c3d5e3cab5",
   "metadata": {},
   "outputs": [
    {
     "name": "stdout",
     "output_type": "stream",
     "text": [
      "<class 'pandas.core.frame.DataFrame'>\n",
      "Index: 18798 entries, 0 to 19184\n",
      "Data columns (total 17 columns):\n",
      " #   Column               Non-Null Count  Dtype  \n",
      "---  ------               --------------  -----  \n",
      " 0   channelDescription   18798 non-null  object \n",
      " 1   channelJoinedDate    18798 non-null  object \n",
      " 2   channelTotalVideos   18798 non-null  float64\n",
      " 3   channelTotalViews    18798 non-null  float64\n",
      " 4   channelUsername      18798 non-null  object \n",
      " 5   commentsCount        18798 non-null  float64\n",
      " 6   date                 18798 non-null  object \n",
      " 7   duration             18798 non-null  object \n",
      " 8   id                   18798 non-null  object \n",
      " 9   isChannelVerified    18798 non-null  bool   \n",
      " 10  likes                18798 non-null  float64\n",
      " 11  numberOfSubscribers  18798 non-null  float64\n",
      " 12  order                18798 non-null  float64\n",
      " 13  text                 18798 non-null  object \n",
      " 14  title                18798 non-null  object \n",
      " 15  url                  18798 non-null  object \n",
      " 16  viewCount            18798 non-null  float64\n",
      "dtypes: bool(1), float64(7), object(9)\n",
      "memory usage: 2.5+ MB\n"
     ]
    }
   ],
   "source": [
    "#Okay, now I see that some columns still have empty entries. Let's drop them. \n",
    "\n",
    "df = df.dropna().copy()\n",
    "df.info()"
   ]
  },
  {
   "cell_type": "code",
   "execution_count": 37,
   "id": "9a268cca-14e0-4ced-838f-f50346d4eca1",
   "metadata": {},
   "outputs": [
    {
     "data": {
      "text/html": [
       "<div>\n",
       "<style scoped>\n",
       "    .dataframe tbody tr th:only-of-type {\n",
       "        vertical-align: middle;\n",
       "    }\n",
       "\n",
       "    .dataframe tbody tr th {\n",
       "        vertical-align: top;\n",
       "    }\n",
       "\n",
       "    .dataframe thead th {\n",
       "        text-align: right;\n",
       "    }\n",
       "</style>\n",
       "<table border=\"1\" class=\"dataframe\">\n",
       "  <thead>\n",
       "    <tr style=\"text-align: right;\">\n",
       "      <th></th>\n",
       "      <th>duration</th>\n",
       "      <th>duration_in_seconds</th>\n",
       "    </tr>\n",
       "  </thead>\n",
       "  <tbody>\n",
       "    <tr>\n",
       "      <th>1226</th>\n",
       "      <td>00:00:55</td>\n",
       "      <td>55</td>\n",
       "    </tr>\n",
       "    <tr>\n",
       "      <th>6011</th>\n",
       "      <td>00:00:13</td>\n",
       "      <td>13</td>\n",
       "    </tr>\n",
       "    <tr>\n",
       "      <th>14447</th>\n",
       "      <td>00:00:38</td>\n",
       "      <td>38</td>\n",
       "    </tr>\n",
       "    <tr>\n",
       "      <th>6665</th>\n",
       "      <td>00:00:28</td>\n",
       "      <td>28</td>\n",
       "    </tr>\n",
       "    <tr>\n",
       "      <th>13410</th>\n",
       "      <td>00:00:14</td>\n",
       "      <td>14</td>\n",
       "    </tr>\n",
       "    <tr>\n",
       "      <th>14211</th>\n",
       "      <td>00:00:07</td>\n",
       "      <td>7</td>\n",
       "    </tr>\n",
       "    <tr>\n",
       "      <th>29</th>\n",
       "      <td>00:01:00</td>\n",
       "      <td>60</td>\n",
       "    </tr>\n",
       "    <tr>\n",
       "      <th>14269</th>\n",
       "      <td>00:00:16</td>\n",
       "      <td>16</td>\n",
       "    </tr>\n",
       "    <tr>\n",
       "      <th>17903</th>\n",
       "      <td>00:01:00</td>\n",
       "      <td>60</td>\n",
       "    </tr>\n",
       "    <tr>\n",
       "      <th>2704</th>\n",
       "      <td>00:01:00</td>\n",
       "      <td>60</td>\n",
       "    </tr>\n",
       "  </tbody>\n",
       "</table>\n",
       "</div>"
      ],
      "text/plain": [
       "       duration  duration_in_seconds\n",
       "1226   00:00:55                   55\n",
       "6011   00:00:13                   13\n",
       "14447  00:00:38                   38\n",
       "6665   00:00:28                   28\n",
       "13410  00:00:14                   14\n",
       "14211  00:00:07                    7\n",
       "29     00:01:00                   60\n",
       "14269  00:00:16                   16\n",
       "17903  00:01:00                   60\n",
       "2704   00:01:00                   60"
      ]
     },
     "execution_count": 37,
     "metadata": {},
     "output_type": "execute_result"
    }
   ],
   "source": [
    "#We are interested in engagement metrics. Obviously the more subscribers you have, the more views/likes/comments you will get. A post is performing well\n",
    "#regardless of follower count if it has good \"engagement\", which is a metrics such as likes/subscriber. Here I am transforming raw likes/comments/views\n",
    "#to engagement metrics. \n",
    "\n",
    "# Make sure to use underscores in column names. Spaces interfere with some functions such as pd.query()\n",
    "\n",
    "df[\"likes_per_subscriber\"] = df[\"likes\"]/df[\"numberOfSubscribers\"]\n",
    "df[\"comments_per_subscriber\"] = df[\"commentsCount\"]/df[\"numberOfSubscribers\"]\n",
    "df[\"views_per_subscriber\"] = df[\"viewCount\"]/df[\"numberOfSubscribers\"]\n",
    "\n",
    "\n",
    "#Changing duration column from a string to an integer \n",
    "import datetime \n",
    "\n",
    "def convert_duration_to_int(item):\n",
    "    item_as_datetime = datetime.datetime.strptime( item , \"%H:%M:%S\"  ) #converts string to a datetime object\n",
    "    seconds = item_as_datetime.second + 60 * item_as_datetime.minute + 3600 * item_as_datetime.hour\n",
    "    return seconds\n",
    "    \n",
    "df[\"duration_in_seconds\"] = df[\"duration\"].apply(convert_duration_to_int) \n",
    "df[[\"duration\", \"duration_in_seconds\"]].sample(10) #Can confirm that column is correct now"
   ]
  },
  {
   "cell_type": "code",
   "execution_count": 38,
   "id": "c6b13eb7-b369-4dcd-ac01-0978ef7ede34",
   "metadata": {},
   "outputs": [],
   "source": [
    "#We should change our data so that none of the data comes after 3/1/2025 and none comes before 3/1/2024. "
   ]
  },
  {
   "cell_type": "code",
   "execution_count": null,
   "id": "8e93c3fa-0aed-49a2-bc9a-552b050d95fc",
   "metadata": {},
   "outputs": [],
   "source": [
    "#Okay, let's restrict our attention to those rows that came after October 15th.\n",
    "#At the same time, we should change our data so that none of the data comes after 3/1. This is the date we first started collecting\n",
    "#and after that date, data was scraped over the first few days. \n",
    "\n",
    "#Okay, time to continue to clean by removing data after 3/1/2025 and before 3/1/2024.\n",
    "#First, we need to change the date column so that it is a datetime object and not a string\n",
    "\n",
    "df[\"datetime\"] = df[\"date\"].apply(datetime.datetime.fromisoformat)\n",
    "df[\"datetime_date\"] = df[\"datetime\"].dt.date.astype(str)\n",
    "df[\"datetime_date\"]\n",
    "\n",
    "df = df.query(\"datetime_date < '2025-03-01'\")\n",
    "df = df.query(\"datetime_date > '2024-03-01'\")"
   ]
  },
  {
   "cell_type": "code",
   "execution_count": null,
   "id": "15cb0e25-9fb1-49e4-979c-bf4db6258d5c",
   "metadata": {},
   "outputs": [],
   "source": [
    "df.to_csv(\"../data/cleaned_data_correct_dates.csv\")"
   ]
  }
 ],
 "metadata": {
  "kernelspec": {
   "display_name": "Python 3 (ipykernel)",
   "language": "python",
   "name": "python3"
  },
  "language_info": {
   "codemirror_mode": {
    "name": "ipython",
    "version": 3
   },
   "file_extension": ".py",
   "mimetype": "text/x-python",
   "name": "python",
   "nbconvert_exporter": "python",
   "pygments_lexer": "ipython3",
   "version": "3.12.4"
  }
 },
 "nbformat": 4,
 "nbformat_minor": 5
}
