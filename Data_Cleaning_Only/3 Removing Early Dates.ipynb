{
 "cells": [
  {
   "cell_type": "markdown",
   "id": "dd870c27-5ea7-402f-b3fa-7f5e514204d8",
   "metadata": {},
   "source": [
    "Introduction to notebook:\n",
    "In this notebook, we will address the following problem: Videos that were posted more recently (closer to the date March 1,2025) have been around for a shorter amount of time and thus will have slightly less views. \n",
    "\n",
    "We want to exclude from our data all videos that are so recent that they have significantly less views than they \"should.\"\n",
    "We only need to exclude this data when we are investigating views. \n",
    "\n",
    "Conclusion:\n",
    "We ran two t-tests: One to see if the first most recent month had lower views, and one to see if the second month had lower views. We used a significance level of alpha = 0.005. We found that the first month did have lower views but the second month did not. We excluded the first month of data from our data set. \n",
    "\n",
    "We did not run a finer analysis such as checking if certain weeks had lower views to avoid running multiple t-tests. "
   ]
  },
  {
   "cell_type": "code",
   "execution_count": 1,
   "id": "1d398fcb-cc13-4ad3-893d-8a8d2e19c8be",
   "metadata": {},
   "outputs": [
    {
     "data": {
      "text/plain": [
       "0       2025-01-01 17:03:25+00:00\n",
       "1       2024-09-26 17:09:34+00:00\n",
       "2       2024-12-13 17:06:39+00:00\n",
       "3       2025-02-16 18:19:19+00:00\n",
       "4       2024-07-07 17:33:45+00:00\n",
       "                   ...           \n",
       "15869   2024-12-03 21:02:47+00:00\n",
       "15870   2024-12-03 21:13:12+00:00\n",
       "15871   2024-12-03 20:57:23+00:00\n",
       "15872   2024-07-31 00:01:49+00:00\n",
       "15873   2024-04-12 17:35:38+00:00\n",
       "Name: date, Length: 15874, dtype: datetime64[ns, UTC]"
      ]
     },
     "execution_count": 1,
     "metadata": {},
     "output_type": "execute_result"
    }
   ],
   "source": [
    "import pandas as pd\n",
    "import numpy as np\n",
    "import datetime\n",
    "\n",
    "df = pd.read_csv(\"../data/cleaned_data_correct_dates.csv\")\n",
    "\n",
    "march_1_2025_str = '2025-03-01T00:00:00.000Z'\n",
    "march_1_2025 = datetime.datetime.fromisoformat(march_1_2025_str) #This is an \"aware\" datetime object in the same format as the others \n",
    "\n",
    "df[\"date\"] = df[\"date\"].apply(datetime.datetime.fromisoformat) #changes from string to datetime object using vectorized code \n",
    "df[\"date\"]"
   ]
  },
  {
   "cell_type": "code",
   "execution_count": 60,
   "id": "75ddb3cc-c5c2-4a7c-b378-436bd733a819",
   "metadata": {},
   "outputs": [],
   "source": [
    "#We are running t-tests on the full data set. We want to run as few t-tests as possible. \n",
    "#This means we want to take things one month at a time rather than weekly or daily."
   ]
  },
  {
   "cell_type": "code",
   "execution_count": 61,
   "id": "c75ac46c-ddec-4fe4-9970-3a0d705dba00",
   "metadata": {},
   "outputs": [
    {
     "name": "stdout",
     "output_type": "stream",
     "text": [
      "8.537449850065806e-05\n"
     ]
    }
   ],
   "source": [
    "#Now we want to run some T-Tests to see if the first two months or so are significantly lower. \n",
    "#We use a significance level of alpha = 0.01\n",
    "import scipy.stats as stats\n",
    "\n",
    "first_month_df =df.loc[  (df[\"date\"] <= (march_1_2025 - datetime.timedelta(days = (0)*30)) ) & (df[\"date\"] >= (march_1_2025 - datetime.timedelta(days = 1*30))) ]\n",
    "\n",
    "not_first_month_df = df.loc[ df[\"date\"] < march_1_2025 - datetime.timedelta(days = 1*30) ]\n",
    "\n",
    "not_first_month = not_first_month_df[\"viewCount\"] \n",
    "first_month = first_month_df[\"viewCount\"]\n",
    "\n",
    "t_stat, p_value = stats.ttest_ind( first_month, not_first_month ) \n",
    "print(p_value) "
   ]
  },
  {
   "cell_type": "code",
   "execution_count": 62,
   "id": "13ced328-49c1-445e-96c9-1b9e745c2355",
   "metadata": {},
   "outputs": [],
   "source": [
    "#Conclusion: Yes, the first month has significantly lower views! Now let's look at the second month. \n",
    "#We use a significance level of alpha = 0.005"
   ]
  },
  {
   "cell_type": "code",
   "execution_count": 63,
   "id": "ada42495-a8aa-4b0e-9496-b4b2cf37b906",
   "metadata": {},
   "outputs": [
    {
     "name": "stdout",
     "output_type": "stream",
     "text": [
      "0.08537943923226873\n"
     ]
    }
   ],
   "source": [
    "second_month_df =df.loc[  (df[\"date\"] <= (march_1_2025 - datetime.timedelta(days = (1)*30)) ) & (df[\"date\"] >= (march_1_2025 - datetime.timedelta(days = 2*30))) ]\n",
    "second_month = second_month_df[\"viewCount\"]\n",
    "\n",
    "not_second_month_df = df.loc[ (df[\"date\"] < march_1_2025 - datetime.timedelta(days = 2*30) ) | (df[\"date\"] >  march_1_2025 - datetime.timedelta(days = 1*30))]\n",
    "not_second_month = first_month_df[\"viewCount\"]\n",
    "\n",
    "t_stat, p_value = stats.ttest_ind( not_second_month, second_month ) \n",
    "print(p_value) \n",
    "\n",
    "#Conclusion: No, the second month does not have significantly lower views. "
   ]
  },
  {
   "cell_type": "code",
   "execution_count": 64,
   "id": "31a2253e-ee31-4e5b-ae22-f197ea529662",
   "metadata": {},
   "outputs": [],
   "source": []
  },
  {
   "cell_type": "code",
   "execution_count": 65,
   "id": "28fc7c5b-4414-4045-9e7d-4704640e2e1a",
   "metadata": {},
   "outputs": [],
   "source": [
    "final_df = df.loc[ (df[\"date\"] <= (march_1_2025 - datetime.timedelta(days = 90)))]\n",
    "final_df[\"date\"]\n",
    "final_df.to_csv(\"no_early_dates_30_days.csv\")"
   ]
  },
  {
   "cell_type": "markdown",
   "id": "eee231fc-6216-4406-9af7-4107324a2b0f",
   "metadata": {},
   "source": []
  }
 ],
 "metadata": {
  "kernelspec": {
   "display_name": "Python (Erdos Institute)",
   "language": "python",
   "name": "erdos_spring_2025"
  },
  "language_info": {
   "codemirror_mode": {
    "name": "ipython",
    "version": 3
   },
   "file_extension": ".py",
   "mimetype": "text/x-python",
   "name": "python",
   "nbconvert_exporter": "python",
   "pygments_lexer": "ipython3",
   "version": "3.12.10"
  }
 },
 "nbformat": 4,
 "nbformat_minor": 5
}
