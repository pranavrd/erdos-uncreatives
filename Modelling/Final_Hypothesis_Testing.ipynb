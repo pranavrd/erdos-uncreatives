{
 "cells": [
  {
   "cell_type": "markdown",
   "id": "e9628fb7-c37f-4543-9699-9813cdd81369",
   "metadata": {},
   "source": [
    "In this notebook, we use the hypotheses formed when we ran our EDA to conduct some hypothesis tests. We are most interested in whether or not a post in a certain category have significantly higher views/subscribes or engagement (likes + comments/views) on average. \n",
    "\n",
    "From our EDA on the training data, we formed the following hypotheses:\n",
    "\n",
    "1) Posts that use at least one hashtag in either the title or descriptio have significantly higher views/subscriber\n",
    "2) Posts with an affiliate link have significantly lower views/subscriber.\n",
    "3) Posts that declare sponsorship in the description (not the title) have significantly lower views/subscriber\n",
    "4) Posts from users that are verified have significantly higher engagement\n",
    "5) Posts from users that are verified have significantly lower views/subscriber\n",
    "6) Posts that mention a popular brand have significantly higher views/subscriber\n",
    "7) Posts that used keywords from the \"korean\" keyword group have higher views/subscriber...\n",
    "8) ...as well as higher engagement\n",
    "9) Posts that were posted during a \"prime hour\" have significantly higher views/subcriber\n",
    "10) Posts that were posted during a \"prime hour\" have significantly higher engagement. \n",
    "\n",
    "We will run several t-tests to confirm if these hypotheses are true or not on the testing set. To account for the fact that we are running multiple hypothesis tests, we will lower our significance level from the standard alpha = 0.05 to alpha = 0.01. This means we will have a 10% chance of a type 1 error if we run 10 tests."
   ]
  }
 ],
 "metadata": {
  "kernelspec": {
   "display_name": "Python 3 (ipykernel)",
   "language": "python",
   "name": "python3"
  },
  "language_info": {
   "codemirror_mode": {
    "name": "ipython",
    "version": 3
   },
   "file_extension": ".py",
   "mimetype": "text/x-python",
   "name": "python",
   "nbconvert_exporter": "python",
   "pygments_lexer": "ipython3",
   "version": "3.12.4"
  }
 },
 "nbformat": 4,
 "nbformat_minor": 5
}
