{
 "cells": [
  {
   "cell_type": "markdown",
   "id": "e9628fb7-c37f-4543-9699-9813cdd81369",
   "metadata": {},
   "source": [
    "In this notebook, we use the hypotheses formed when we ran our EDA to conduct some hypothesis tests. We are most interested in whether or not a post in a certain category have significantly higher views/subscriber or engagement (likes + comments/views) on average. \n",
    "\n",
    "From our EDA on the training data, we formed the following hypotheses:\n",
    "\n",
    "1) Posts that use at least one hashtag in either the title or descriptio have significantly higher views/subscriber\n",
    "2) Posts with an affiliate link have significantly lower views/subscriber.\n",
    "3) Posts that declare sponsorship in the description (not the title) have significantly lower views/subscriber\n",
    "4) Posts from users that are verified have significantly higher engagement\n",
    "5) Posts from users that are verified have significantly lower views/subscriber\n",
    "6) Posts that mention a popular brand have significantly higher views/subscriber\n",
    "7) Posts that used keywords from the \"korean\" keyword group have higher views/subscriber...\n",
    "8) ...as well as higher engagement\n",
    "9) Posts that were posted during a \"prime hour\" have significantly higher views/subcriber\n",
    "10) Posts that were posted during a \"prime hour\" have significantly higher engagement.\n",
    "\n",
    "We also (as a secondary part of our EDA) analyzed the coefficients on a linear model with all categorical features of the targets y1 = views/subscriber, abnd y2 = engagement. We ran t-tests (on the training data) based on the largest coefficients and found that: \n",
    "\n",
    "11) Posts that mention a popular brand have decreased engagement.\n",
    "12) Posts that contain at least one hashtag have decreased engagement.\n",
    "    \n",
    "13-15) Videos that contain keywords from the \"comparing_products\" or \"products\" keyword group decrease engagement, whereas videos with keywords from the \"self_ref\" keyword group increase engagement\n",
    "\n",
    "We also found based on our linear models that posts that used keywords from the \"korean\" keyword group have higher views/subscriber, which was already confirmed by our first EDA. \n",
    "\n",
    "We will run several t-tests to confirm if these hypotheses are true or not on the testing set. To account for the fact that we are running multiple hypothesis tests, we will lower our significance level from the standard alpha = 0.05 to alpha = 0.005. This means we will have a 7.5% chance of a type 1 error if we run 15 tests. Keep in mind that at the very beginning we also ran two t-tests with alpha = 0.005 to determine if the data from the first two months had significantly lower views. This puts our total error rate at 8.5%. "
   ]
  },
  {
   "cell_type": "code",
   "execution_count": 22,
   "id": "f7d33ed4-e11a-4f51-b157-f8ef7fcb89b1",
   "metadata": {},
   "outputs": [
    {
     "data": {
      "text/plain": [
       "Index(['Unnamed: 0', 'any_ht', 'commentsCount', 'isChannelVerified', 'likes',\n",
       "       'numberOfSubscribers', 'text', 'title', 'viewCount',\n",
       "       'views_per_subscriber', 'duration_in_seconds', 'date',\n",
       "       'hashtag_indicator', 'has_any_affiliate', 'hasAdinTitle', 'hasAdinText',\n",
       "       'Engagement_per_Subscriber', 'Engagement_per_View', 'popular_brand',\n",
       "       'prime_hour', 'product', 'skills/teach', 'speed', 'comparing_products',\n",
       "       'self_ref', 'budget', 'korean', 'engagement', 'views'],\n",
       "      dtype='object')"
      ]
     },
     "execution_count": 22,
     "metadata": {},
     "output_type": "execute_result"
    }
   ],
   "source": [
    "import pandas as pd\n",
    "import scipy.stats as stats\n",
    "\n",
    "df = pd.read_csv('../data/new/no_early_dates_all_features_test.csv')\n",
    "#Creating the missing target variables\n",
    "df[\"engagement\"] = (df[\"likes\"] + df[\"commentsCount\"])  / (df[\"viewCount\"] + 1) \n",
    "df[\"views\"] = (df[\"viewCount\"]) / ( df[\"numberOfSubscribers\"] + 1) \n",
    "df.columns"
   ]
  },
  {
   "cell_type": "code",
   "execution_count": 35,
   "id": "990e515f-530f-472b-ae6e-42aea39bade6",
   "metadata": {},
   "outputs": [
    {
     "name": "stdout",
     "output_type": "stream",
     "text": [
      "any_ht\n",
      "p-value: 0.0004957348344092647\n",
      "t-stat: 3.4844920678893194\n",
      "Pass: True\n",
      "has_any_affiliate\n",
      "p-value: 0.004945310983733811\n",
      "t-stat: -2.811362926442286\n",
      "Pass: True\n",
      "hasAdinText\n",
      "p-value: 0.7752593760763163\n",
      "t-stat: 0.28551198467456\n",
      "Pass: False\n",
      "isChannelVerified\n",
      "p-value: 1.0474830443308478e-07\n",
      "t-stat: -5.323198493686492\n",
      "Pass: True\n",
      "popular_brand\n",
      "p-value: 0.12786023940923\n",
      "t-stat: -1.5227534874232165\n",
      "Pass: False\n",
      "korean\n",
      "p-value: 8.82825602920083e-27\n",
      "t-stat: 10.752370253527811\n",
      "Pass: True\n",
      "prime_hour\n",
      "p-value: 0.11224490431603802\n",
      "t-stat: -1.588359531809305\n",
      "Pass: False\n"
     ]
    }
   ],
   "source": [
    "\n",
    "#First we need to create a categorical hashtag variable\n",
    "df[\"any_ht\"] = 1 * df[\"any_ht\"].astype(bool)\n",
    "\n",
    "views_features = [\"any_ht\", \"has_any_affiliate\", \"hasAdinText\", \"isChannelVerified\", \"popular_brand\", \"korean\", \"prime_hour\"]\n",
    "eng_features = [\"isChannelVerified\", \"korean\", \"prime_hour\", \"popular_brand\", \"any_ht\", \"comparing_products\", \"product\", \"self_ref\"] \n",
    "\n",
    "for feature in views_features: \n",
    "    yes = df.loc[ df[feature] == 1]\n",
    "    no = df.loc[ df[feature] == 0]\n",
    "    t_stat, p_value = stats.ttest_ind( yes[\"views\"], no[\"views\"] ) \n",
    "    print(feature)\n",
    "    print(\"p-value:\", p_value)\n",
    "    print(\"t-stat:\", t_stat)\n",
    "    print(\"Pass:\", p_value < 0.005)\n",
    "    #When t_stat>0 we know that the \"yes\" group mean is greater than the \"no\" group mean. Otherwise, it's less than. "
   ]
  },
  {
   "cell_type": "code",
   "execution_count": 39,
   "id": "97a920b9-b242-4da0-918c-493a979c29d8",
   "metadata": {},
   "outputs": [
    {
     "name": "stdout",
     "output_type": "stream",
     "text": [
      "isChannelVerified\n",
      "p-value: 2.9292719089874792e-18\n",
      "t-stat: 8.735324333258344\n",
      "Pass: True\n",
      "korean\n",
      "p-value: 0.21084840241325786\n",
      "t-stat: 1.2513371067753714\n",
      "Pass: False\n",
      "prime_hour\n",
      "p-value: 2.834079790861884e-09\n",
      "t-stat: 5.947731083782474\n",
      "Pass: True\n",
      "popular_brand\n",
      "p-value: 4.935861676246001e-27\n",
      "t-stat: -10.806639390686946\n",
      "Pass: True\n",
      "any_ht\n",
      "p-value: 1.2127742939725515e-47\n",
      "t-stat: -14.596973562182166\n",
      "Pass: True\n",
      "comparing_products\n",
      "p-value: 9.322208388064035e-07\n",
      "t-stat: -4.909307887522326\n",
      "Pass: True\n",
      "product\n",
      "p-value: 0.00037648697069116226\n",
      "t-stat: -3.5575692448201424\n",
      "Pass: True\n",
      "self_ref\n",
      "p-value: 0.011960421529940018\n",
      "t-stat: 2.513889405307217\n",
      "Pass: False\n"
     ]
    }
   ],
   "source": [
    "for feature in eng_features: \n",
    "    yes = df.loc[ df[feature] == 1]\n",
    "    no = df.loc[ df[feature] == 0]\n",
    "    t_stat, p_value = stats.ttest_ind( yes[\"engagement\"], no[\"engagement\"] ) \n",
    "    print(feature)\n",
    "    print(\"p-value:\", p_value)\n",
    "    print(\"t-stat:\", t_stat)\n",
    "    print(\"Pass:\", p_value < 0.005)\n",
    "    #When t_stat>0 we know that the \"yes\" group mean is greater than the \"no\" group mean. Otherwise, it's less than. "
   ]
  },
  {
   "cell_type": "markdown",
   "id": "291ff76e-048a-47d3-8811-85a598173973",
   "metadata": {},
   "source": [
    "# Final Results:"
   ]
  },
  {
   "cell_type": "markdown",
   "id": "06e011a6-c0cd-4689-82cb-ddd1d36d781a",
   "metadata": {},
   "source": [
    "We have confirmed that the following posts have significantly different views/subscriber on average:\n",
    "1) Posts that contain at least one hashtag in the title or description have higher views/subscriber\n",
    "2) Posts that contain an affiliate link have lower views/subscriber\n",
    "3) Posts from users that are verified have lower views/subscriber\n",
    "4) Posts that contain a keyword from the \"korean\" keyword group have higher views/subscriber\n",
    "\n",
    "We have confirmed that the following posts have significantly different engagement rates on average:\n",
    "1) Posts from users that are verified have higher engagement\n",
    "2) Posts posted during a prime hour have higher engagement\n",
    "3) Posts that mention a popular brand have lower engagement\n",
    "4) Posts that contain at least one hashtag in the title or deescription have lower engagement.\n",
    "5) Posts that contain at least one keyword from the \"comparing_products\" keyword group have lower engagement\n",
    "6) Posts that contain at least one keyword from the \"product\" keyword group have lower engagement. "
   ]
  },
  {
   "cell_type": "code",
   "execution_count": null,
   "id": "87cc8d3c-fc98-45c3-9097-df8f3f5b14a4",
   "metadata": {},
   "outputs": [],
   "source": []
  }
 ],
 "metadata": {
  "kernelspec": {
   "display_name": "Python 3 (ipykernel)",
   "language": "python",
   "name": "python3"
  },
  "language_info": {
   "codemirror_mode": {
    "name": "ipython",
    "version": 3
   },
   "file_extension": ".py",
   "mimetype": "text/x-python",
   "name": "python",
   "nbconvert_exporter": "python",
   "pygments_lexer": "ipython3",
   "version": "3.12.4"
  }
 },
 "nbformat": 4,
 "nbformat_minor": 5
}
