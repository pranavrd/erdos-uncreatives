{
 "cells": [
  {
   "cell_type": "markdown",
   "id": "1f93ffa0-b4ff-4b12-81f2-949ebad42546",
   "metadata": {},
   "source": [
    "In this notebook, we will create and compare several models. Our target feature for this notebooks is (Likes+Comments/(Views+1))\n",
    "which we will call \"engagement\". We have added 1 to the denonimator just to ensure we never divide by zero. "
   ]
  },
  {
   "cell_type": "code",
   "execution_count": 20,
   "id": "98f96210-9b6b-4589-ae6a-be7b219121e9",
   "metadata": {},
   "outputs": [],
   "source": [
    "import pandas as pd\n",
    "import numpy as np\n",
    "\n",
    "df = pd.read_csv(r\"all_features_final.csv\")\n",
    "features = [\"popular_brand\", \"has_any_affiliate\", \"product\", \"budget\", \"self_ref\", \"acronym\", \"korean\", \"speed\", \"skills/teach\", \"skincare\", \"comparing_products\", \"prime_hour\", \"hashtags\", \"hasAdinTitle\", \"hasAdinText\"]\n",
    "\n",
    "#Create the target column $y$ here \n",
    "\n",
    "df[\"y\"] = (df[\"likes\"] + df[\"commentsCount\"])  / (df[\"viewCount\"] + 1) \n",
    "\n",
    "#get rid of noisy columns\n",
    "df = df[ features + [\"y\"] ] "
   ]
  },
  {
   "cell_type": "code",
   "execution_count": 21,
   "id": "42cf1fcf-3422-4167-9ed1-d695d3e8c59a",
   "metadata": {},
   "outputs": [],
   "source": [
    "#import everything\n",
    "\n",
    "from sklearn.preprocessing import PolynomialFeatures\n",
    "from sklearn.pipeline import Pipeline \n",
    "from sklearn.linear_model import LinearRegression\n",
    "from sklearn.metrics import root_mean_squared_error, r2_score\n",
    "from sklearn.model_selection import train_test_split\n"
   ]
  },
  {
   "cell_type": "code",
   "execution_count": 22,
   "id": "bea5e3ea-744f-4ea3-a082-27bb47cd1ac2",
   "metadata": {},
   "outputs": [],
   "source": [
    "#Do an 80-20 Train Test Split Here. Never ever touch the testing set please!\n",
    "\n",
    "df_train, df_test = train_test_split(df, shuffle = True, test_size = .2, random_state = 42) #We can't stratify because we have too many categorical features. I hope this is ok\n",
    "#DO NOT TOUCH THE ABOVE X_TEST VARIABLE FOR ANY REASON\n",
    "\n",
    "#We want a very basic idea of the MSE for each model, before we do proper cross-validation. We use a secondary split for this.\n",
    "df_tt, df_ho = train_test_split(df_train, shuffle = True, test_size = .2, random_state = 42)\n"
   ]
  },
  {
   "cell_type": "code",
   "execution_count": 23,
   "id": "13d86438-aae7-4433-8644-e26d56daae6f",
   "metadata": {},
   "outputs": [
    {
     "name": "stdout",
     "output_type": "stream",
     "text": [
      "Root Mean Squared Error: 0.037166\n",
      "R-squared: -0.0000\n"
     ]
    }
   ],
   "source": [
    "#Create the baseline model here\n",
    "\n",
    "class BaseMeanModel():\n",
    "    def __init__(self):\n",
    "        self.mean_value = None\n",
    "    \n",
    "    def fit(self, values : pd.Series):\n",
    "        self.mean_value = values.mean()\n",
    "\n",
    "    def predict(self, inputs=None):\n",
    "        if inputs is None:\n",
    "            return self.mean_value\n",
    "        return len(inputs) * [self.mean_value]\n",
    "    \n",
    "    \n",
    "model = BaseMeanModel()\n",
    "model.fit(df_tt[\"y\"])\n",
    "\n",
    "# R2 is negative because training set and the hold out set have different average values\n",
    "y_pred = model.predict(df_ho[features])\n",
    "rmse = root_mean_squared_error(df_ho[\"y\"], y_pred)\n",
    "r2 = r2_score(df_ho[\"y\"], y_pred)\n",
    "print(f\"Root Mean Squared Error: {rmse:.6f}\")\n",
    "print(f\"R-squared: {r2:.4f}\")"
   ]
  },
  {
   "cell_type": "code",
   "execution_count": 24,
   "id": "fc720b8d-d4a5-41ed-8e0c-cce7dfb81885",
   "metadata": {},
   "outputs": [
    {
     "name": "stdout",
     "output_type": "stream",
     "text": [
      "Root Mean Squared Error: 0.036916\n",
      "R-squared: 0.0134\n"
     ]
    }
   ],
   "source": [
    "#Creat the basic linear regression model here \n",
    "###Fitting the basic linear regression model using the training set and print the summary of the model.\n",
    "model = LinearRegression()\n",
    "model.fit(df_tt[features], df_tt[\"y\"])\n",
    "# Evaluate the model\n",
    "y_pred = model.predict(df_ho[features])\n",
    "rmse = root_mean_squared_error(df_ho[\"y\"], y_pred)\n",
    "r2 = r2_score(df_ho[\"y\"], y_pred)\n",
    "print(f\"Root Mean Squared Error: {rmse:.6f}\")\n",
    "print(f\"R-squared: {r2:.4f}\")"
   ]
  },
  {
   "cell_type": "code",
   "execution_count": 25,
   "id": "3e891559-d14a-47a2-af18-a5363af7e60b",
   "metadata": {},
   "outputs": [],
   "source": [
    "#Create the basic linear regression model here with lasso regression. "
   ]
  },
  {
   "cell_type": "code",
   "execution_count": 26,
   "id": "39edb992-3082-4415-a155-dbd36c360774",
   "metadata": {},
   "outputs": [
    {
     "name": "stdout",
     "output_type": "stream",
     "text": [
      "0.03535259217607404\n"
     ]
    }
   ],
   "source": [
    "#Create a model whose features include all interaction terms\n",
    "pipe = Pipeline([  (\"interaction terms\", PolynomialFeatures(degree = 2, interaction_only = True, include_bias = False) ),\n",
    "                   (\"linear model\", LinearRegression())\n",
    "]) \n",
    "#setting degree = 2 creates all pairwise interaction terms. \n",
    "\n",
    "pipe.fit( df_tt[features], df_tt[\"y\"]) \n",
    "pred = pipe.predict( df_ho[features] )\n",
    "\n",
    "print( root_mean_squared_error( df_ho[\"y\"], pred) ) "
   ]
  },
  {
   "cell_type": "code",
   "execution_count": 27,
   "id": "b43452cc-12d0-4ac3-882b-d7942693d0e9",
   "metadata": {},
   "outputs": [
    {
     "name": "stdout",
     "output_type": "stream",
     "text": [
      "\n",
      "Alpha: 0.0001\n",
      "Test MSE: 0.001362, RMSE: 0.036912, MAE: 0.024071\n",
      "R² Score: 0.013599, Explained Variance: 0.013606\n"
     ]
    }
   ],
   "source": [
    "#Create a model with all interaction terms and lasso regression \n",
    "\n",
    "from sklearn.preprocessing import StandardScaler\n",
    "from sklearn.linear_model import LassoCV, Lasso\n",
    "from sklearn.metrics import mean_squared_error, r2_score, mean_absolute_error, explained_variance_score\n",
    "from sklearn.model_selection import cross_val_score\n",
    "\n",
    "\n",
    "scaler = StandardScaler()\n",
    "X_train_scaled = scaler.fit_transform(df_tt[features] )\n",
    "X_test_scaled = scaler.transform( df_ho[features])\n",
    "\n",
    "alpha = 0.0001\n",
    "lasso = Lasso(alpha=alpha, random_state=42, max_iter=10000)\n",
    "\n",
    "#cv_scores = cross_val_score(lasso, X_train_scaled, df_tt[\"y\"], cv=5,scoring='neg_mean_squared_error')\n",
    "#cv_rmse = np.sqrt(-cv_scores.mean())\n",
    "\n",
    "lasso.fit(X_train_scaled, df_tt[\"y\"])\n",
    "\n",
    "y_pred = lasso.predict(X_test_scaled)\n",
    "\n",
    "# Calculate metrics\n",
    "mse = mean_squared_error(df_ho[\"y\"], y_pred)\n",
    "rmse = np.sqrt(mse)\n",
    "mae = mean_absolute_error(df_ho[\"y\"], y_pred)\n",
    "r2 = r2_score(df_ho[\"y\"], y_pred)\n",
    "exp_var = explained_variance_score(df_ho[\"y\"], y_pred)\n",
    "\n",
    "\n",
    "print(f\"\\nAlpha: {alpha}\")\n",
    "print(f\"Test MSE: {mse:.6f}, RMSE: {rmse:.6f}, MAE: {mae:.6f}\")\n",
    "print(f\"R² Score: {r2:.6f}, Explained Variance: {exp_var:.6f}\")\n",
    "#print(f\"Cross-validated RMSE: {cv_rmse:.6f}\")\n",
    "\n"
   ]
  },
  {
   "cell_type": "code",
   "execution_count": 13,
   "id": "2e6b6f89-6217-41e4-a47e-b0f06f1ec11b",
   "metadata": {},
   "outputs": [],
   "source": [
    "#Do cross-validation to compare all models "
   ]
  },
  {
   "cell_type": "code",
   "execution_count": 14,
   "id": "7dd1bfe5-da0d-4074-969c-8aacea12ba04",
   "metadata": {},
   "outputs": [],
   "source": [
    "#Final interpretation "
   ]
  }
 ],
 "metadata": {
  "kernelspec": {
   "display_name": "Python 3 (ipykernel)",
   "language": "python",
   "name": "python3"
  },
  "language_info": {
   "codemirror_mode": {
    "name": "ipython",
    "version": 3
   },
   "file_extension": ".py",
   "mimetype": "text/x-python",
   "name": "python",
   "nbconvert_exporter": "python",
   "pygments_lexer": "ipython3",
   "version": "3.12.7"
  }
 },
 "nbformat": 4,
 "nbformat_minor": 5
}
