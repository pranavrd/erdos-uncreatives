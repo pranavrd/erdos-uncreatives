{
 "cells": [
  {
   "cell_type": "markdown",
   "id": "1a9794ec-4008-496d-ad80-be41f88a6e56",
   "metadata": {},
   "source": [
    "In this notebook, we will compare a linear model on both real and simulated linear data to a random forest regressor to see if our modelling approach was appropriate. \n",
    "\n",
    "Our best performing linear model based on cross-validation included all binary interaction terms and used lasso regression. (Note that technically including interaction terms makes it non-linear, so the terminology here is misleading. The main goal is to compare our best performing model to see if it is appropriate.) "
   ]
  },
  {
   "cell_type": "code",
   "execution_count": 8,
   "id": "ac974c66-7244-4c6a-ac3b-fa2c0f78a911",
   "metadata": {},
   "outputs": [],
   "source": [
    "import pandas as pd\n",
    "\n",
    "df = pd.read_csv('../data/new/no_early_dates_all_features_train.csv') #This is already the first 50% exploration side of the data. \n",
    "\n",
    "df_explore = df"
   ]
  },
  {
   "cell_type": "code",
   "execution_count": 10,
   "id": "7a8fb6ec-16f6-48c3-80ff-6999d7902b3e",
   "metadata": {},
   "outputs": [
    {
     "name": "stdout",
     "output_type": "stream",
     "text": [
      "Performance on real data:\n",
      "Linear model MSE: 0.001018\n",
      "Random Forest MSE: 0.000847\n",
      "Improvement ratio: 1.20x (how much better RF is than linear)\n",
      "\n",
      "Performance on simulated linear data:\n",
      "Linear model MSE: 0.001019\n",
      "Random Forest MSE: 0.000881\n",
      "Improvement ratio: 1.16x (how much better RF is than linear)\n"
     ]
    }
   ],
   "source": [
    "import pandas as pd\n",
    "import numpy as np\n",
    "\n",
    "features = [\"popular_brand\", \"has_any_affiliate\", \"product\", \"budget\", \"self_ref\", \"korean\", \"speed\", \"skills/teach\", \"comparing_products\", \"prime_hour\", \"hasAdinTitle\", \"hasAdinText\",'hashtag_indicator']\n",
    "\n",
    "#Create the target column $y$ here\n",
    "df[\"y\"] = (df[\"likes\"] + df[\"commentsCount\"])  / (df[\"viewCount\"] + 1)\n",
    "\n",
    "#get rid of noisy columns\n",
    "df = df[ features + [\"y\"] ]\n",
    "\n",
    "from sklearn.preprocessing import StandardScaler, PolynomialFeatures\n",
    "from sklearn.pipeline import Pipeline\n",
    "from sklearn.linear_model import LinearRegression, Lasso\n",
    "from sklearn.ensemble import RandomForestRegressor\n",
    "from sklearn.metrics import mean_squared_error\n",
    "\n",
    "scaler = StandardScaler()\n",
    "X_explore_scaled = scaler.fit_transform(df_explore[features])\n",
    "\n",
    "pipe_linear = Pipeline([\n",
    "    (\"interaction_terms\", PolynomialFeatures(degree=2, interaction_only=True, include_bias=False)),\n",
    "    (\"lasso\", Lasso(alpha=0.0001, max_iter=10000))\n",
    "])\n",
    "pipe_linear.fit(X_explore_scaled, df_explore[\"y\"])\n",
    "\n",
    "linear_pred = pipe_linear.predict(X_explore_scaled)\n",
    "linear_mse = mean_squared_error(df_explore[\"y\"], linear_pred)\n",
    "\n",
    "\n",
    "#RF\n",
    "rf = RandomForestRegressor(n_estimators=100, random_state=42)\n",
    "rf.fit(X_explore_scaled, df_explore[\"y\"])\n",
    "rf_pred = rf.predict(X_explore_scaled)\n",
    "rf_mse = mean_squared_error(df_explore[\"y\"], rf_pred)\n",
    "\n",
    "# Calculate performance ratio on real data\n",
    "real_ratio = linear_mse / rf_mse\n",
    "\n",
    "print(\"Performance on real data:\")\n",
    "print(f\"Linear model MSE: {linear_mse:.6f}\")\n",
    "print(f\"Random Forest MSE: {rf_mse:.6f}\")\n",
    "print(f\"Improvement ratio: {real_ratio:.2f}x (how much better RF is than linear)\")\n",
    "\n",
    "\n",
    "# Generate simulated data under hyphothesis 0\n",
    "residuals = df_explore[\"y\"] - linear_pred\n",
    "std_residuals = np.std(residuals)\n",
    "np.random.seed(42)\n",
    "y_simulated = linear_pred + np.random.normal(0, std_residuals, len(linear_pred))\n",
    "\n",
    "pipe_linear_sim = Pipeline([\n",
    "    (\"interaction_terms\", PolynomialFeatures(degree=2, interaction_only=True, include_bias=False)),\n",
    "    (\"lasso\", Lasso(alpha=0.0001, max_iter=10000))\n",
    "])\n",
    "pipe_linear_sim.fit(X_explore_scaled, y_simulated)\n",
    "linear_sim_pred = pipe_linear_sim.predict(X_explore_scaled)\n",
    "linear_sim_mse = mean_squared_error(y_simulated, linear_sim_pred)\n",
    "\n",
    "rf_sim = RandomForestRegressor(n_estimators=100, random_state=42)\n",
    "rf_sim.fit(X_explore_scaled, y_simulated)\n",
    "rf_sim_pred = rf_sim.predict(X_explore_scaled)\n",
    "rf_sim_mse = mean_squared_error(y_simulated, rf_sim_pred)\n",
    "\n",
    "sim_ratio = linear_sim_mse / rf_sim_mse\n",
    "\n",
    "print(\"\\nPerformance on simulated linear data:\")\n",
    "print(f\"Linear model MSE: {linear_sim_mse:.6f}\")\n",
    "print(f\"Random Forest MSE: {rf_sim_mse:.6f}\")\n",
    "print(f\"Improvement ratio: {sim_ratio:.2f}x (how much better RF is than linear)\")"
   ]
  },
  {
   "cell_type": "markdown",
   "id": "08590a4a-921a-4f37-9293-460ee4c59b65",
   "metadata": {},
   "source": [
    "As you can see, on our real data Random Forest has almost the same improvement over a linear model than what it does for simulated linear data.\n",
    "Thus we conclude our real data being modelled with interaction terms and lasso regression was appropriate."
   ]
  },
  {
   "cell_type": "code",
   "execution_count": null,
   "id": "a5d8ddae-2a37-47b9-97ed-f96ab7f6a8f1",
   "metadata": {},
   "outputs": [],
   "source": []
  }
 ],
 "metadata": {
  "kernelspec": {
   "display_name": "Python 3 (ipykernel)",
   "language": "python",
   "name": "python3"
  },
  "language_info": {
   "codemirror_mode": {
    "name": "ipython",
    "version": 3
   },
   "file_extension": ".py",
   "mimetype": "text/x-python",
   "name": "python",
   "nbconvert_exporter": "python",
   "pygments_lexer": "ipython3",
   "version": "3.12.4"
  }
 },
 "nbformat": 4,
 "nbformat_minor": 5
}
