{
 "cells": [
  {
   "cell_type": "markdown",
   "id": "e5e37523-42d1-466e-8490-cb4b6931b933",
   "metadata": {},
   "source": [
    "In this notebook, we will create and compare several models. Our target feature for this notebooks is LOG(VIEWS/SUBSCRIBER.) \n"
   ]
  },
  {
   "cell_type": "code",
   "execution_count": 14,
   "id": "6540735a-9ca7-4f9f-bb48-b0e2bb6d189f",
   "metadata": {},
   "outputs": [
    {
     "data": {
      "text/plain": [
       "Index(['Unnamed: 0.3', 'Unnamed: 0.2', 'Unnamed: 0.1', 'Unnamed: 0',\n",
       "       'channelDescription', 'channelJoinedDate', 'channelTotalVideos',\n",
       "       'channelTotalViews', 'channelUsername', 'commentsCount', 'date',\n",
       "       'duration', 'id', 'isChannelVerified', 'likes', 'numberOfSubscribers',\n",
       "       'order', 'text', 'title', 'url', 'viewCount', 'likes_per_subscriber',\n",
       "       'comments_per_subscriber', 'views_per_subscriber',\n",
       "       'duration_in_seconds', 'datetime_date', 'hashtags', 'comm_to_views',\n",
       "       'likes_to_views', 'popular_brand', 'has_title_affiliate',\n",
       "       'has_description_affiliate', 'has_channel_description_affiliate',\n",
       "       'has_any_affiliate', 'has_business_inquiry',\n",
       "       'engagement_per_subscriber', 'product', 'budget', 'self_ref', 'acronym',\n",
       "       'korean', 'speed', 'skills/teach', 'skincare', 'comparing_products',\n",
       "       'datetime', 'hour', 'day_of_week', 'month', 'year', 'day_name',\n",
       "       'engagement_rate', 'prime_time', 'cluster1', 'prime_time1',\n",
       "       'posting_time_category', 'prime_hour', 'hasAdinTitle', 'hasAdinText'],\n",
       "      dtype='object')"
      ]
     },
     "execution_count": 14,
     "metadata": {},
     "output_type": "execute_result"
    }
   ],
   "source": [
    "import pandas as pd\n",
    "import numpy as np\n",
    "\n",
    "df = pd.read_csv(r\"no_early_dates.csv\")"
   ]
  },
  {
   "cell_type": "code",
   "execution_count": 20,
   "id": "a7c69868-7f1b-4f87-99df-50c03fc443bc",
   "metadata": {},
   "outputs": [
    {
     "data": {
      "text/plain": [
       "Index(['popular_brand', 'has_any_affiliate', 'product', 'budget', 'self_ref',\n",
       "       'acronym', 'korean', 'speed', 'skills/teach', 'skincare',\n",
       "       'comparing_products', 'prime_hour', 'hashtags', 'hasAdinTitle',\n",
       "       'hasAdinText'],\n",
       "      dtype='object')"
      ]
     },
     "execution_count": 20,
     "metadata": {},
     "output_type": "execute_result"
    }
   ],
   "source": [
    "features = [\"popular_brand\", \"has_any_affiliate\", \"product\", \"budget\", \"self_ref\", \"acronym\", \"korean\", \"speed\", \"skills/teach\", \"skincare\", \"comparing_products\", \"prime_hour\", \"hashtags\", \"hasAdinTitle\", \"hasAdinText\"]\n",
    "\n",
    "#Create the target column $y$ here \n",
    "\n",
    "df = df[ features + \"y\" ] \n",
    "\n",
    "#Create the target column $y$ here:\n",
    "\n",
    "#We don't need a lot of the noise columns\n",
    "df = df[ features + \"y\" ] "
   ]
  },
  {
   "cell_type": "code",
   "execution_count": null,
   "id": "b2dff4f7-65bd-4f28-abfc-833d304078b2",
   "metadata": {},
   "outputs": [],
   "source": [
    "#Do an 80-20 Train Test Split Here. Never ever touch the testing set please!"
   ]
  },
  {
   "cell_type": "code",
   "execution_count": null,
   "id": "6428dbc1-d78e-47bb-9159-b42eea6a20d0",
   "metadata": {},
   "outputs": [],
   "source": [
    "#Create the baseline model here"
   ]
  },
  {
   "cell_type": "code",
   "execution_count": null,
   "id": "7a9c1ca4-fcb4-4c9c-a0f4-5e8990aab033",
   "metadata": {},
   "outputs": [],
   "source": [
    "#Creat the basic linear regression model here "
   ]
  },
  {
   "cell_type": "code",
   "execution_count": null,
   "id": "4d31581e-3aa9-4b52-b749-9993cf3299f2",
   "metadata": {},
   "outputs": [],
   "source": [
    "#Create the basic linear regression model here with lasso regression. "
   ]
  },
  {
   "cell_type": "code",
   "execution_count": null,
   "id": "28f85933-593b-4710-844a-0a1c7bc5436d",
   "metadata": {},
   "outputs": [],
   "source": [
    "#Create a model whose features include all interaction terms "
   ]
  },
  {
   "cell_type": "code",
   "execution_count": null,
   "id": "b12a5133-9cea-407b-b0db-d0b9503d0279",
   "metadata": {},
   "outputs": [],
   "source": [
    "#Create a model with all interaction terms and lasso regression "
   ]
  },
  {
   "cell_type": "code",
   "execution_count": null,
   "id": "4a48034c-5135-4a52-a6f3-57bb5d03c11b",
   "metadata": {},
   "outputs": [],
   "source": [
    "#Do cross-validation to compare all models "
   ]
  },
  {
   "cell_type": "code",
   "execution_count": null,
   "id": "36e385db-e0eb-4064-8ade-eb7c7ebd404e",
   "metadata": {},
   "outputs": [],
   "source": [
    "#Final interpretation "
   ]
  }
 ],
 "metadata": {
  "kernelspec": {
   "display_name": "Python 3 (ipykernel)",
   "language": "python",
   "name": "python3"
  },
  "language_info": {
   "codemirror_mode": {
    "name": "ipython",
    "version": 3
   },
   "file_extension": ".py",
   "mimetype": "text/x-python",
   "name": "python",
   "nbconvert_exporter": "python",
   "pygments_lexer": "ipython3",
   "version": "3.12.4"
  }
 },
 "nbformat": 4,
 "nbformat_minor": 5
}
