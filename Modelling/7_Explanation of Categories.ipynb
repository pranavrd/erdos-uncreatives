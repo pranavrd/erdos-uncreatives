{
 "cells": [
  {
   "cell_type": "markdown",
   "id": "dd6ea342-7c46-455c-acae-7f68f9f8d05c",
   "metadata": {},
   "source": [
    "# Explanation of Categories\n",
    "\n",
    "During our final hypothesis testing we found the following results:\n",
    "\n",
    "We have confirmed that the following posts have significantly different views/subscriber on average:\n",
    "1) Posts that contain at least one hashtag in the title or description have higher views/subscriber with a desired effect size \n",
    "2) Posts that contain an affiliate link have lower views/subscriber with a desired effect size\n",
    "3) Posts from users that are verified have lower views/subscriber with a desired effect size \n",
    "4) Posts that mention a popular brand have higher views/subscriber with a desired effect size \n",
    "5) Posts that contain a keyword from the \"korean\" keyword group have higher views/subscriber with a desired effect size \n",
    "\n",
    "We have confirmed that the following posts have significantly different engagement rates on average:\n",
    "1) Posts from users that are verified have higher engagement with a small effect size \n",
    "3) Posts that mention a popular brand have lower engagement with a small effect size \n",
    "4) Posts that contain at least one hashtag in the title or description have lower engagement with a small effect size "
   ]
  },
  {
   "cell_type": "markdown",
   "id": "add7eb75-b87f-4b8d-ba3a-304db82b602d",
   "metadata": {},
   "source": [
    "We now need to explain how some of the categories mentioned above were defined during our EDA.\n",
    "\n",
    "Posts that contain an affiliate link were defined as posts that have an affiliate link in the title, description, or the channel description. Please see the EDA notebook for the exact affiliate link patterns that we searched for as the process was involved. \n",
    "\n",
    "Posts that mentioned a popular brand are defined as follows. We have hand-selected 30 popular beauty brands; 15 of these are skincare brands and 15 of these are makeup brands. This list is subjective and may not be exhaustive but should cover a good number of popular brands.\r\n",
    ": Makeu:\r\n",
    "\r\n",
    "Natasha Denona\r\n",
    "Tower 28\r\n",
    "Pat McGrath\r\n",
    "Urban Decay\r\n",
    "ColourPop\r\n",
    "Fenty Beauty\r\n",
    "E.L.F. cosmetics\r\n",
    "Nyx professional makeup\r\n",
    "Essence\r\n",
    "Benefit Cosmetics\r\n",
    "Anastasia Beverly Hills\r\n",
    "Tarte\r\n",
    "Milk Makeup\r\n",
    "Mayb\n",
    "elline\r\n",
    "Odn's Eye\r\n",
    "Skincare:\r\n",
    "\r\n",
    "The Ordinary\r\n",
    "Beauty of Josean\r\n",
    "Bubble\r\n",
    "Paula's Choice\r\n",
    "Cerave\r\n",
    "Good Molecules\r\n",
    "Cosrx\r\n",
    "Olive Young\r\n",
    "Dennis Grossman\r\n",
    "Skinfix\r\n",
    "Drunk Elephant\r\n",
    "La Roche-P\n",
    "\n",
    "For the exact code that defines whether or not a popular brand above was mentioned, please see our EDA notebook.\n",
    "\n",
    "The \"korean\" keyword group is very simple - we searched for posts that contained the substring \"kbeauty\" or \"korean\" in the title of the post. We did not use the description of the post. osay\r\n",
    "Supergoop\r\n",
    "Glow Recipe\r\n",
    "Rhode"
   ]
  }
 ],
 "metadata": {
  "kernelspec": {
   "display_name": "Python 3 (ipykernel)",
   "language": "python",
   "name": "python3"
  },
  "language_info": {
   "codemirror_mode": {
    "name": "ipython",
    "version": 3
   },
   "file_extension": ".py",
   "mimetype": "text/x-python",
   "name": "python",
   "nbconvert_exporter": "python",
   "pygments_lexer": "ipython3",
   "version": "3.12.4"
  }
 },
 "nbformat": 4,
 "nbformat_minor": 5
}
