{
 "cells": [
  {
   "cell_type": "markdown",
   "id": "9e0ed529-a0c4-4158-8ad5-7c2bb4f92174",
   "metadata": {},
   "source": [
    "In this notebook, we perform some t-tests to see if a post that is in a given category performs or underperforms significantly with respect to views or engagement. \n",
    "\n",
    "From our notebook views_models_categorical, we see that the top 5 categorical features with large coefficients in the linear regression line where views were the target variable are:\n",
    "1) \"Korean\" - Posts that used keywords from the \"korean\" keyword group\n",
    "2) \"Has any affiliate\" - Posts that contained affiliate links\n",
    "3) \"Acronym\" - Posts that used keywords from the \"acronym\" keyword group\n",
    "4) \"product\" - Posts that used keywords from the \"product\" keyword group\n",
    "5) \"hashtags\" - Posts that contained a hashtag in the title or description\n",
    "\n",
    "From our notebook engagement_models_categorical we see that the top 5 categorical features with large coefficients in the linear regression line where engagement was the target variable are:\n",
    "1) \"hashtags\" - Posts that contained a hashtag in the title or description\n",
    "2) \"skincare\" - Posts that used keywords from the \"skincare\" keyword group\n",
    "3) \"self_ref\" - Posts that used keywords from the \"self_ref\" keyword group\n",
    "4) \"product\" - Posts that used keywords from the \"product\" keyword group\n",
    "5) \"Popular_brand\" - Posts that mentioned a popular brand"
   ]
  },
  {
   "cell_type": "code",
   "execution_count": 115,
   "id": "c0a310d5-a5a4-42a1-8828-94b512694ccb",
   "metadata": {},
   "outputs": [
    {
     "data": {
      "text/plain": [
       "Index(['Unnamed: 0.3', 'Unnamed: 0.2', 'Unnamed: 0.1', 'Unnamed: 0',\n",
       "       'channelDescription', 'channelJoinedDate', 'channelTotalVideos',\n",
       "       'channelTotalViews', 'channelUsername', 'commentsCount', 'date',\n",
       "       'duration', 'id', 'isChannelVerified', 'likes', 'numberOfSubscribers',\n",
       "       'order', 'text', 'title', 'url', 'viewCount', 'likes_per_subscriber',\n",
       "       'comments_per_subscriber', 'views_per_subscriber',\n",
       "       'duration_in_seconds', 'datetime_date', 'hashtags', 'comm_to_views',\n",
       "       'likes_to_views', 'popular_brand', 'has_title_affiliate',\n",
       "       'has_description_affiliate', 'has_channel_description_affiliate',\n",
       "       'has_any_affiliate', 'has_business_inquiry',\n",
       "       'engagement_per_subscriber', 'product', 'budget', 'self_ref', 'acronym',\n",
       "       'korean', 'speed', 'skills/teach', 'skincare', 'comparing_products',\n",
       "       'datetime', 'hour', 'day_of_week', 'month', 'year', 'day_name',\n",
       "       'engagement_rate', 'prime_time', 'cluster1', 'prime_time1',\n",
       "       'posting_time_category', 'prime_hour', 'hasAdinTitle', 'hasAdinText'],\n",
       "      dtype='object')"
      ]
     },
     "execution_count": 115,
     "metadata": {},
     "output_type": "execute_result"
    }
   ],
   "source": [
    "import pandas as pd\n",
    "import numpy as np\n",
    "import math \n",
    "df = pd.read_csv(r\"no_early_dates_90_days.csv\")\n",
    "df.columns"
   ]
  },
  {
   "cell_type": "code",
   "execution_count": 116,
   "id": "b78ff255-ca17-4f73-9d38-4e62f0e905df",
   "metadata": {},
   "outputs": [
    {
     "name": "stdout",
     "output_type": "stream",
     "text": [
      "2.915611299093363e-31\n",
      "11.606052343907693\n"
     ]
    }
   ],
   "source": [
    "#Creating the missing target variable\n",
    "df[\"engagement\"] = (df[\"likes\"] + df[\"commentsCount\"])  / (df[\"viewCount\"] + 1) \n",
    "\n",
    "#Now we run t-tests for each variable \n",
    "import scipy.stats as stats\n",
    "yes = df.loc[ df[\"korean\"] == 1]\n",
    "no = df.loc[ df[\"korean\"] == 0]\n",
    "t_stat, p_value = stats.ttest_ind( yes[\"views_per_subscriber\"], no[\"views_per_subscriber\"] ) \n",
    "print(p_value/2) #We are really doing a one-tailed t-test so we divide the p-value by 2. \n",
    "print(t_stat)\n",
    "#When t>0 we know that the \"yes\" group mean is greater than the \"no\" group mean. Otherwise, it's less than. "
   ]
  },
  {
   "cell_type": "code",
   "execution_count": 117,
   "id": "07f13021-8a88-4ac6-8714-5c1f3b544fef",
   "metadata": {},
   "outputs": [
    {
     "name": "stdout",
     "output_type": "stream",
     "text": [
      "0.018942233751125373\n",
      "-2.0763548560534826\n"
     ]
    }
   ],
   "source": [
    "yes = df.loc[ df[\"has_any_affiliate\"] == 1] \n",
    "no = df.loc[ df[\"has_any_affiliate\"] == 0] \n",
    "t_stat, p_value = stats.ttest_ind( yes[\"views_per_subscriber\"], no[\"views_per_subscriber\"] ) \n",
    "print(p_value/2) #We are really doing a one-tailed t-test so we divide the p-value by 2. \n",
    "print(t_stat)"
   ]
  },
  {
   "cell_type": "code",
   "execution_count": 118,
   "id": "538aca54-d4c7-406c-bb0e-6e0269ac20c8",
   "metadata": {},
   "outputs": [
    {
     "name": "stdout",
     "output_type": "stream",
     "text": [
      "0.22229268573268257\n",
      "0.7645008008755365\n"
     ]
    }
   ],
   "source": [
    "yes = df.loc[ df[\"acronym\"] == 1] \n",
    "no = df.loc[ df[\"acronym\"] == 0]\n",
    "t_stat, p_value = stats.ttest_ind( yes[\"views_per_subscriber\"], no[\"views_per_subscriber\"] ) \n",
    "print(p_value/2) #We are really doing a one-tailed t-test so we divide the p-value by 2. \n",
    "print(t_stat)"
   ]
  },
  {
   "cell_type": "code",
   "execution_count": 119,
   "id": "29bd1a9f-544c-4c97-9d77-654d50006719",
   "metadata": {},
   "outputs": [
    {
     "name": "stdout",
     "output_type": "stream",
     "text": [
      "2.340621006442661e-05\n",
      "4.072634310047421\n"
     ]
    }
   ],
   "source": [
    "yes = df.loc[ df[\"product\"] == 1] \n",
    "no = df.loc[ df[\"product\"] == 0]\n",
    "t_stat, p_value = stats.ttest_ind( yes[\"views_per_subscriber\"], no[\"views_per_subscriber\"] ) \n",
    "print(p_value/2) #We are really doing a one-tailed t-test so we divide the p-value by 2. \n",
    "print(t_stat)"
   ]
  },
  {
   "cell_type": "code",
   "execution_count": 120,
   "id": "680a7124-2d80-4597-880c-12196cb0b4a1",
   "metadata": {},
   "outputs": [
    {
     "name": "stdout",
     "output_type": "stream",
     "text": [
      "0.1407022115162404\n",
      "-1.0772773043171597\n"
     ]
    }
   ],
   "source": [
    "yes = df.loc[ df[\"hashtags\"] == 1] \n",
    "no = df.loc[ df[\"hashtags\"] == 0]\n",
    "t_stat, p_value = stats.ttest_ind( yes[\"views_per_subscriber\"], no[\"views_per_subscriber\"] ) \n",
    "print(p_value/2) #We are really doing a one-tailed t-test so we divide the p-value by 2. \n",
    "print(t_stat)"
   ]
  },
  {
   "cell_type": "code",
   "execution_count": 121,
   "id": "9d70d786-c9de-4545-9933-ce805cdbb424",
   "metadata": {},
   "outputs": [
    {
     "name": "stdout",
     "output_type": "stream",
     "text": [
      "2.8671283055588e-35\n",
      "-12.424712053167248\n"
     ]
    }
   ],
   "source": [
    "#Now for engagement \n",
    "yes = df.loc[ df[\"hashtags\"] == 1] \n",
    "no = df.loc[ df[\"hashtags\"] == 0] \n",
    "t_stat, p_value = stats.ttest_ind( yes[\"engagement\"], no[\"engagement\"] ) \n",
    "print(p_value/2) #We are really doing a one-tailed t-test so we divide the p-value by 2. \n",
    "print(t_stat)"
   ]
  },
  {
   "cell_type": "code",
   "execution_count": 122,
   "id": "a5d1620e-604b-4991-933a-aa5d1e6baf43",
   "metadata": {},
   "outputs": [
    {
     "name": "stdout",
     "output_type": "stream",
     "text": [
      "1.0912747645231904e-28\n",
      "-11.081598949068626\n"
     ]
    }
   ],
   "source": [
    "#Now for engagement \n",
    "yes = df.loc[ df[\"skincare\"] == 1] \n",
    "no = df.loc[ df[\"skincare\"] == 0] \n",
    "t_stat, p_value = stats.ttest_ind( yes[\"engagement\"], no[\"engagement\"] ) \n",
    "print(p_value/2) #We are really doing a one-tailed t-test so we divide the p-value by 2. \n",
    "print(t_stat)"
   ]
  },
  {
   "cell_type": "code",
   "execution_count": 123,
   "id": "c6c23069-bde8-4b59-8660-9055e4149993",
   "metadata": {},
   "outputs": [
    {
     "name": "stdout",
     "output_type": "stream",
     "text": [
      "0.0022624596295346766\n",
      "2.839630778160876\n"
     ]
    }
   ],
   "source": [
    "#Now for engagement \n",
    "yes = df.loc[ df[\"self_ref\"] == 1] \n",
    "no = df.loc[ df[\"self_ref\"] == 0] \n",
    "t_stat, p_value = stats.ttest_ind( yes[\"engagement\"], no[\"engagement\"] ) \n",
    "print(p_value/2) #We are really doing a one-tailed t-test so we divide the p-value by 2. \n",
    "print(t_stat)"
   ]
  },
  {
   "cell_type": "code",
   "execution_count": 124,
   "id": "468da885-dc28-41a6-9094-1df9624122bc",
   "metadata": {},
   "outputs": [
    {
     "name": "stdout",
     "output_type": "stream",
     "text": [
      "6.165838273994999e-05\n",
      "-3.840820459384414\n"
     ]
    }
   ],
   "source": [
    "#Now for engagement \n",
    "yes = df.loc[ df[\"product\"] == 1] \n",
    "no = df.loc[ df[\"product\"] == 0] \n",
    "t_stat, p_value = stats.ttest_ind( yes[\"engagement\"], no[\"engagement\"] ) \n",
    "print(p_value/2) #We are really doing a one-tailed t-test so we divide the p-value by 2. \n",
    "print(t_stat)"
   ]
  },
  {
   "cell_type": "code",
   "execution_count": 125,
   "id": "660b19dc-a961-45ea-a7d8-cedfed923ccc",
   "metadata": {},
   "outputs": [
    {
     "name": "stdout",
     "output_type": "stream",
     "text": [
      "6.220362098808018e-37\n",
      "-12.688319127539316\n"
     ]
    }
   ],
   "source": [
    "#Now for engagement \n",
    "yes = df.loc[ df[\"popular_brand\"] == 1] \n",
    "no = df.loc[ df[\"popular_brand\"] == 0] \n",
    "t_stat, p_value = stats.ttest_ind( yes[\"engagement\"], no[\"engagement\"] ) \n",
    "print(p_value/2) #We are really doing a one-tailed t-test so we divide the p-value by 2. \n",
    "print(t_stat)"
   ]
  },
  {
   "cell_type": "markdown",
   "id": "e9f47d87-109b-42a5-bbc2-19c239d22d3e",
   "metadata": {},
   "source": [
    "---Conclusions and Recommendations---\n",
    "\n",
    "With a significance level of alpha = 0.05, we found the following:\n",
    "\n",
    "1) Posts that contained a keyword for the \"korean\" keyword group had higher views/subscriber on average\n",
    "2) Posts that contained an affiliate link had lower views/subscriber on average\n",
    "3) Posts that contained a keyword from the \"product\" keyword group had higher views/subscriber on average\n",
    "\n",
    "1) Posts that contained a hashtag had lower engagement on average\n",
    "2) Posts that contained a keyword from the \"skincare\" keyword group had lower engagement on average\n",
    "3) Posts that contained a keyword from the \"self_ref\" keyword group had higher engagmeny on average\n",
    "4) Posts that contained a keyword from the \"product\" keyword group had lower engagement on average\n",
    "5) Posts that mentioned a populat brand had lower engagement on average. "
   ]
  }
 ],
 "metadata": {
  "kernelspec": {
   "display_name": "Python 3 (ipykernel)",
   "language": "python",
   "name": "python3"
  },
  "language_info": {
   "codemirror_mode": {
    "name": "ipython",
    "version": 3
   },
   "file_extension": ".py",
   "mimetype": "text/x-python",
   "name": "python",
   "nbconvert_exporter": "python",
   "pygments_lexer": "ipython3",
   "version": "3.12.4"
  }
 },
 "nbformat": 4,
 "nbformat_minor": 5
}
